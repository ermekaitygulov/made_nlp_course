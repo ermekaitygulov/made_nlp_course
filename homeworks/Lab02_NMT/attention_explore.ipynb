{
 "cells": [
  {
   "cell_type": "code",
   "execution_count": 19,
   "metadata": {
    "pycharm": {
     "name": "#%%\n"
    }
   },
   "outputs": [],
   "source": [
    "import random\n",
    "\n",
    "import numpy as np\n",
    "import yaml\n",
    "import torch\n",
    "from experiment import EXPERIMENT_CATALOG\n",
    "from utils import Task, get_text"
   ]
  },
  {
   "cell_type": "code",
   "execution_count": 2,
   "metadata": {
    "pycharm": {
     "name": "#%%\n"
    }
   },
   "outputs": [
    {
     "name": "stderr",
     "output_type": "stream",
     "text": [
      "/home/cherepaha/miniconda/envs/py37/lib/python3.7/site-packages/torchtext/data/field.py:150: UserWarning: Field class will be retired soon and moved to torchtext.legacy. Please see the most recent release notes for further information.\n",
      "  warnings.warn('{} class will be retired soon and moved to torchtext.legacy. Please see the most recent release notes for further information.'.format(self.__class__.__name__), UserWarning)\n",
      "/home/cherepaha/miniconda/envs/py37/lib/python3.7/site-packages/torchtext/data/example.py:68: UserWarning: Example class will be retired soon and moved to torchtext.legacy. Please see the most recent release notes for further information.\n",
      "  warnings.warn('Example class will be retired soon and moved to torchtext.legacy. Please see the most recent release notes for further information.', UserWarning)\n",
      "/home/cherepaha/miniconda/envs/py37/lib/python3.7/site-packages/torchtext/data/example.py:78: UserWarning: Example class will be retired soon and moved to torchtext.legacy. Please see the most recent release notes for further information.\n",
      "  warnings.warn('Example class will be retired soon and moved to torchtext.legacy. Please see the most recent release notes for further information.', UserWarning)\n",
      "/home/cherepaha/miniconda/envs/py37/lib/python3.7/site-packages/torchtext/data/iterator.py:48: UserWarning: BucketIterator class will be retired soon and moved to torchtext.legacy. Please see the most recent release notes for further information.\n",
      "  warnings.warn('{} class will be retired soon and moved to torchtext.legacy. Please see the most recent release notes for further information.'.format(self.__class__.__name__), UserWarning)\n"
     ]
    }
   ],
   "source": [
    "with open('configs/pretrain_baseline.yaml') as fin:\n",
    "    config = yaml.safe_load(fin)\n",
    "device = torch.device('cuda' if torch.cuda.is_available() else 'cpu')\n",
    "experiment = EXPERIMENT_CATALOG['pretrain_baseline'](config, device)\n"
   ]
  },
  {
   "cell_type": "code",
   "execution_count": 3,
   "metadata": {
    "pycharm": {
     "name": "#%%\n"
    }
   },
   "outputs": [
    {
     "data": {
      "text/plain": [
       "Seq2Seq(\n",
       "  (encoder): Encoder(\n",
       "    (embedding): Embedding(5851, 512)\n",
       "    (dropout): Dropout(p=0.5, inplace=False)\n",
       "    (rnn): LSTM(512, 256, num_layers=2, dropout=0.5)\n",
       "    (out): Linear(in_features=256, out_features=5851, bias=True)\n",
       "  )\n",
       "  (decoder): AttnDecoder(\n",
       "    (embedding): Embedding(4244, 512)\n",
       "    (dropout): Dropout(p=0.5, inplace=False)\n",
       "    (rnn): LSTM(512, 256, num_layers=2, dropout=0.5)\n",
       "    (attention): Attention(\n",
       "      (attn_combine): Linear(in_features=512, out_features=256, bias=True)\n",
       "      (tanh): Tanh()\n",
       "    )\n",
       "    (out): Linear(in_features=256, out_features=4244, bias=True)\n",
       "  )\n",
       ")"
      ]
     },
     "execution_count": 3,
     "metadata": {},
     "output_type": "execute_result"
    }
   ],
   "source": [
    "model = experiment.model\n",
    "test_iter = experiment.task.test\n",
    "model.eval()"
   ]
  },
  {
   "cell_type": "code",
   "execution_count": 4,
   "metadata": {
    "pycharm": {
     "name": "#%%\n"
    }
   },
   "outputs": [],
   "source": [
    "src_str = experiment.source.tokenize('В стильном ресторане отеля подают блюда средиземноморской кухни из органических местных продуктов.')\n",
    "src = experiment.source.process([src_str]).to(device)\n",
    "trg_str = experiment.target.tokenize('Organic, locally sourced ingredients are blended in the Mediterranean dishes of its stylish restaurant.')\n",
    "trg = experiment.target.process([trg_str]).to(device)"
   ]
  },
  {
   "cell_type": "code",
   "execution_count": 16,
   "metadata": {
    "pycharm": {
     "name": "#%%\n"
    }
   },
   "outputs": [],
   "source": [
    "batch_size = 1\n",
    "max_len = trg.shape[0]\n",
    "trg_vocab_size = model.decoder.output_dim\n",
    "\n",
    "# tensor to store decoder outputs\n",
    "outputs = torch.zeros(max_len, batch_size, trg_vocab_size).to(device)\n",
    "\n",
    "# last hidden state of the encoder is used as the initial hidden state of the decoder\n",
    "enc_output = model.encoder(src)\n",
    "enc_outputs, hidden, cell = enc_output['rnn_out'], enc_output['rnn_hidden'], enc_output['rnn_cell']\n",
    "\n",
    "# first input to the decoder is the <sos> tokens\n",
    "dec_input = trg[0, :]\n",
    "attn_list = []\n",
    "for t in range(1, max_len):\n",
    "    dec_output = model.decoder(dec_input, hidden, cell, enc_outputs)\n",
    "    output, hidden, cell = dec_output['prediction'], dec_output['rnn_hidden'], dec_output['rnn_cell']\n",
    "    attn_list.append(dec_output['attention_map'].cpu().detach().numpy()[0])\n",
    "    outputs[t] = output\n",
    "    teacher_force = random.random() < 0.\n",
    "    top1 = output.max(1)[1]\n",
    "    dec_input = (top1 if teacher_force else trg[t])"
   ]
  },
  {
   "cell_type": "code",
   "execution_count": 17,
   "metadata": {},
   "outputs": [],
   "source": [
    "attn_list = np.array(attn_list)"
   ]
  },
  {
   "cell_type": "code",
   "execution_count": 18,
   "metadata": {
    "pycharm": {
     "name": "#%%\n"
    }
   },
   "outputs": [
    {
     "name": "stdout",
     "output_type": "stream",
     "text": [
      "target\t\ttop1\t\ttop2\t\ttop3\n",
      "<sos>\t\tкухни\t\tподают\t\tблюда\n",
      "organic\t\tорганических\t\tиз\t\tкухни\n",
      ",\t\tорганических\t\tкухни\t\tместных\n",
      "locally\t\tпродуктов\t\tорганических\t\tместных\n",
      "sourced\t\tкухни\t\tорганических\t\tместных\n",
      "ingredients\t\tпродуктов\t\tместных\t\tорганических\n",
      "are\t\t.\t\tпродуктов\t\tкухни\n",
      "blended\t\t.\t\tпродуктов\t\tотеля\n",
      "in\t\tподают\t\tресторане\t\tотеля\n",
      "the\t\tресторане\t\tподают\t\tотеля\n",
      "mediterranean\t\tблюда\t\tподают\t\tотеля\n",
      "dishes\t\tблюда\t\tподают\t\tотеля\n",
      "of\t\tкухни\t\tподают\t\tотеля\n",
      "its\t\tблюда\t\tподают\t\tотеля\n",
      "stylish\t\tотеля\t\tподают\t\tблюда\n",
      "restaurant\t\t<eos>\t\tподают\t\tотеля\n",
      ".\t\t.\t\tкухни\t\t<eos>\n"
     ]
    }
   ],
   "source": [
    "src_os = ['<sos>', *src_str, '<eos>']\n",
    "trg_os = ['<sos>', *trg_str, '<eos>']\n",
    "print('target', 'top1', 'top2', 'top3', sep='\\t\\t')\n",
    "for i, attn_mask in enumerate(attn_list[:, :, 1]):\n",
    "    top_n = attn_mask.argsort()[-3:]\n",
    "    print(trg_os[i], *[src_os[j] for j in top_n], sep='\\t\\t')\n",
    "# [(trg_os[i], src_os[attn]) for i, attn in enumerate(np.argmax(a, axis=1)[:, 1])]"
   ]
  },
  {
   "cell_type": "code",
   "execution_count": 35,
   "metadata": {},
   "outputs": [
    {
     "name": "stderr",
     "output_type": "stream",
     "text": [
      "/home/cherepaha/miniconda/envs/py37/lib/python3.7/site-packages/torchtext/data/batch.py:23: UserWarning: Batch class will be retired soon and moved to torchtext.legacy. Please see the most recent release notes for further information.\n",
      "  warnings.warn('{} class will be retired soon and moved to torchtext.legacy. Please see the most recent release notes for further information.'.format(self.__class__.__name__), UserWarning)\n"
     ]
    }
   ],
   "source": [
    "original_text = []\n",
    "generated_text = []\n",
    "source_text = []\n",
    "source_vocab = experiment.source.vocab \n",
    "target_vocab = experiment.target.vocab\n",
    "with torch.no_grad():\n",
    "    for i, batch in enumerate(test_iter):\n",
    "        src = batch.src\n",
    "        trg = batch.trg\n",
    "\n",
    "        output = model(src, trg, 1.)  # turn on teacher forcing\n",
    "\n",
    "        # trg = [trg sent len, batch size]\n",
    "        # output = [trg sent len, batch size, output dim]\n",
    "        output = output.argmax(dim=-1)\n",
    "\n",
    "        original_text.extend([get_text(x, target_vocab) for x in trg.cpu().numpy().T])\n",
    "        generated_text.extend([get_text(x, target_vocab) for x in output[1:].detach().cpu().numpy().T])\n",
    "        source_text.extend([get_text(x, source_vocab) for x in src.cpu().numpy().T])"
   ]
  },
  {
   "cell_type": "code",
   "execution_count": 37,
   "metadata": {},
   "outputs": [
    {
     "name": "stdout",
     "output_type": "stream",
     "text": [
      "Source: гости смогут приготовить барбекю на открытом воздухе и приятно посидеть в беседке , а также сыграть в настольный теннис в комнате для игр с стойкой .\n",
      "Original: enjoy a meal using the bbq facilities , located outdoors in the covered . you can play table tennis in the games room , which also features a built - in bar .\n",
      "Generated: guests can enjoy a the outdoor pool and table tennis , and table tennis at the lobby and , and the lobby room .\n",
      "Source: во всех апартаментах и номерах есть телевизор со спутниковыми каналами , гостиный уголок и ванная комната с душем или ванной .\n",
      "Original: the accommodation units feature a satellite tv . each unit has a bathroom with a shower or a bath .\n",
      "Generated: all units feature a satellite tv , a seating area and a private bathroom with a bath or shower .\n",
      "Source: отель расположен на - стрит в и располагает ресторанами , баром и фитнес - центром .\n",
      "Original: on dublin ’ s street , the has fantastic restaurants , a bar and a fitness suite .\n",
      "Generated: located on the of , , a fitness centre and a fitness centre .\n"
     ]
    }
   ],
   "source": [
    "sample_i = random.sample(range(len(original_text)), 3)\n",
    "for i in sample_i:\n",
    "    print('Source:', ' '.join(source_text[i]))\n",
    "    print('Original:', ' '.join(original_text[i]))\n",
    "    print('Generated:', ' '.join(generated_text[i]))"
   ]
  }
 ],
 "metadata": {
  "kernelspec": {
   "display_name": "Python 3",
   "language": "python",
   "name": "python3"
  },
  "language_info": {
   "codemirror_mode": {
    "name": "ipython",
    "version": 3
   },
   "file_extension": ".py",
   "mimetype": "text/x-python",
   "name": "python",
   "nbconvert_exporter": "python",
   "pygments_lexer": "ipython3",
   "version": "3.7.3"
  }
 },
 "nbformat": 4,
 "nbformat_minor": 1
}
