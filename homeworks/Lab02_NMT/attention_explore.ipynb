{
 "cells": [
  {
   "cell_type": "code",
   "execution_count": 48,
   "metadata": {
    "collapsed": true,
    "pycharm": {
     "name": "#%%\n"
    }
   },
   "outputs": [],
   "source": [
    "import random\n",
    "\n",
    "import numpy as np\n",
    "import yaml\n",
    "import torch\n",
    "from experiment import EXPERIMENT_CATALOG"
   ]
  },
  {
   "cell_type": "code",
   "execution_count": 2,
   "outputs": [
    {
     "name": "stderr",
     "output_type": "stream",
     "text": [
      "/home/cherepaha/miniconda/envs/py37/lib/python3.7/site-packages/torchtext/data/field.py:150: UserWarning: Field class will be retired soon and moved to torchtext.legacy. Please see the most recent release notes for further information.\n",
      "  warnings.warn('{} class will be retired soon and moved to torchtext.legacy. Please see the most recent release notes for further information.'.format(self.__class__.__name__), UserWarning)\n",
      "/home/cherepaha/miniconda/envs/py37/lib/python3.7/site-packages/torchtext/data/example.py:68: UserWarning: Example class will be retired soon and moved to torchtext.legacy. Please see the most recent release notes for further information.\n",
      "  warnings.warn('Example class will be retired soon and moved to torchtext.legacy. Please see the most recent release notes for further information.', UserWarning)\n",
      "/home/cherepaha/miniconda/envs/py37/lib/python3.7/site-packages/torchtext/data/example.py:78: UserWarning: Example class will be retired soon and moved to torchtext.legacy. Please see the most recent release notes for further information.\n",
      "  warnings.warn('Example class will be retired soon and moved to torchtext.legacy. Please see the most recent release notes for further information.', UserWarning)\n",
      "/home/cherepaha/miniconda/envs/py37/lib/python3.7/site-packages/torchtext/data/iterator.py:48: UserWarning: BucketIterator class will be retired soon and moved to torchtext.legacy. Please see the most recent release notes for further information.\n",
      "  warnings.warn('{} class will be retired soon and moved to torchtext.legacy. Please see the most recent release notes for further information.'.format(self.__class__.__name__), UserWarning)\n"
     ]
    }
   ],
   "source": [
    "with open('configs/pretrain_baseline.yaml') as fin:\n",
    "    config = yaml.safe_load(fin)\n",
    "device = torch.device('cuda' if torch.cuda.is_available() else 'cpu')\n",
    "experiment = EXPERIMENT_CATALOG['pretrain_baseline'](config, device)\n"
   ],
   "metadata": {
    "collapsed": false,
    "pycharm": {
     "name": "#%%\n"
    }
   }
  },
  {
   "cell_type": "code",
   "execution_count": 3,
   "outputs": [
    {
     "data": {
      "text/plain": "Seq2Seq(\n  (encoder): Encoder(\n    (embedding): Embedding(5851, 256)\n    (dropout): Dropout(p=0.5, inplace=False)\n    (rnn): LSTM(256, 256, num_layers=2, dropout=0.5)\n    (out): Linear(in_features=256, out_features=5851, bias=True)\n  )\n  (attention): Attention(\n    (attn_combine): Linear(in_features=512, out_features=256, bias=True)\n  )\n  (decoder): Decoder(\n    (embedding): Embedding(4244, 256)\n    (dropout): Dropout(p=0.5, inplace=False)\n    (rnn): LSTM(256, 256, num_layers=2, dropout=0.5)\n    (out): Linear(in_features=256, out_features=4244, bias=True)\n  )\n)"
     },
     "execution_count": 3,
     "metadata": {},
     "output_type": "execute_result"
    }
   ],
   "source": [
    "model = experiment.model\n",
    "test_iter = experiment.task.test\n",
    "model.eval()"
   ],
   "metadata": {
    "collapsed": false,
    "pycharm": {
     "name": "#%%\n"
    }
   }
  },
  {
   "cell_type": "code",
   "execution_count": 70,
   "outputs": [],
   "source": [
    "src_str = experiment.source.tokenize('В стильном ресторане отеля подают блюда средиземноморской кухни из органических местных продуктов.')\n",
    "src = experiment.source.process([src_str]).to(device)\n",
    "trg_str = experiment.target.tokenize('Organic, locally sourced ingredients are blended in the Mediterranean dishes of its stylish restaurant.')\n",
    "trg = experiment.target.process([trg_str]).to(device)"
   ],
   "metadata": {
    "collapsed": false,
    "pycharm": {
     "name": "#%%\n"
    }
   }
  },
  {
   "cell_type": "code",
   "execution_count": 71,
   "outputs": [],
   "source": [
    "batch_size = 1\n",
    "max_len = trg.shape[0]\n",
    "trg_vocab_size = model.decoder.output_dim\n",
    "\n",
    "# tensor to store decoder outputs\n",
    "outputs = torch.zeros(max_len, batch_size, trg_vocab_size).to(device)\n",
    "\n",
    "# last hidden state of the encoder is used as the initial hidden state of the decoder\n",
    "_, enc_outputs, hidden, cell = model.encoder(src)\n",
    "\n",
    "# first input to the decoder is the <sos> tokens\n",
    "dec_input = trg[0, :]\n",
    "attn_list = []\n",
    "for t in range(1, max_len):\n",
    "    output, hidden, cell = model.decoder(dec_input, hidden, cell)\n",
    "    hidden, attn_scores = model.attention(enc_outputs, hidden, return_map=True)\n",
    "    attn_list.append(attn_scores)\n",
    "    outputs[t] = output\n",
    "    teacher_force = random.random() < 0.\n",
    "    top1 = output.max(1)[1]\n",
    "    dec_input = (top1 if teacher_force else trg[t])"
   ],
   "metadata": {
    "collapsed": false,
    "pycharm": {
     "name": "#%%\n"
    }
   }
  },
  {
   "cell_type": "code",
   "execution_count": 72,
   "outputs": [
    {
     "data": {
      "text/plain": "17"
     },
     "execution_count": 72,
     "metadata": {},
     "output_type": "execute_result"
    }
   ],
   "source": [
    "len(attn_list)"
   ],
   "metadata": {
    "collapsed": false,
    "pycharm": {
     "name": "#%%\n"
    }
   }
  },
  {
   "cell_type": "code",
   "execution_count": 73,
   "outputs": [
    {
     "data": {
      "text/plain": "16"
     },
     "execution_count": 73,
     "metadata": {},
     "output_type": "execute_result"
    }
   ],
   "source": [
    "len(trg_str)"
   ],
   "metadata": {
    "collapsed": false,
    "pycharm": {
     "name": "#%%\n"
    }
   }
  },
  {
   "cell_type": "code",
   "execution_count": 74,
   "outputs": [],
   "source": [
    "a = [attn.to('cpu').detach().numpy()[0] for attn in attn_list]"
   ],
   "metadata": {
    "collapsed": false,
    "pycharm": {
     "name": "#%%\n"
    }
   }
  },
  {
   "cell_type": "code",
   "execution_count": 75,
   "outputs": [],
   "source": [
    "a = np.array(a)"
   ],
   "metadata": {
    "collapsed": false,
    "pycharm": {
     "name": "#%%\n"
    }
   }
  },
  {
   "cell_type": "code",
   "execution_count": 76,
   "outputs": [
    {
     "data": {
      "text/plain": "[('<sos>', '.'),\n ('organic', '.'),\n (',', '.'),\n ('locally', '.'),\n ('sourced', '.'),\n ('ingredients', 'ресторане'),\n ('are', 'ресторане'),\n ('blended', 'подают'),\n ('in', 'подают'),\n ('the', 'органических'),\n ('mediterranean', 'органических'),\n ('dishes', 'органических'),\n ('of', '<eos>'),\n ('its', 'подают'),\n ('stylish', 'подают'),\n ('restaurant', '<eos>'),\n ('.', '<eos>')]"
     },
     "execution_count": 76,
     "metadata": {},
     "output_type": "execute_result"
    }
   ],
   "source": [
    "src_os = ['<sos>', *src_str, '<eos>']\n",
    "trg_os = ['<sos>', *trg_str, '<eos>']\n",
    "[(trg_os[i], src_os[attn]) for i, attn in enumerate(np.argmax(a, axis=1)[:, 1])]"
   ],
   "metadata": {
    "collapsed": false,
    "pycharm": {
     "name": "#%%\n"
    }
   }
  },
  {
   "cell_type": "code",
   "execution_count": 77,
   "outputs": [
    {
     "data": {
      "text/plain": "['в',\n 'стильном',\n 'ресторане',\n 'отеля',\n 'подают',\n 'блюда',\n 'средиземноморской',\n 'кухни',\n 'из',\n 'органических',\n 'местных',\n 'продуктов',\n '.']"
     },
     "execution_count": 77,
     "metadata": {},
     "output_type": "execute_result"
    }
   ],
   "source": [
    "src_str"
   ],
   "metadata": {
    "collapsed": false,
    "pycharm": {
     "name": "#%%\n"
    }
   }
  },
  {
   "cell_type": "code",
   "execution_count": 66,
   "outputs": [
    {
     "data": {
      "text/plain": "12"
     },
     "execution_count": 66,
     "metadata": {},
     "output_type": "execute_result"
    }
   ],
   "source": [
    "src_str"
   ],
   "metadata": {
    "collapsed": false,
    "pycharm": {
     "name": "#%%\n"
    }
   }
  },
  {
   "cell_type": "code",
   "execution_count": null,
   "outputs": [],
   "source": [],
   "metadata": {
    "collapsed": false,
    "pycharm": {
     "name": "#%%\n"
    }
   }
  }
 ],
 "metadata": {
  "kernelspec": {
   "display_name": "Python 3",
   "language": "python",
   "name": "python3"
  },
  "language_info": {
   "codemirror_mode": {
    "name": "ipython",
    "version": 2
   },
   "file_extension": ".py",
   "mimetype": "text/x-python",
   "name": "python",
   "nbconvert_exporter": "python",
   "pygments_lexer": "ipython2",
   "version": "2.7.6"
  }
 },
 "nbformat": 4,
 "nbformat_minor": 0
}