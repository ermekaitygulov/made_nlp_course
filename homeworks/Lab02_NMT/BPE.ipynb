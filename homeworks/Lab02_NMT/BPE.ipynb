{
 "cells": [
  {
   "cell_type": "code",
   "execution_count": 6,
   "metadata": {},
   "outputs": [],
   "source": [
    "import pandas as pd\n",
    "import csv\n",
    "import youtokentome as yttm\n",
    "from torchtext.data import Field, TabularDataset, BucketIterator\n",
    "import random"
   ]
  },
  {
   "cell_type": "code",
   "execution_count": 4,
   "metadata": {},
   "outputs": [],
   "source": [
    "data_path = '../../datasets/Machine_translation_EN_RU/data.txt'\n",
    "en_path = '../../datasets/Machine_translation_EN_RU/en_data.txt'\n",
    "ru_path = '../../datasets/Machine_translation_EN_RU/ru_data.txt'\n",
    "en_model_path = 'configs/en_bpe'\n",
    "ru_model_path = 'configs/ru_bpe'\n",
    "df = pd.read_csv(data_path, delimiter='\\t', header=None)"
   ]
  },
  {
   "cell_type": "code",
   "execution_count": 12,
   "metadata": {},
   "outputs": [],
   "source": [
    "target = Field(init_token='<sos>',\n",
    "               eos_token='<eos>',\n",
    "               lower=True)\n",
    "source = Field(\n",
    "    init_token='<sos>',\n",
    "    eos_token='<eos>',\n",
    "    lower=True\n",
    ")"
   ]
  },
  {
   "cell_type": "code",
   "execution_count": 13,
   "metadata": {},
   "outputs": [],
   "source": [
    "dataset = TabularDataset(\n",
    "            path=data_path,\n",
    "            format='tsv',\n",
    "            fields=[('trg', target), ('src', source)]\n",
    "        )"
   ]
  },
  {
   "cell_type": "code",
   "execution_count": 14,
   "metadata": {},
   "outputs": [],
   "source": [
    "random.seed(42)\n",
    "random_state = random.getstate()\n",
    "train_data, valid_data, test_data = dataset.split(split_ratio=[0.8, 0.15, 0.05], random_state=random_state)"
   ]
  },
  {
   "cell_type": "code",
   "execution_count": 17,
   "metadata": {},
   "outputs": [],
   "source": [
    "a = train_data.examples[0]"
   ]
  },
  {
   "cell_type": "code",
   "execution_count": 22,
   "metadata": {},
   "outputs": [
    {
     "data": {
      "text/plain": [
       "['the', 'apartment', 'is', '1.9', 'km', 'from', 'trinity', 'cathedral.']"
      ]
     },
     "execution_count": 22,
     "metadata": {},
     "output_type": "execute_result"
    }
   ],
   "source": [
    "a.trg"
   ]
  },
  {
   "cell_type": "code",
   "execution_count": 23,
   "metadata": {},
   "outputs": [],
   "source": [
    "ru_data = []\n",
    "en_data = []\n",
    "for exm in train_data.examples:\n",
    "    ru_data.append(' '.join(exm.src))\n",
    "    en_data.append(' '.join(exm.trg))"
   ]
  },
  {
   "cell_type": "code",
   "execution_count": 26,
   "metadata": {},
   "outputs": [],
   "source": [
    "with open(ru_path, 'w') as fout:\n",
    "    fout.write('\\n'.join(ru_data))\n",
    "    \n",
    "with open(en_path, 'w') as fout:\n",
    "    fout.write('\\n'.join(en_data))"
   ]
  },
  {
   "cell_type": "code",
   "execution_count": 27,
   "metadata": {},
   "outputs": [],
   "source": [
    "en_bpe = yttm.BPE.train(data=en_path, vocab_size=5000, model=en_model_path)\n",
    "ru_bpe = yttm.BPE.train(data=ru_path, vocab_size=5000, model=ru_model_path)"
   ]
  },
  {
   "cell_type": "code",
   "execution_count": 29,
   "metadata": {},
   "outputs": [
    {
     "name": "stdout",
     "output_type": "stream",
     "text": [
      "[['▁отель', '▁cor', 'd', 'el', 'ia', '▁расположен', '▁в', '▁тбилиси', ',', '▁в', '▁3', '▁минутах', '▁ходьбы', '▁от', '▁свя', 'то', '-', 'тро', 'и', 'ц', 'кого', '▁собо', 'ра.']]\n",
      "[[367, 3077, 50, 574, 934, 308, 175, 4025, 30, 175, 426, 378, 532, 190, 1813, 226, 36, 1148, 11, 37, 4128, 1778, 1241]]\n"
     ]
    }
   ],
   "source": [
    "ru_test = 'Отель Cordelia расположен в Тбилиси, в 3 минутах ходьбы от Свято-Троицкого собора.'\n",
    "en_test = 'Cordelia Hotel is situated in Tbilisi, a 3-minute walk away from Saint Trinity Church.'\n",
    "print(ru_bpe.encode([ru_test.lower()], output_type=yttm.OutputType.SUBWORD))\n",
    "print(ru_bpe.encode([ru_test.lower()]))"
   ]
  },
  {
   "cell_type": "code",
   "execution_count": null,
   "metadata": {},
   "outputs": [],
   "source": []
  }
 ],
 "metadata": {
  "kernelspec": {
   "display_name": "Python 3",
   "language": "python",
   "name": "python3"
  },
  "language_info": {
   "codemirror_mode": {
    "name": "ipython",
    "version": 3
   },
   "file_extension": ".py",
   "mimetype": "text/x-python",
   "name": "python",
   "nbconvert_exporter": "python",
   "pygments_lexer": "ipython3",
   "version": "3.7.3"
  }
 },
 "nbformat": 4,
 "nbformat_minor": 4
}
