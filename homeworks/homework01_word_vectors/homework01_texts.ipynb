{
 "cells": [
  {
   "cell_type": "markdown",
   "metadata": {},
   "source": [
    "## Homework 01. Simple text processing."
   ]
  },
  {
   "cell_type": "code",
   "execution_count": 1,
   "metadata": {},
   "outputs": [],
   "source": [
    "import numpy as np\n",
    "import matplotlib.pyplot as plt\n",
    "%matplotlib inline\n",
    "import pandas as pd\n",
    "from IPython import display\n",
    "\n",
    "#my imports\n",
    "from collections import Counter\n",
    "from ipywidgets import interact, fixed\n",
    "from sklearn.preprocessing import normalize\n",
    "from sklearn.naive_bayes import MultinomialNB\n",
    "from collections import deque\n",
    "from utils import BagOfWords, TFiDF, TextVectorizer"
   ]
  },
  {
   "cell_type": "code",
   "execution_count": 39,
   "metadata": {},
   "outputs": [],
   "source": [
    "device = torch.device(\"cuda:0\" if torch.cuda.is_available() else \"cpu\")"
   ]
  },
  {
   "cell_type": "markdown",
   "metadata": {},
   "source": [
    "### Toxic or not\n",
    "Your main goal in this assignment is to classify, whether the comments are toxic or not. And practice with both classical approaches and PyTorch in the process.\n",
    "\n",
    "*Credits: This homework is inspired by YSDA NLP_course.*\n",
    "\n",
    "*Disclaimer: The used dataset may contain obscene language and is used only as an example of real unfiltered data.*"
   ]
  },
  {
   "cell_type": "code",
   "execution_count": 2,
   "metadata": {},
   "outputs": [],
   "source": [
    "# In colab uncomment this cell\n",
    "# ! wget https://raw.githubusercontent.com/neychev/made_nlp_course/master/homeworks/homework01/utils.py -nc"
   ]
  },
  {
   "cell_type": "code",
   "execution_count": 3,
   "metadata": {},
   "outputs": [
    {
     "name": "stdout",
     "output_type": "stream",
     "text": [
      "File ‘comments.tsv’ already there; not retrieving.\r\n",
      "\r\n"
     ]
    }
   ],
   "source": [
    "try:\n",
    "    data = pd.read_csv('../../datasets/comments_small_dataset/comments.tsv', sep='\\t')\n",
    "except FileNotFoundError:\n",
    "    ! wget https://raw.githubusercontent.com/neychev/made_nlp_course/master/datasets/comments_small_dataset/comments.tsv -nc\n",
    "    data = pd.read_csv(\"comments.tsv\", sep='\\t')"
   ]
  },
  {
   "cell_type": "code",
   "execution_count": 4,
   "metadata": {},
   "outputs": [
    {
     "data": {
      "text/html": [
       "<div>\n",
       "<style scoped>\n",
       "    .dataframe tbody tr th:only-of-type {\n",
       "        vertical-align: middle;\n",
       "    }\n",
       "\n",
       "    .dataframe tbody tr th {\n",
       "        vertical-align: top;\n",
       "    }\n",
       "\n",
       "    .dataframe thead th {\n",
       "        text-align: right;\n",
       "    }\n",
       "</style>\n",
       "<table border=\"1\" class=\"dataframe\">\n",
       "  <thead>\n",
       "    <tr style=\"text-align: right;\">\n",
       "      <th></th>\n",
       "      <th>should_ban</th>\n",
       "      <th>comment_text</th>\n",
       "    </tr>\n",
       "  </thead>\n",
       "  <tbody>\n",
       "    <tr>\n",
       "      <th>50</th>\n",
       "      <td>0</td>\n",
       "      <td>\"Those who're in advantageous positions are th...</td>\n",
       "    </tr>\n",
       "    <tr>\n",
       "      <th>250</th>\n",
       "      <td>1</td>\n",
       "      <td>Fartsalot56 says f**k you motherclucker!!</td>\n",
       "    </tr>\n",
       "    <tr>\n",
       "      <th>450</th>\n",
       "      <td>1</td>\n",
       "      <td>Are you a fool? \\n\\nI am sorry, but you seem t...</td>\n",
       "    </tr>\n",
       "    <tr>\n",
       "      <th>650</th>\n",
       "      <td>1</td>\n",
       "      <td>I AM NOT A VANDAL!!!!!!!!!!!!!!!!!!!!!!!!!!!!!!</td>\n",
       "    </tr>\n",
       "    <tr>\n",
       "      <th>850</th>\n",
       "      <td>0</td>\n",
       "      <td>Citing sources\\n\\nCheck out the Wikipedia:Citi...</td>\n",
       "    </tr>\n",
       "  </tbody>\n",
       "</table>\n",
       "</div>"
      ],
      "text/plain": [
       "     should_ban                                       comment_text\n",
       "50            0  \"Those who're in advantageous positions are th...\n",
       "250           1          Fartsalot56 says f**k you motherclucker!!\n",
       "450           1  Are you a fool? \\n\\nI am sorry, but you seem t...\n",
       "650           1    I AM NOT A VANDAL!!!!!!!!!!!!!!!!!!!!!!!!!!!!!!\n",
       "850           0  Citing sources\\n\\nCheck out the Wikipedia:Citi..."
      ]
     },
     "execution_count": 4,
     "metadata": {},
     "output_type": "execute_result"
    }
   ],
   "source": [
    "texts = data['comment_text'].values\n",
    "target = data['should_ban'].values\n",
    "data[50::200]"
   ]
  },
  {
   "cell_type": "code",
   "execution_count": 5,
   "metadata": {},
   "outputs": [],
   "source": [
    "from sklearn.model_selection import train_test_split\n",
    "texts_train, texts_test, y_train, y_test = train_test_split(texts, target, test_size=0.5, random_state=42)"
   ]
  },
  {
   "cell_type": "markdown",
   "metadata": {},
   "source": [
    "__Note:__ it is generally a good idea to split data into train/test before anything is done to them.\n",
    "\n",
    "It guards you against possible data leakage in the preprocessing stage. For example, should you decide to select words present in obscene tweets as features, you should only count those words over the training set. Otherwise your algoritm can cheat evaluation."
   ]
  },
  {
   "cell_type": "markdown",
   "metadata": {},
   "source": [
    "### Preprocessing and tokenization\n",
    "\n",
    "Comments contain raw text with punctuation, upper/lowercase letters and even newline symbols.\n",
    "\n",
    "To simplify all further steps, we'll split text into space-separated tokens using one of nltk tokenizers.\n",
    "\n",
    "Generally, library `nltk` [link](https://www.nltk.org) is widely used in NLP. It is not necessary in here, but mentioned to intoduce it to you."
   ]
  },
  {
   "cell_type": "code",
   "execution_count": 6,
   "metadata": {},
   "outputs": [
    {
     "name": "stdout",
     "output_type": "stream",
     "text": [
      "before: How to be a grown-up at work: replace \"I don't want to do that\" with \"Ok, great!\".\n",
      "after: how to be a grown-up at work : replace \" i don't want to do that \" with \" ok , great ! \" .\n"
     ]
    }
   ],
   "source": [
    "from nltk.tokenize import TweetTokenizer\n",
    "tokenizer = TweetTokenizer()\n",
    "preprocess = lambda text: ' '.join(tokenizer.tokenize(text.lower()))\n",
    "\n",
    "text = 'How to be a grown-up at work: replace \"I don\\'t want to do that\" with \"Ok, great!\".'\n",
    "print(\"before:\", text,)\n",
    "print(\"after:\", preprocess(text),)"
   ]
  },
  {
   "cell_type": "code",
   "execution_count": 7,
   "metadata": {},
   "outputs": [],
   "source": [
    "# task: preprocess each comment in train and test\n",
    "preprocess = np.vectorize(preprocess)\n",
    "texts_train = preprocess(texts_train)\n",
    "texts_test = preprocess(texts_test)"
   ]
  },
  {
   "cell_type": "code",
   "execution_count": 8,
   "metadata": {},
   "outputs": [],
   "source": [
    "# Small check that everything is done properly\n",
    "assert texts_train[5] ==  'who cares anymore . they attack with impunity .'\n",
    "assert texts_test[89] == 'hey todds ! quick q ? why are you so gay'\n",
    "assert len(texts_test) == len(y_test)"
   ]
  },
  {
   "cell_type": "markdown",
   "metadata": {},
   "source": [
    "### Step 1: bag of words\n",
    "\n",
    "One traditional approach to such problem is to use bag of words features:\n",
    "1. build a vocabulary of frequent words (use train data only)\n",
    "2. for each training sample, count the number of times a word occurs in it (for each word in vocabulary).\n",
    "3. consider this count a feature for some classifier\n",
    "\n",
    "__Note:__ in practice, you can compute such features using sklearn. __Please don't do that in the current assignment, though.__\n",
    "* `from sklearn.feature_extraction.text import CountVectorizer, TfidfVectorizer`"
   ]
  },
  {
   "cell_type": "code",
   "execution_count": 9,
   "metadata": {},
   "outputs": [
    {
     "name": "stdout",
     "output_type": "stream",
     "text": [
      "example features: ['!', '12:20', '300', '_', 'adorned', 'alternative', 'archive', 'average', 'benkner', 'bout', 'came', 'chest', 'combined', 'consumers', 'cricket', 'decisions', 'dickheads', 'domestic', 'eductaion', 'essentially', 'faggot', 'firms', 'frustrated', 'goal', 'hanibal', 'hip-hop', 'identified', 'infoboxes', 'issue', 'kindergarten', 'lets', 'lot', \"mclaren's\", 'moderator', 'naturally', 'noticeable', 'opposing', 'pdf', 'plant', 'pretoria', 'punctuation', 'rebels', 'repetative', 'riadh', 'schulz', 'shes', 'slit', 'spoof', 'stupid', 't', 'theoretical', 'topic', 'uglyness', 'userspace', 'wanted', 'wikieditor', 'year', '←']\n"
     ]
    }
   ],
   "source": [
    "# task: find up to k most frequent tokens in texts_train,\n",
    "# sort them by number of occurences (highest first)\n",
    "k = min(10000, len(set(' '.join(texts_train).split())))\n",
    "\n",
    "\n",
    "# class BagOfWords:\n",
    "#     def __init__(self, dataset):\n",
    "#         self.word_counter = Counter()\n",
    "#         for text in dataset:\n",
    "#             self.word_counter.update(Counter(text.split()))\n",
    "#         self.vocabulary = list(self.word_counter.keys())\n",
    "    \n",
    "#     def set_k(self, top_k=None):\n",
    "#         top_k = top_k or len(self.word_counter)\n",
    "#         self.vocabulary = self.word_counter.most_common(top_k)\n",
    "#         self.vocabulary = [word for word, _ in self.vocabulary]\n",
    "        \n",
    "#     def transform(self, text):\n",
    "#         text_counter = Counter(text.split())\n",
    "#         freq_feature = [text_counter[word] for word in self.vocabulary]\n",
    "#         return np.array(freq_feature, 'float32')\n",
    "    \n",
    "\n",
    "bow = BagOfWords(texts_train, max_feat=k)\n",
    "bow_vocabulary = bow.vocabulary\n",
    "\n",
    "print('example features:', sorted(bow_vocabulary)[::100])"
   ]
  },
  {
   "cell_type": "code",
   "execution_count": 10,
   "metadata": {},
   "outputs": [],
   "source": [
    "X_train_bow = np.stack(list(map(bow.transform, texts_train)))\n",
    "X_test_bow = np.stack(list(map(bow.transform, texts_test)))"
   ]
  },
  {
   "cell_type": "code",
   "execution_count": 11,
   "metadata": {},
   "outputs": [],
   "source": [
    "# Small check that everything is done properly\n",
    "k_max = len(set(' '.join(texts_train).split()))\n",
    "assert X_train_bow.shape == (len(texts_train), min(k, k_max))\n",
    "assert X_test_bow.shape == (len(texts_test), min(k, k_max))\n",
    "assert np.all(X_train_bow[5:10].sum(-1) == np.array([len(s.split()) for s in  texts_train[5:10]]))\n",
    "assert len(bow_vocabulary) <= min(k, k_max)\n",
    "assert X_train_bow[6, bow_vocabulary.index('.')] == texts_train[6].split().count('.')"
   ]
  },
  {
   "cell_type": "markdown",
   "metadata": {},
   "source": [
    "Now let's do the trick with `sklearn` logistic regression implementation:"
   ]
  },
  {
   "cell_type": "code",
   "execution_count": 12,
   "metadata": {},
   "outputs": [],
   "source": [
    "from sklearn.linear_model import LogisticRegression\n",
    "bow_model = LogisticRegression().fit(X_train_bow, y_train)"
   ]
  },
  {
   "cell_type": "code",
   "execution_count": 13,
   "metadata": {},
   "outputs": [
    {
     "data": {
      "image/png": "[encoded data removed]",
      "text/plain": [
       "<Figure size 432x288 with 1 Axes>"
      ]
     },
     "metadata": {
      "needs_background": "light"
     },
     "output_type": "display_data"
    }
   ],
   "source": [
    "from sklearn.metrics import roc_auc_score, roc_curve\n",
    "\n",
    "def plot_roc_curve(label, y_pred, y_true):\n",
    "    auc = roc_auc_score(y_true, y_pred)\n",
    "    plt.plot(*roc_curve(y_true, y_pred)[:2], label='%s AUC=%.4f' % (name, auc))\n",
    "    plt.plot([0, 1], [0, 1], '--', color='black',)\n",
    "    plt.legend(fontsize='large')\n",
    "    \n",
    "    \n",
    "for name, X, y, model in [\n",
    "    ('train', X_train_bow, y_train, bow_model),\n",
    "    ('test ', X_test_bow, y_test, bow_model)\n",
    "]:\n",
    "    proba = model.predict_proba(X)[:, 1]\n",
    "    plot_roc_curve(name, proba, y)\n",
    "\n",
    "plt.grid()"
   ]
  },
  {
   "cell_type": "markdown",
   "metadata": {},
   "source": [
    "Seems alright. Now let's create the simple logistic regression using PyTorch. Just like in the classwork."
   ]
  },
  {
   "cell_type": "code",
   "execution_count": 14,
   "metadata": {},
   "outputs": [],
   "source": [
    "import torch\n",
    "from torch import nn\n",
    "from torch.nn import functional as F\n",
    "from torch.optim.lr_scheduler import StepLR, ReduceLROnPlateau\n",
    "\n",
    "from sklearn.metrics import accuracy_score"
   ]
  },
  {
   "cell_type": "code",
   "execution_count": 15,
   "metadata": {},
   "outputs": [],
   "source": [
    "from utils import plot_train_process"
   ]
  },
  {
   "cell_type": "code",
   "execution_count": 16,
   "metadata": {},
   "outputs": [],
   "source": [
    "model = nn.Sequential()\n",
    "\n",
    "### YOUR CODE HERE\n",
    "model.add_module('l1', nn.Linear(X_train_bow.shape[1], 2))"
   ]
  },
  {
   "cell_type": "markdown",
   "metadata": {},
   "source": [
    "Remember what we discussed about loss functions! `nn.CrossEntropyLoss` combines both log-softmax and `NLLLoss`.\n",
    "\n",
    "__Be careful with it! Criterion `nn.CrossEntropyLoss` with still work with log-softmax output, but it won't allow you to converge to the optimum.__ Next comes small demonstration:"
   ]
  },
  {
   "cell_type": "code",
   "execution_count": 17,
   "metadata": {},
   "outputs": [],
   "source": [
    "# loss_function = nn.NLLLoss()\n",
    "loss_function = nn.CrossEntropyLoss()\n",
    "opt = torch.optim.Adam(model.parameters())\n",
    "lr_scheduler = ReduceLROnPlateau(opt, mode='min')"
   ]
  },
  {
   "cell_type": "code",
   "execution_count": 18,
   "metadata": {},
   "outputs": [],
   "source": [
    "X_train_bow_torch = torch.tensor(X_train_bow)### YOUR CODE HERE\n",
    "X_test_bow_torch = torch.tensor(X_test_bow)### YOUR CODE HERE\n",
    "\n",
    "y_train_torch = torch.tensor(y_train)### YOUR CODE HERE\n",
    "y_test_torch = torch.tensor(y_test)### YOUR CODE HERE"
   ]
  },
  {
   "cell_type": "markdown",
   "metadata": {},
   "source": [
    "Let's test that everything is fine"
   ]
  },
  {
   "cell_type": "code",
   "execution_count": 19,
   "metadata": {},
   "outputs": [],
   "source": [
    "# example loss\n",
    "loss = loss_function(model(X_train_bow_torch[:3]), y_train_torch[:3])"
   ]
  },
  {
   "cell_type": "code",
   "execution_count": 20,
   "metadata": {},
   "outputs": [],
   "source": [
    "assert type(loss.item()) == float"
   ]
  },
  {
   "cell_type": "markdown",
   "metadata": {},
   "source": [
    "Here comes small function to train the model. In future we will take in into separate file, but for this homework it's ok to implement it here. "
   ]
  },
  {
   "cell_type": "code",
   "execution_count": 21,
   "metadata": {},
   "outputs": [],
   "source": [
    "#TODO device\n",
    "\n",
    "def train_model(\n",
    "    model,\n",
    "    loss_function,\n",
    "    opt,\n",
    "    lr_scheduler,\n",
    "    X_train_torch,\n",
    "    y_train_torch,\n",
    "    X_val_torch,\n",
    "    y_val_torch,\n",
    "    n_iterations=500,\n",
    "    batch_size=32,\n",
    "    warm_start=False,\n",
    "    show_plots=True,\n",
    "    eval_every=10\n",
    "):\n",
    "    if not warm_start:\n",
    "        for name, module in model.named_children():\n",
    "            print('resetting ', name)\n",
    "            try:\n",
    "                module.reset_parameters()\n",
    "            except AttributeError as e:\n",
    "                print('Cannot reset {} module parameters: {}'.format(name, e))\n",
    "\n",
    "    train_loss_history = []\n",
    "    train_acc_history = []\n",
    "    val_loss_history = []\n",
    "    val_acc_history = []\n",
    "\n",
    "    local_train_loss_history = []\n",
    "    local_train_acc_history = []\n",
    "    \n",
    "    model.train()\n",
    "    for i in range(n_iterations):\n",
    "        opt.zero_grad()\n",
    "        # sample 256 random observations\n",
    "        ix = np.random.randint(0, len(X_train_torch), batch_size)\n",
    "        x_batch = X_train_torch[ix]\n",
    "        y_batch = y_train_torch[ix]\n",
    "        x_batch = x_batch.to(device)\n",
    "        y_batch = y_batch.to(device)\n",
    "        # predict log-probabilities or logits\n",
    "        y_predicted = model(x_batch)### YOUR CODE\n",
    "\n",
    "        # compute loss, just like before\n",
    "        ### YOUR CODE\n",
    "        loss = loss_function(y_predicted, y_batch)\n",
    "\n",
    "\n",
    "        # compute gradients\n",
    "        ### YOUR CODE\n",
    "        loss.backward()\n",
    "        # Adam step\n",
    "        ### YOUR CODE\n",
    "        opt.step()\n",
    "        # clear gradients\n",
    "        ### YOUR CODE\n",
    "\n",
    "        local_train_loss_history.append(loss.data.numpy())\n",
    "        local_train_acc_history.append(\n",
    "            accuracy_score(\n",
    "                y_batch.to('cpu').detach().numpy(),\n",
    "                y_predicted.to('cpu').detach().numpy().argmax(axis=1)\n",
    "            )\n",
    "        )\n",
    "\n",
    "        if i % eval_every == 0:\n",
    "            model.eval()\n",
    "            \n",
    "            train_loss_history.append(np.mean(local_train_loss_history))\n",
    "            train_acc_history.append(np.mean(local_train_acc_history))\n",
    "            local_train_loss_history, local_train_acc_history = [], []\n",
    "\n",
    "            predictions_val = model(X_val_torch)\n",
    "            val_loss_history.append(loss_function(predictions_val, y_val_torch).to('cpu').detach().item())\n",
    "\n",
    "            acc_score_val = accuracy_score(y_val_torch.cpu().numpy(), predictions_val.to('cpu').detach().numpy().argmax(axis=1))\n",
    "            val_acc_history.append(acc_score_val)\n",
    "            lr_scheduler.step(train_loss_history[-1])\n",
    "\n",
    "            if show_plots:\n",
    "                display.clear_output(wait=True)\n",
    "                plot_train_process(train_loss_history, val_loss_history, train_acc_history, val_acc_history)\n",
    "    return model"
   ]
  },
  {
   "cell_type": "markdown",
   "metadata": {},
   "source": [
    "Let's run it on the data. Note, that here we use the `test` part of the data for validation. It's not so good idea in general, but in this task our main goal is practice."
   ]
  },
  {
   "cell_type": "code",
   "execution_count": 22,
   "metadata": {},
   "outputs": [
    {
     "data": {
      "image/png": "[encoded data removed]",
      "text/plain": [
       "<Figure size 1080x360 with 2 Axes>"
      ]
     },
     "metadata": {
      "needs_background": "light"
     },
     "output_type": "display_data"
    },
    {
     "data": {
      "text/plain": [
       "Sequential(\n",
       "  (l1): Linear(in_features=5707, out_features=2, bias=True)\n",
       ")"
      ]
     },
     "execution_count": 22,
     "metadata": {},
     "output_type": "execute_result"
    }
   ],
   "source": [
    "train_model(\n",
    "    model,\n",
    "    loss_function,\n",
    "    opt,\n",
    "    lr_scheduler,\n",
    "    X_train_bow_torch,\n",
    "    y_train_torch,\n",
    "    X_test_bow_torch,\n",
    "    y_test_torch,\n",
    "    n_iterations=500\n",
    ")"
   ]
  },
  {
   "cell_type": "code",
   "execution_count": 23,
   "metadata": {},
   "outputs": [
    {
     "data": {
      "image/png": "[encoded data removed]",
      "text/plain": [
       "<Figure size 432x288 with 1 Axes>"
      ]
     },
     "metadata": {
      "needs_background": "light"
     },
     "output_type": "display_data"
    }
   ],
   "source": [
    "from sklearn.metrics import roc_auc_score, roc_curve\n",
    "\n",
    "for name, X, y, model in [\n",
    "    ('train', X_train_bow_torch, y_train, model),\n",
    "    ('test ', X_test_bow_torch, y_test, model)\n",
    "]:\n",
    "    proba = model(X).detach().cpu().numpy()[:, 1]\n",
    "    plot_roc_curve(name, proba, y)\n",
    "\n",
    "plt.grid()"
   ]
  },
  {
   "cell_type": "markdown",
   "metadata": {},
   "source": [
    "Try to vary the number of tokens `k` and check how the model performance changes. Show it on a plot."
   ]
  },
  {
   "cell_type": "code",
   "execution_count": 24,
   "metadata": {
    "scrolled": true
   },
   "outputs": [
    {
     "name": "stdout",
     "output_type": "stream",
     "text": [
      "resetting  l1\n",
      "resetting  l1\n",
      "resetting  l1\n",
      "resetting  l1\n",
      "resetting  l1\n",
      "resetting  l1\n",
      "resetting  l1\n",
      "resetting  l1\n",
      "resetting  l1\n",
      "resetting  l1\n"
     ]
    }
   ],
   "source": [
    "def create_torch_logreg(input_shape):\n",
    "    model = nn.Sequential()\n",
    "    model.add_module('l1', nn.Linear(input_shape, 2))\n",
    "    loss = nn.CrossEntropyLoss()\n",
    "    opt = torch.optim.Adam(model.parameters())\n",
    "    lr_scheduler = ReduceLROnPlateau(opt, mode='min')\n",
    "    return model, loss, opt, lr_scheduler\n",
    "\n",
    "pred_collection = dict()\n",
    "bow = BagOfWords(texts_train, max_feat=k, ngrams=(1, 2))\n",
    "\n",
    "for k in np.geomspace(100, len(bow.word_counter), 10, dtype=int):\n",
    "    bow.set_max_feat(k)\n",
    "    X_train_bow = np.stack(list(map(bow.transform, texts_train)))\n",
    "    X_test_bow = np.stack(list(map(bow.transform, texts_test)))\n",
    "    X_train_bow_torch = torch.tensor(X_train_bow)### YOUR CODE HERE\n",
    "    X_test_bow_torch = torch.tensor(X_test_bow)### YOUR CODE HERE\n",
    "\n",
    "    y_train_torch = torch.tensor(y_train)### YOUR CODE HERE\n",
    "    y_test_torch = torch.tensor(y_test)### YOUR CODE HERE\n",
    "    \n",
    "    \n",
    "    model = train_model(\n",
    "        *create_torch_logreg(k),\n",
    "        X_train_bow_torch,\n",
    "        y_train_torch,\n",
    "        X_test_bow_torch,\n",
    "        y_test_torch,\n",
    "        n_iterations=500,\n",
    "        show_plots=False,\n",
    "    )\n",
    "    model.eval()\n",
    "    train_pred = model(X_train_bow_torch).detach().cpu().numpy()[:, 1]\n",
    "    test_pred = model(X_test_bow_torch).detach().cpu().numpy()[:, 1]\n",
    "    pred_collection[k] = (train_pred, test_pred)\n",
    "                        "
   ]
  },
  {
   "cell_type": "code",
   "execution_count": 25,
   "metadata": {},
   "outputs": [
    {
     "data": {
      "application/vnd.jupyter.widget-view+json": {
       "model_id": "f262ae36d40641c3a377d4ae19c39f9f",
       "version_major": 2,
       "version_minor": 0
      },
      "text/plain": [
       "interactive(children=(Dropdown(description='max_feat', options=(100, 187, 349, 653, 1222, 2286, 4276, 7996, 14…"
      ]
     },
     "metadata": {},
     "output_type": "display_data"
    },
    {
     "data": {
      "text/plain": [
       "<function __main__.plot_results(max_feat, pred_collection)>"
      ]
     },
     "execution_count": 25,
     "metadata": {},
     "output_type": "execute_result"
    }
   ],
   "source": [
    "def plot_results(max_feat, pred_collection):\n",
    "    train_pred, test_pred = pred_collection[max_feat]\n",
    "    for name, pred, y in [\n",
    "        ('train', train_pred, y_train),\n",
    "        ('test ', test_pred, y_test)\n",
    "    ]:\n",
    "        plot_roc_curve(name, pred, y)\n",
    "    plt.legend(fontsize='large')\n",
    "    plt.grid()\n",
    "    plt.show()\n",
    "\n",
    "interact(plot_results, max_feat=list(pred_collection.keys()), pred_collection=fixed(pred_collection))"
   ]
  },
  {
   "cell_type": "markdown",
   "metadata": {},
   "source": [
    "### Step 2: implement TF-IDF features\n",
    "\n",
    "Not all words are equally useful. One can prioritize rare words and downscale words like \"and\"/\"or\" by using __tf-idf features__. This abbreviation stands for __text frequency/inverse document frequence__ and means exactly that:\n",
    "\n",
    "$$ feature_i = { Count(word_i \\in x) \\times { log {N \\over Count(word_i \\in D) + \\alpha} }}, $$\n",
    "\n",
    "\n",
    "where x is a single text, D is your dataset (a collection of texts), N is a total number of documents and $\\alpha$ is a smoothing hyperparameter (typically 1). \n",
    "And $Count(word_i \\in D)$ is the number of documents where $word_i$ appears.\n",
    "\n",
    "It may also be a good idea to normalize each data sample after computing tf-idf features.\n",
    "\n",
    "__Your task:__ implement tf-idf features, train a model and evaluate ROC curve. Compare it with basic BagOfWords model from above.\n",
    "\n",
    "__Please don't use sklearn/nltk builtin tf-idf vectorizers in your solution :)__ You can still use 'em for debugging though."
   ]
  },
  {
   "cell_type": "markdown",
   "metadata": {},
   "source": [
    "Blog post about implementing the TF-IDF features from scratch: https://triton.ml/blog/tf-idf-from-scratch"
   ]
  },
  {
   "cell_type": "markdown",
   "metadata": {},
   "source": [
    "Same stuff about moel and optimizers here (or just omit it, if you are using the same model as before)."
   ]
  },
  {
   "cell_type": "code",
   "execution_count": 26,
   "metadata": {},
   "outputs": [
    {
     "name": "stdout",
     "output_type": "stream",
     "text": [
      "CPU times: user 2.25 s, sys: 109 ms, total: 2.36 s\n",
      "Wall time: 2.21 s\n"
     ]
    }
   ],
   "source": [
    "%%time\n",
    "tfidf = TFiDF(texts_train, 1, max_feat=3000, ngrams=(1,2))### YOUR CODE HERE"
   ]
  },
  {
   "cell_type": "code",
   "execution_count": 27,
   "metadata": {},
   "outputs": [],
   "source": [
    "X_train_tfidf = np.array(list(map(tfidf.transform, texts_train)))\n",
    "X_train_tfidf = normalize(X_train_tfidf, axis=1)\n",
    "X_test_tfidf = np.array(list(map(tfidf.transform, texts_test)))\n",
    "X_test_tfidf = normalize(X_test_tfidf, axis=1)"
   ]
  },
  {
   "cell_type": "code",
   "execution_count": 28,
   "metadata": {},
   "outputs": [],
   "source": [
    "X_train_tfidf_torch = torch.tensor(X_train_tfidf)### YOUR CODE HERE\n",
    "X_test_tfidf_torch = torch.tensor(X_test_tfidf)### YOUR CODE HERE\n",
    "\n",
    "y_train_torch = torch.tensor(y_train)### YOUR CODE HERE\n",
    "y_test_torch = torch.tensor(y_test)### YOUR CODE HERE"
   ]
  },
  {
   "cell_type": "code",
   "execution_count": 29,
   "metadata": {},
   "outputs": [
    {
     "name": "stdout",
     "output_type": "stream",
     "text": [
      "resetting  l1\n",
      "resetting  l1\n",
      "resetting  l1\n",
      "resetting  l1\n",
      "resetting  l1\n",
      "resetting  l1\n",
      "resetting  l1\n",
      "resetting  l1\n",
      "resetting  l1\n",
      "resetting  l1\n"
     ]
    }
   ],
   "source": [
    "tfidf = TFiDF(texts_train, 1, max_feat=3000, ngrams=(1,2))\n",
    "for k in np.geomspace(100, len(bow.word_counter), 10, dtype=int):\n",
    "    tfidf.set_max_feat(k)\n",
    "    X_train_tfidf = np.stack(list(map(tfidf.transform, texts_train)))\n",
    "    X_train_tfidf = normalize(X_train_tfidf, axis=1)\n",
    "    X_test_tfidf = np.stack(list(map(tfidf.transform, texts_test)))\n",
    "    X_test_tfidf = normalize(X_test_tfidf, axis=1)\n",
    "    \n",
    "    X_train_tfidf_torch = torch.tensor(X_train_tfidf)\n",
    "    X_test_tfidf_torch = torch.tensor(X_test_tfidf)\n",
    "\n",
    "    y_train_torch = torch.tensor(y_train)\n",
    "    y_test_torch = torch.tensor(y_test)\n",
    "    \n",
    "    \n",
    "    model = train_model(\n",
    "        *create_torch_logreg(k),\n",
    "        X_train_tfidf_torch,\n",
    "        y_train_torch,\n",
    "        X_test_tfidf_torch,\n",
    "        y_test_torch,\n",
    "        n_iterations=500,\n",
    "        show_plots=False,\n",
    "    )\n",
    "    model.eval()\n",
    "    train_pred = model(X_train_tfidf_torch).detach().cpu().numpy()[:, 1]\n",
    "    test_pred = model(X_test_tfidf_torch).detach().cpu().numpy()[:, 1]\n",
    "    pred_collection[k] = (train_pred, test_pred)"
   ]
  },
  {
   "cell_type": "code",
   "execution_count": 30,
   "metadata": {},
   "outputs": [
    {
     "data": {
      "application/vnd.jupyter.widget-view+json": {
       "model_id": "d25164f456e94deb8f8c331e47a28725",
       "version_major": 2,
       "version_minor": 0
      },
      "text/plain": [
       "interactive(children=(Dropdown(description='max_feat', options=(100, 187, 349, 653, 1222, 2286, 4276, 7996, 14…"
      ]
     },
     "metadata": {},
     "output_type": "display_data"
    },
    {
     "data": {
      "text/plain": [
       "<function __main__.plot_results(max_feat, pred_collection)>"
      ]
     },
     "execution_count": 30,
     "metadata": {},
     "output_type": "execute_result"
    }
   ],
   "source": [
    "interact(plot_results, max_feat=list(pred_collection.keys()), pred_collection=fixed(pred_collection))"
   ]
  },
  {
   "cell_type": "markdown",
   "metadata": {},
   "source": [
    "Fit your model to the data. No not hesitate to vary number of iterations, learning rate and so on.\n",
    "\n",
    "_Note: due to very small dataset, increasing the complexity of the network might not be the best idea._"
   ]
  },
  {
   "cell_type": "markdown",
   "metadata": {},
   "source": [
    "### Step 3: Comparing it with Naive Bayes\n",
    "\n",
    "Naive Bayes classifier is a good choice for such small problems. Try to tune it for both BOW and TF-iDF features. Compare the results with Logistic Regression."
   ]
  },
  {
   "cell_type": "code",
   "execution_count": 31,
   "metadata": {},
   "outputs": [],
   "source": [
    "tfidf = TFiDF(texts_train, 1, max_feat=3000, ngrams=(1,2))\n",
    "pred_collection = dict()\n",
    "for k in np.geomspace(100, 20000, 10, dtype=int):\n",
    "    tfidf.set_max_feat(k)\n",
    "    X_train_tfidf = np.array(list(map(tfidf.transform, texts_train)))\n",
    "    X_train_tfidf = normalize(X_train_tfidf, axis=1)\n",
    "    X_test_tfidf = np.array(list(map(tfidf.transform, texts_test)))\n",
    "    X_test_tfidf = normalize(X_test_tfidf, axis=1)\n",
    "    model = MultinomialNB()\n",
    "    model.fit(X_train_tfidf, y_train)\n",
    "    train_pred = model.predict(X_train_tfidf)\n",
    "    test_pred = model.predict(X_test_tfidf)\n",
    "    pred_collection[k] = (train_pred, test_pred)"
   ]
  },
  {
   "cell_type": "code",
   "execution_count": 32,
   "metadata": {},
   "outputs": [
    {
     "data": {
      "application/vnd.jupyter.widget-view+json": {
       "model_id": "4924b377e4e742e2bef491a15b6e068c",
       "version_major": 2,
       "version_minor": 0
      },
      "text/plain": [
       "interactive(children=(Dropdown(description='max_feat', options=(100, 180, 324, 584, 1053, 1898, 3419, 6161, 11…"
      ]
     },
     "metadata": {},
     "output_type": "display_data"
    },
    {
     "data": {
      "text/plain": [
       "<function __main__.plot_results(max_feat, pred_collection)>"
      ]
     },
     "execution_count": 32,
     "metadata": {},
     "output_type": "execute_result"
    }
   ],
   "source": [
    "interact(plot_results, max_feat=list(pred_collection.keys()), pred_collection=fixed(pred_collection))"
   ]
  },
  {
   "cell_type": "markdown",
   "metadata": {},
   "source": [
    "Shape some thoughts on the results you aquired. Which model has show the best performance? Did changing the learning rate/lr scheduler help?"
   ]
  },
  {
   "cell_type": "markdown",
   "metadata": {},
   "source": [
    "_Your beautiful thoughts here_\n",
    "\n",
    "There was a certain max_feat value when model performance on train corpus had reached near 1. rocauc score and overfitting had began for both techniques (TFiDF and BoW). It means that it is easier to remember particular elements of dataset (they can contain specific words for example)"
   ]
  },
  {
   "cell_type": "markdown",
   "metadata": {},
   "source": [
    "### Step 4: Using the external knowledge.\n",
    "\n",
    "Use the `gensim` word2vec pretrained model to translate words into vectors. Use several models with this new encoding technique. Compare the results, share your thoughts."
   ]
  },
  {
   "cell_type": "code",
   "execution_count": 33,
   "metadata": {},
   "outputs": [
    {
     "name": "stderr",
     "output_type": "stream",
     "text": [
      "/home/cherepaha/miniconda/envs/py37/lib/python3.7/site-packages/gensim/similarities/__init__.py:15: UserWarning: The gensim.similarities.levenshtein submodule is disabled, because the optional Levenshtein package <https://pypi.org/project/python-Levenshtein/> is unavailable. Install Levenhstein (e.g. `pip install python-Levenshtein`) to suppress this warning.\n",
      "  warnings.warn(msg)\n"
     ]
    }
   ],
   "source": [
    "from nltk.tokenize import WordPunctTokenizer\n",
    "import gensim.downloader as api\n",
    "\n",
    "glove_model = api.load('glove-twitter-25', )"
   ]
  },
  {
   "cell_type": "code",
   "execution_count": 34,
   "metadata": {},
   "outputs": [],
   "source": [
    "glove_transformer = TextVectorizer(glove_model, WordPunctTokenizer(), 200)"
   ]
  },
  {
   "cell_type": "code",
   "execution_count": 37,
   "metadata": {},
   "outputs": [],
   "source": [
    "X_train_w2v = glove_transformer.transform(texts_train)\n",
    "X_test_w2v = glove_transformer.transform(texts_test)"
   ]
  },
  {
   "cell_type": "code",
   "execution_count": 38,
   "metadata": {},
   "outputs": [],
   "source": [
    "X_train_w2v_torch = torch.tensor(X_train_w2v)\n",
    "X_test_w2v_torch = torch.tensor(X_test_w2v)"
   ]
  },
  {
   "cell_type": "code",
   "execution_count": null,
   "metadata": {},
   "outputs": [],
   "source": []
  },
  {
   "cell_type": "code",
   "execution_count": null,
   "metadata": {},
   "outputs": [],
   "source": [
    "model = nn.Sequential()"
   ]
  }
 ],
 "metadata": {
  "kernelspec": {
   "display_name": "Python 3",
   "language": "python",
   "name": "python3"
  },
  "language_info": {
   "codemirror_mode": {
    "name": "ipython",
    "version": 3
   },
   "file_extension": ".py",
   "mimetype": "text/x-python",
   "name": "python",
   "nbconvert_exporter": "python",
   "pygments_lexer": "ipython3",
   "version": "3.7.3"
  },
  "widgets": {
   "application/vnd.jupyter.widget-state+json": {
    "state": {
     "13bf96be7e3644e094927e67b3b9ec4b": {
      "model_module": "@jupyter-widgets/controls",
      "model_module_version": "1.5.0",
      "model_name": "VBoxModel",
      "state": {
       "_dom_classes": [
        "widget-interact"
       ],
       "children": [
        "IPY_MODEL_9645beadbb8a4c60a792f812ad31291d",
        "IPY_MODEL_8c0f29ab7ad7426aad4e929113284288"
       ],
       "layout": "IPY_MODEL_c1880b2c10b34b078e93cb21e5b64b78"
      }
     },
     "2db15432d40840aea2d0086a7e565676": {
      "model_module": "@jupyter-widgets/output",
      "model_module_version": "1.0.0",
      "model_name": "OutputModel",
      "state": {
       "layout": "IPY_MODEL_39c7b83b1ed04c36841e6b45000105eb",
       "outputs": [
        {
         "data": {
          "image/png": "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\n",
          "text/plain": "<Figure size 432x288 with 1 Axes>"
         },
         "metadata": {
          "needs_background": "light"
         },
         "output_type": "display_data"
        }
       ]
      }
     },
     "39c7b83b1ed04c36841e6b45000105eb": {
      "model_module": "@jupyter-widgets/base",
      "model_module_version": "1.2.0",
      "model_name": "LayoutModel",
      "state": {}
     },
     "3fa090d588b64571a05cdaed2e1f2c78": {
      "model_module": "@jupyter-widgets/base",
      "model_module_version": "1.2.0",
      "model_name": "LayoutModel",
      "state": {}
     },
     "4c4d2edbc82841d7b2d1dc2189d16e1d": {
      "model_module": "@jupyter-widgets/controls",
      "model_module_version": "1.5.0",
      "model_name": "VBoxModel",
      "state": {
       "_dom_classes": [
        "widget-interact"
       ],
       "children": [
        "IPY_MODEL_c8889a4dbed049e6bad0b521514c70dc",
        "IPY_MODEL_2db15432d40840aea2d0086a7e565676"
       ],
       "layout": "IPY_MODEL_5b932c4e12124b7093ab19b76de72d5f"
      }
     },
     "5b932c4e12124b7093ab19b76de72d5f": {
      "model_module": "@jupyter-widgets/base",
      "model_module_version": "1.2.0",
      "model_name": "LayoutModel",
      "state": {}
     },
     "8c0f29ab7ad7426aad4e929113284288": {
      "model_module": "@jupyter-widgets/output",
      "model_module_version": "1.0.0",
      "model_name": "OutputModel",
      "state": {
       "layout": "IPY_MODEL_d7fc70d1eb7449a09c4c1f5739acbbc7",
       "outputs": [
        {
         "data": {
          "image/png": "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\n",
          "text/plain": "<Figure size 432x288 with 1 Axes>"
         },
         "metadata": {
          "needs_background": "light"
         },
         "output_type": "display_data"
        }
       ]
      }
     },
     "9645beadbb8a4c60a792f812ad31291d": {
      "model_module": "@jupyter-widgets/controls",
      "model_module_version": "1.5.0",
      "model_name": "DropdownModel",
      "state": {
       "_options_labels": [
        "100",
        "1000",
        "5707"
       ],
       "description": "k",
       "index": 0,
       "layout": "IPY_MODEL_ed799d46ea834b44ba58158853e7d56c",
       "style": "IPY_MODEL_a02e079495bc4ec984c0087a85f54773"
      }
     },
     "a02e079495bc4ec984c0087a85f54773": {
      "model_module": "@jupyter-widgets/controls",
      "model_module_version": "1.5.0",
      "model_name": "DescriptionStyleModel",
      "state": {
       "description_width": ""
      }
     },
     "aff59599b85f42a180b75e9e6240cbc5": {
      "model_module": "@jupyter-widgets/controls",
      "model_module_version": "1.5.0",
      "model_name": "DescriptionStyleModel",
      "state": {
       "description_width": ""
      }
     },
     "c1880b2c10b34b078e93cb21e5b64b78": {
      "model_module": "@jupyter-widgets/base",
      "model_module_version": "1.2.0",
      "model_name": "LayoutModel",
      "state": {}
     },
     "c8889a4dbed049e6bad0b521514c70dc": {
      "model_module": "@jupyter-widgets/controls",
      "model_module_version": "1.5.0",
      "model_name": "DropdownModel",
      "state": {
       "_options_labels": [
        "100",
        "156",
        "245",
        "385",
        "603",
        "945",
        "1482",
        "2323",
        "3641",
        "5707"
       ],
       "description": "k",
       "index": 9,
       "layout": "IPY_MODEL_3fa090d588b64571a05cdaed2e1f2c78",
       "style": "IPY_MODEL_aff59599b85f42a180b75e9e6240cbc5"
      }
     },
     "d7fc70d1eb7449a09c4c1f5739acbbc7": {
      "model_module": "@jupyter-widgets/base",
      "model_module_version": "1.2.0",
      "model_name": "LayoutModel",
      "state": {}
     },
     "ed799d46ea834b44ba58158853e7d56c": {
      "model_module": "@jupyter-widgets/base",
      "model_module_version": "1.2.0",
      "model_name": "LayoutModel",
      "state": {}
     }
    },
    "version_major": 2,
    "version_minor": 0
   }
  }
 },
 "nbformat": 4,
 "nbformat_minor": 2
}
