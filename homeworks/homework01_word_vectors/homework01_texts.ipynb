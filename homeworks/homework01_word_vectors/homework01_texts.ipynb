{
 "cells": [
  {
   "cell_type": "markdown",
   "metadata": {},
   "source": [
    "## Homework 01. Simple text processing."
   ]
  },
  {
   "cell_type": "code",
   "execution_count": 1,
   "metadata": {},
   "outputs": [],
   "source": [
    "import numpy as np\n",
    "import matplotlib.pyplot as plt\n",
    "%matplotlib inline\n",
    "import pandas as pd\n",
    "from IPython import display\n",
    "\n",
    "#my imports\n",
    "from collections import Counter\n",
    "from ipywidgets import interact, fixed\n",
    "from sklearn.preprocessing import normalize\n",
    "from sklearn.naive_bayes import MultinomialNB\n",
    "from collections import deque\n",
    "from utils import BagOfWords, TFiDF, Word2Vec"
   ]
  },
  {
   "cell_type": "markdown",
   "metadata": {},
   "source": [
    "### Toxic or not\n",
    "Your main goal in this assignment is to classify, whether the comments are toxic or not. And practice with both classical approaches and PyTorch in the process.\n",
    "\n",
    "*Credits: This homework is inspired by YSDA NLP_course.*\n",
    "\n",
    "*Disclaimer: The used dataset may contain obscene language and is used only as an example of real unfiltered data.*"
   ]
  },
  {
   "cell_type": "code",
   "execution_count": 2,
   "metadata": {},
   "outputs": [],
   "source": [
    "# In colab uncomment this cell\n",
    "# ! wget https://raw.githubusercontent.com/neychev/made_nlp_course/master/homeworks/homework01/utils.py -nc"
   ]
  },
  {
   "cell_type": "code",
   "execution_count": 3,
   "metadata": {},
   "outputs": [
    {
     "name": "stdout",
     "output_type": "stream",
     "text": [
      "File ‘comments.tsv’ already there; not retrieving.\r\n",
      "\r\n"
     ]
    }
   ],
   "source": [
    "try:\n",
    "    data = pd.read_csv('../../datasets/comments_small_dataset/comments.tsv', sep='\\t')\n",
    "except FileNotFoundError:\n",
    "    ! wget https://raw.githubusercontent.com/neychev/made_nlp_course/master/datasets/comments_small_dataset/comments.tsv -nc\n",
    "    data = pd.read_csv(\"comments.tsv\", sep='\\t')"
   ]
  },
  {
   "cell_type": "code",
   "execution_count": 4,
   "metadata": {},
   "outputs": [
    {
     "data": {
      "text/html": [
       "<div>\n",
       "<style scoped>\n",
       "    .dataframe tbody tr th:only-of-type {\n",
       "        vertical-align: middle;\n",
       "    }\n",
       "\n",
       "    .dataframe tbody tr th {\n",
       "        vertical-align: top;\n",
       "    }\n",
       "\n",
       "    .dataframe thead th {\n",
       "        text-align: right;\n",
       "    }\n",
       "</style>\n",
       "<table border=\"1\" class=\"dataframe\">\n",
       "  <thead>\n",
       "    <tr style=\"text-align: right;\">\n",
       "      <th></th>\n",
       "      <th>should_ban</th>\n",
       "      <th>comment_text</th>\n",
       "    </tr>\n",
       "  </thead>\n",
       "  <tbody>\n",
       "    <tr>\n",
       "      <th>50</th>\n",
       "      <td>0</td>\n",
       "      <td>\"Those who're in advantageous positions are th...</td>\n",
       "    </tr>\n",
       "    <tr>\n",
       "      <th>250</th>\n",
       "      <td>1</td>\n",
       "      <td>Fartsalot56 says f**k you motherclucker!!</td>\n",
       "    </tr>\n",
       "    <tr>\n",
       "      <th>450</th>\n",
       "      <td>1</td>\n",
       "      <td>Are you a fool? \\n\\nI am sorry, but you seem t...</td>\n",
       "    </tr>\n",
       "    <tr>\n",
       "      <th>650</th>\n",
       "      <td>1</td>\n",
       "      <td>I AM NOT A VANDAL!!!!!!!!!!!!!!!!!!!!!!!!!!!!!!</td>\n",
       "    </tr>\n",
       "    <tr>\n",
       "      <th>850</th>\n",
       "      <td>0</td>\n",
       "      <td>Citing sources\\n\\nCheck out the Wikipedia:Citi...</td>\n",
       "    </tr>\n",
       "  </tbody>\n",
       "</table>\n",
       "</div>"
      ],
      "text/plain": [
       "     should_ban                                       comment_text\n",
       "50            0  \"Those who're in advantageous positions are th...\n",
       "250           1          Fartsalot56 says f**k you motherclucker!!\n",
       "450           1  Are you a fool? \\n\\nI am sorry, but you seem t...\n",
       "650           1    I AM NOT A VANDAL!!!!!!!!!!!!!!!!!!!!!!!!!!!!!!\n",
       "850           0  Citing sources\\n\\nCheck out the Wikipedia:Citi..."
      ]
     },
     "execution_count": 4,
     "metadata": {},
     "output_type": "execute_result"
    }
   ],
   "source": [
    "texts = data['comment_text'].values\n",
    "target = data['should_ban'].values\n",
    "data[50::200]"
   ]
  },
  {
   "cell_type": "code",
   "execution_count": 5,
   "metadata": {},
   "outputs": [],
   "source": [
    "from sklearn.model_selection import train_test_split\n",
    "texts_train, texts_test, y_train, y_test = train_test_split(texts, target, test_size=0.5, random_state=42)"
   ]
  },
  {
   "cell_type": "markdown",
   "metadata": {},
   "source": [
    "__Note:__ it is generally a good idea to split data into train/test before anything is done to them.\n",
    "\n",
    "It guards you against possible data leakage in the preprocessing stage. For example, should you decide to select words present in obscene tweets as features, you should only count those words over the training set. Otherwise your algoritm can cheat evaluation."
   ]
  },
  {
   "cell_type": "markdown",
   "metadata": {},
   "source": [
    "### Preprocessing and tokenization\n",
    "\n",
    "Comments contain raw text with punctuation, upper/lowercase letters and even newline symbols.\n",
    "\n",
    "To simplify all further steps, we'll split text into space-separated tokens using one of nltk tokenizers.\n",
    "\n",
    "Generally, library `nltk` [link](https://www.nltk.org) is widely used in NLP. It is not necessary in here, but mentioned to intoduce it to you."
   ]
  },
  {
   "cell_type": "code",
   "execution_count": 6,
   "metadata": {},
   "outputs": [
    {
     "name": "stdout",
     "output_type": "stream",
     "text": [
      "before: How to be a grown-up at work: replace \"I don't want to do that\" with \"Ok, great!\".\n",
      "after: how to be a grown-up at work : replace \" i don't want to do that \" with \" ok , great ! \" .\n"
     ]
    }
   ],
   "source": [
    "from nltk.tokenize import TweetTokenizer\n",
    "tokenizer = TweetTokenizer()\n",
    "preprocess = lambda text: ' '.join(tokenizer.tokenize(text.lower()))\n",
    "\n",
    "text = 'How to be a grown-up at work: replace \"I don\\'t want to do that\" with \"Ok, great!\".'\n",
    "print(\"before:\", text,)\n",
    "print(\"after:\", preprocess(text),)"
   ]
  },
  {
   "cell_type": "code",
   "execution_count": 7,
   "metadata": {},
   "outputs": [],
   "source": [
    "# task: preprocess each comment in train and test\n",
    "preprocess = np.vectorize(preprocess)\n",
    "texts_train = preprocess(texts_train)\n",
    "texts_test = preprocess(texts_test)"
   ]
  },
  {
   "cell_type": "code",
   "execution_count": 8,
   "metadata": {},
   "outputs": [],
   "source": [
    "# Small check that everything is done properly\n",
    "assert texts_train[5] ==  'who cares anymore . they attack with impunity .'\n",
    "assert texts_test[89] == 'hey todds ! quick q ? why are you so gay'\n",
    "assert len(texts_test) == len(y_test)"
   ]
  },
  {
   "cell_type": "markdown",
   "metadata": {},
   "source": [
    "### Step 1: bag of words\n",
    "\n",
    "One traditional approach to such problem is to use bag of words features:\n",
    "1. build a vocabulary of frequent words (use train data only)\n",
    "2. for each training sample, count the number of times a word occurs in it (for each word in vocabulary).\n",
    "3. consider this count a feature for some classifier\n",
    "\n",
    "__Note:__ in practice, you can compute such features using sklearn. __Please don't do that in the current assignment, though.__\n",
    "* `from sklearn.feature_extraction.text import CountVectorizer, TfidfVectorizer`"
   ]
  },
  {
   "cell_type": "code",
   "execution_count": 9,
   "metadata": {},
   "outputs": [
    {
     "name": "stdout",
     "output_type": "stream",
     "text": [
      "example features: ['!', '12:20', '300', '_', 'adorned', 'alternative', 'archive', 'average', 'benkner', 'bout', 'came', 'chest', 'combined', 'consumers', 'cricket', 'decisions', 'dickheads', 'domestic', 'eductaion', 'essentially', 'faggot', 'firms', 'frustrated', 'goal', 'hanibal', 'hip-hop', 'identified', 'infoboxes', 'issue', 'kindergarten', 'lets', 'lot', \"mclaren's\", 'moderator', 'naturally', 'noticeable', 'opposing', 'pdf', 'plant', 'pretoria', 'punctuation', 'rebels', 'repetative', 'riadh', 'schulz', 'shes', 'slit', 'spoof', 'stupid', 't', 'theoretical', 'topic', 'uglyness', 'userspace', 'wanted', 'wikieditor', 'year', '←']\n"
     ]
    }
   ],
   "source": [
    "# task: find up to k most frequent tokens in texts_train,\n",
    "# sort them by number of occurences (highest first)\n",
    "k = min(10000, len(set(' '.join(texts_train).split())))   \n",
    "\n",
    "bow = BagOfWords(texts_train, max_feat=k)\n",
    "bow_vocabulary = bow.vocabulary\n",
    "\n",
    "print('example features:', sorted(bow_vocabulary)[::100])"
   ]
  },
  {
   "cell_type": "code",
   "execution_count": 10,
   "metadata": {},
   "outputs": [],
   "source": [
    "X_train_bow = bow.transform_dataset(texts_train)\n",
    "X_test_bow = bow.transform_dataset(texts_test)"
   ]
  },
  {
   "cell_type": "code",
   "execution_count": 11,
   "metadata": {},
   "outputs": [],
   "source": [
    "# Small check that everything is done properly\n",
    "k_max = len(set(' '.join(texts_train).split()))\n",
    "assert X_train_bow.shape == (len(texts_train), min(k, k_max))\n",
    "assert X_test_bow.shape == (len(texts_test), min(k, k_max))\n",
    "assert np.all(X_train_bow[5:10].sum(-1) == np.array([len(s.split()) for s in  texts_train[5:10]]))\n",
    "assert len(bow_vocabulary) <= min(k, k_max)\n",
    "assert X_train_bow[6, bow_vocabulary.index('.')] == texts_train[6].split().count('.')"
   ]
  },
  {
   "cell_type": "markdown",
   "metadata": {},
   "source": [
    "Now let's do the trick with `sklearn` logistic regression implementation:"
   ]
  },
  {
   "cell_type": "code",
   "execution_count": 12,
   "metadata": {},
   "outputs": [],
   "source": [
    "from sklearn.linear_model import LogisticRegression\n",
    "bow_model = LogisticRegression().fit(X_train_bow, y_train)"
   ]
  },
  {
   "cell_type": "code",
   "execution_count": 13,
   "metadata": {},
   "outputs": [
    {
     "data": {
      "image/png": "[encoded data removed]",
      "text/plain": [
       "<Figure size 432x288 with 1 Axes>"
      ]
     },
     "metadata": {
      "needs_background": "light"
     },
     "output_type": "display_data"
    }
   ],
   "source": [
    "from sklearn.metrics import roc_auc_score, roc_curve\n",
    "\n",
    "def plot_roc_curve(label, y_pred, y_true):\n",
    "    auc = roc_auc_score(y_true, y_pred)\n",
    "    plt.plot(*roc_curve(y_true, y_pred)[:2], label='%s AUC=%.4f' % (name, auc))\n",
    "    plt.plot([0, 1], [0, 1], '--', color='black',)\n",
    "    plt.legend(fontsize='large')\n",
    "    \n",
    "    \n",
    "for name, X, y, model in [\n",
    "    ('train', X_train_bow, y_train, bow_model),\n",
    "    ('test ', X_test_bow, y_test, bow_model)\n",
    "]:\n",
    "    proba = model.predict_proba(X)[:, 1]\n",
    "    plot_roc_curve(name, proba, y)\n",
    "\n",
    "plt.grid()"
   ]
  },
  {
   "cell_type": "markdown",
   "metadata": {},
   "source": [
    "Seems alright. Now let's create the simple logistic regression using PyTorch. Just like in the classwork."
   ]
  },
  {
   "cell_type": "code",
   "execution_count": 14,
   "metadata": {},
   "outputs": [],
   "source": [
    "import torch\n",
    "from torch import nn\n",
    "from torch.nn import functional as F\n",
    "from torch.optim.lr_scheduler import StepLR, ReduceLROnPlateau\n",
    "\n",
    "from sklearn.metrics import accuracy_score"
   ]
  },
  {
   "cell_type": "code",
   "execution_count": 15,
   "metadata": {},
   "outputs": [],
   "source": [
    "from utils import plot_train_process"
   ]
  },
  {
   "cell_type": "code",
   "execution_count": 16,
   "metadata": {},
   "outputs": [],
   "source": [
    "model = nn.Sequential()\n",
    "\n",
    "### YOUR CODE HERE\n",
    "model.add_module('l1', nn.Linear(X_train_bow.shape[1], 2))"
   ]
  },
  {
   "cell_type": "markdown",
   "metadata": {},
   "source": [
    "Remember what we discussed about loss functions! `nn.CrossEntropyLoss` combines both log-softmax and `NLLLoss`.\n",
    "\n",
    "__Be careful with it! Criterion `nn.CrossEntropyLoss` with still work with log-softmax output, but it won't allow you to converge to the optimum.__ Next comes small demonstration:"
   ]
  },
  {
   "cell_type": "code",
   "execution_count": 17,
   "metadata": {},
   "outputs": [],
   "source": [
    "# loss_function = nn.NLLLoss()\n",
    "loss_function = nn.CrossEntropyLoss()\n",
    "opt = torch.optim.Adam(model.parameters())\n",
    "lr_scheduler = ReduceLROnPlateau(opt, mode='min')"
   ]
  },
  {
   "cell_type": "code",
   "execution_count": 18,
   "metadata": {},
   "outputs": [],
   "source": [
    "X_train_bow_torch = torch.tensor(X_train_bow)### YOUR CODE HERE\n",
    "X_test_bow_torch = torch.tensor(X_test_bow)### YOUR CODE HERE\n",
    "\n",
    "y_train_torch = torch.tensor(y_train)### YOUR CODE HERE\n",
    "y_test_torch = torch.tensor(y_test)### YOUR CODE HERE"
   ]
  },
  {
   "cell_type": "markdown",
   "metadata": {},
   "source": [
    "Let's test that everything is fine"
   ]
  },
  {
   "cell_type": "code",
   "execution_count": 19,
   "metadata": {},
   "outputs": [],
   "source": [
    "# example loss\n",
    "loss = loss_function(model(X_train_bow_torch[:3]), y_train_torch[:3])"
   ]
  },
  {
   "cell_type": "code",
   "execution_count": 20,
   "metadata": {},
   "outputs": [],
   "source": [
    "assert type(loss.item()) == float"
   ]
  },
  {
   "cell_type": "markdown",
   "metadata": {},
   "source": [
    "Here comes small function to train the model. In future we will take in into separate file, but for this homework it's ok to implement it here. "
   ]
  },
  {
   "cell_type": "code",
   "execution_count": 21,
   "metadata": {},
   "outputs": [],
   "source": [
    "def train_model(\n",
    "    model,\n",
    "    loss_function,\n",
    "    opt,\n",
    "    lr_scheduler,\n",
    "    X_train_torch,\n",
    "    y_train_torch,\n",
    "    X_val_torch,\n",
    "    y_val_torch,\n",
    "    n_iterations=500,\n",
    "    batch_size=32,\n",
    "    warm_start=False,\n",
    "    show_plots=True,\n",
    "    eval_every=10\n",
    "):\n",
    "    if not warm_start:\n",
    "        for name, module in model.named_children():\n",
    "            print('resetting ', name)\n",
    "            try:\n",
    "                module.reset_parameters()\n",
    "            except AttributeError as e:\n",
    "                print('Cannot reset {} module parameters: {}'.format(name, e))\n",
    "\n",
    "    train_loss_history = []\n",
    "    train_acc_history = []\n",
    "    val_loss_history = []\n",
    "    val_acc_history = []\n",
    "\n",
    "    local_train_loss_history = []\n",
    "    local_train_acc_history = []\n",
    "    \n",
    "    model.train()\n",
    "    for i in range(n_iterations):\n",
    "        opt.zero_grad()\n",
    "        # sample 256 random observations\n",
    "        ix = np.random.randint(0, len(X_train_torch), batch_size)\n",
    "        x_batch = X_train_torch[ix]\n",
    "        y_batch = y_train_torch[ix]\n",
    "        x_batch = x_batch\n",
    "        y_batch = y_batch\n",
    "        # predict log-probabilities or logits\n",
    "        y_predicted = model(x_batch)### YOUR CODE\n",
    "\n",
    "        # compute loss, just like before\n",
    "        ### YOUR CODE\n",
    "        loss = loss_function(y_predicted, y_batch)\n",
    "\n",
    "\n",
    "        # compute gradients\n",
    "        ### YOUR CODE\n",
    "        loss.backward()\n",
    "        # Adam step\n",
    "        ### YOUR CODE\n",
    "        opt.step()\n",
    "        # clear gradients\n",
    "        ### YOUR CODE\n",
    "\n",
    "        local_train_loss_history.append(loss.data.numpy())\n",
    "        local_train_acc_history.append(\n",
    "            accuracy_score(\n",
    "                y_batch.to('cpu').detach().numpy(),\n",
    "                y_predicted.to('cpu').detach().numpy().argmax(axis=1)\n",
    "            )\n",
    "        )\n",
    "\n",
    "        if i % eval_every == 0:\n",
    "            model.eval()\n",
    "            \n",
    "            train_loss_history.append(np.mean(local_train_loss_history))\n",
    "            train_acc_history.append(np.mean(local_train_acc_history))\n",
    "            local_train_loss_history, local_train_acc_history = [], []\n",
    "            \n",
    "            predictions_val = model(X_val_torch)\n",
    "            val_loss = loss_function(predictions_val, y_val_torch).to('cpu').detach().item()\n",
    "            lr_scheduler.step(val_loss)\n",
    "            val_loss_history.append(val_loss)\n",
    "            \n",
    "            acc_score_val = accuracy_score(y_val_torch.cpu().numpy(), predictions_val.to('cpu').detach().numpy().argmax(axis=1))\n",
    "            val_acc_history.append(acc_score_val)\n",
    "            lr_scheduler.step(train_loss_history[-1])\n",
    "\n",
    "            if show_plots:\n",
    "                display.clear_output(wait=True)\n",
    "                plot_train_process(train_loss_history, val_loss_history, train_acc_history, val_acc_history)\n",
    "    return model"
   ]
  },
  {
   "cell_type": "markdown",
   "metadata": {},
   "source": [
    "Let's run it on the data. Note, that here we use the `test` part of the data for validation. It's not so good idea in general, but in this task our main goal is practice."
   ]
  },
  {
   "cell_type": "code",
   "execution_count": 22,
   "metadata": {},
   "outputs": [
    {
     "data": {
      "image/png": "[encoded data removed]",
      "text/plain": [
       "<Figure size 1080x360 with 2 Axes>"
      ]
     },
     "metadata": {
      "needs_background": "light"
     },
     "output_type": "display_data"
    },
    {
     "data": {
      "text/plain": [
       "Sequential(\n",
       "  (l1): Linear(in_features=5707, out_features=2, bias=True)\n",
       ")"
      ]
     },
     "execution_count": 22,
     "metadata": {},
     "output_type": "execute_result"
    }
   ],
   "source": [
    "train_model(\n",
    "    model,\n",
    "    loss_function,\n",
    "    opt,\n",
    "    lr_scheduler,\n",
    "    X_train_bow_torch,\n",
    "    y_train_torch,\n",
    "    X_test_bow_torch,\n",
    "    y_test_torch,\n",
    "    n_iterations=500\n",
    ")"
   ]
  },
  {
   "cell_type": "code",
   "execution_count": 23,
   "metadata": {},
   "outputs": [
    {
     "data": {
      "image/png": "[encoded data removed]",
      "text/plain": [
       "<Figure size 432x288 with 1 Axes>"
      ]
     },
     "metadata": {
      "needs_background": "light"
     },
     "output_type": "display_data"
    }
   ],
   "source": [
    "from sklearn.metrics import roc_auc_score, roc_curve\n",
    "\n",
    "for name, X, y, model in [\n",
    "    ('train', X_train_bow_torch, y_train, model),\n",
    "    ('test ', X_test_bow_torch, y_test, model)\n",
    "]:\n",
    "    proba = model(X).detach().cpu().numpy()[:, 1]\n",
    "    plot_roc_curve(name, proba, y)\n",
    "\n",
    "plt.grid()"
   ]
  },
  {
   "cell_type": "markdown",
   "metadata": {},
   "source": [
    "Try to vary the number of tokens `k` and check how the model performance changes. Show it on a plot."
   ]
  },
  {
   "cell_type": "code",
   "execution_count": 24,
   "metadata": {
    "scrolled": true
   },
   "outputs": [
    {
     "name": "stdout",
     "output_type": "stream",
     "text": [
      "resetting  l1\n",
      "resetting  l1\n",
      "resetting  l1\n",
      "resetting  l1\n",
      "resetting  l1\n",
      "resetting  l1\n",
      "resetting  l1\n",
      "resetting  l1\n",
      "resetting  l1\n",
      "resetting  l1\n"
     ]
    }
   ],
   "source": [
    "def create_torch_logreg(input_shape):\n",
    "    model = nn.Sequential()\n",
    "    model.add_module('l1', nn.Linear(input_shape, 2))\n",
    "    loss = nn.CrossEntropyLoss()\n",
    "    opt = torch.optim.Adam(model.parameters())\n",
    "    lr_scheduler = ReduceLROnPlateau(opt, mode='min')\n",
    "    return model, loss, opt, lr_scheduler\n",
    "\n",
    "pred_collection = dict()\n",
    "bow = BagOfWords(texts_train, max_feat=k, ngrams=(1, 2))\n",
    "\n",
    "for k in np.geomspace(100, len(bow.word_counter), 10, dtype=int):\n",
    "    bow.set_max_feat(k)\n",
    "    X_train_bow = bow.transform_dataset(texts_train)\n",
    "    X_test_bow = bow.transform_dataset(texts_test)\n",
    "    X_train_bow_torch = torch.tensor(X_train_bow)### YOUR CODE HERE\n",
    "    X_test_bow_torch = torch.tensor(X_test_bow)### YOUR CODE HERE\n",
    "\n",
    "    y_train_torch = torch.tensor(y_train)### YOUR CODE HERE\n",
    "    y_test_torch = torch.tensor(y_test)### YOUR CODE HERE\n",
    "    \n",
    "    \n",
    "    model = train_model(\n",
    "        *create_torch_logreg(k),\n",
    "        X_train_bow_torch,\n",
    "        y_train_torch,\n",
    "        X_test_bow_torch,\n",
    "        y_test_torch,\n",
    "        n_iterations=500,\n",
    "        show_plots=False,\n",
    "    )\n",
    "    model.eval()\n",
    "    train_pred = model(X_train_bow_torch).detach().cpu().numpy()[:, 1]\n",
    "    test_pred = model(X_test_bow_torch).detach().cpu().numpy()[:, 1]\n",
    "    pred_collection[k] = (train_pred, test_pred)\n",
    "                        "
   ]
  },
  {
   "cell_type": "code",
   "execution_count": 25,
   "metadata": {},
   "outputs": [
    {
     "data": {
      "application/vnd.jupyter.widget-view+json": {
       "model_id": "97b78e278ebc487faa3cd2089018d6f4",
       "version_major": 2,
       "version_minor": 0
      },
      "text/plain": [
       "interactive(children=(Dropdown(description='max_feat', options=(100, 187, 349, 653, 1222, 2286, 4276, 7996, 14…"
      ]
     },
     "metadata": {},
     "output_type": "display_data"
    },
    {
     "data": {
      "text/plain": [
       "<function __main__.plot_results(max_feat, pred_collection)>"
      ]
     },
     "execution_count": 25,
     "metadata": {},
     "output_type": "execute_result"
    }
   ],
   "source": [
    "def plot_results(max_feat, pred_collection):\n",
    "    train_pred, test_pred = pred_collection[max_feat]\n",
    "    for name, pred, y in [\n",
    "        ('train', train_pred, y_train),\n",
    "        ('test ', test_pred, y_test)\n",
    "    ]:\n",
    "        plot_roc_curve(name, pred, y)\n",
    "    plt.legend(fontsize='large')\n",
    "    plt.grid()\n",
    "    plt.show()\n",
    "\n",
    "interact(plot_results, max_feat=list(pred_collection.keys()), pred_collection=fixed(pred_collection))"
   ]
  },
  {
   "cell_type": "markdown",
   "metadata": {},
   "source": [
    "### Step 2: implement TF-IDF features\n",
    "\n",
    "Not all words are equally useful. One can prioritize rare words and downscale words like \"and\"/\"or\" by using __tf-idf features__. This abbreviation stands for __text frequency/inverse document frequence__ and means exactly that:\n",
    "\n",
    "$$ feature_i = { Count(word_i \\in x) \\times { log {N \\over Count(word_i \\in D) + \\alpha} }}, $$\n",
    "\n",
    "\n",
    "where x is a single text, D is your dataset (a collection of texts), N is a total number of documents and $\\alpha$ is a smoothing hyperparameter (typically 1). \n",
    "And $Count(word_i \\in D)$ is the number of documents where $word_i$ appears.\n",
    "\n",
    "It may also be a good idea to normalize each data sample after computing tf-idf features.\n",
    "\n",
    "__Your task:__ implement tf-idf features, train a model and evaluate ROC curve. Compare it with basic BagOfWords model from above.\n",
    "\n",
    "__Please don't use sklearn/nltk builtin tf-idf vectorizers in your solution :)__ You can still use 'em for debugging though."
   ]
  },
  {
   "cell_type": "markdown",
   "metadata": {},
   "source": [
    "Blog post about implementing the TF-IDF features from scratch: https://triton.ml/blog/tf-idf-from-scratch"
   ]
  },
  {
   "cell_type": "markdown",
   "metadata": {},
   "source": [
    "Same stuff about moel and optimizers here (or just omit it, if you are using the same model as before)."
   ]
  },
  {
   "cell_type": "code",
   "execution_count": 26,
   "metadata": {},
   "outputs": [
    {
     "name": "stdout",
     "output_type": "stream",
     "text": [
      "CPU times: user 2.34 s, sys: 33.6 ms, total: 2.37 s\n",
      "Wall time: 2.34 s\n"
     ]
    }
   ],
   "source": [
    "%%time\n",
    "tfidf = TFiDF(texts_train, 1, max_feat=3000, ngrams=(1,2))### YOUR CODE HERE"
   ]
  },
  {
   "cell_type": "code",
   "execution_count": 27,
   "metadata": {},
   "outputs": [],
   "source": [
    "X_train_tfidf = tfidf.transform_dataset(texts_train)\n",
    "X_train_tfidf = normalize(X_train_tfidf, axis=1)\n",
    "X_test_tfidf = tfidf.transform_dataset(texts_test)\n",
    "X_test_tfidf = normalize(X_test_tfidf, axis=1)"
   ]
  },
  {
   "cell_type": "code",
   "execution_count": 28,
   "metadata": {},
   "outputs": [],
   "source": [
    "X_train_tfidf_torch = torch.tensor(X_train_tfidf)### YOUR CODE HERE\n",
    "X_test_tfidf_torch = torch.tensor(X_test_tfidf)### YOUR CODE HERE\n",
    "\n",
    "y_train_torch = torch.tensor(y_train)### YOUR CODE HERE\n",
    "y_test_torch = torch.tensor(y_test)### YOUR CODE HERE"
   ]
  },
  {
   "cell_type": "code",
   "execution_count": 29,
   "metadata": {},
   "outputs": [
    {
     "name": "stdout",
     "output_type": "stream",
     "text": [
      "resetting  l1\n",
      "resetting  l1\n",
      "resetting  l1\n",
      "resetting  l1\n",
      "resetting  l1\n",
      "resetting  l1\n",
      "resetting  l1\n",
      "resetting  l1\n",
      "resetting  l1\n",
      "resetting  l1\n"
     ]
    }
   ],
   "source": [
    "tfidf = TFiDF(texts_train, 1, max_feat=3000, ngrams=(1,2))\n",
    "pred_collection = dict()\n",
    "for k in np.geomspace(100, len(bow.word_counter), 10, dtype=int):\n",
    "    tfidf.set_max_feat(k)\n",
    "    X_train_tfidf = tfidf.transform_dataset(texts_train)\n",
    "    X_train_tfidf = normalize(X_train_tfidf, axis=1)\n",
    "    X_test_tfidf = tfidf.transform_dataset(texts_test)\n",
    "    X_test_tfidf = normalize(X_test_tfidf, axis=1)\n",
    "    \n",
    "    X_train_tfidf_torch = torch.tensor(X_train_tfidf)\n",
    "    X_test_tfidf_torch = torch.tensor(X_test_tfidf)\n",
    "\n",
    "    y_train_torch = torch.tensor(y_train)\n",
    "    y_test_torch = torch.tensor(y_test)\n",
    "    \n",
    "    \n",
    "    model = train_model(\n",
    "        *create_torch_logreg(k),\n",
    "        X_train_tfidf_torch,\n",
    "        y_train_torch,\n",
    "        X_test_tfidf_torch,\n",
    "        y_test_torch,\n",
    "        n_iterations=500,\n",
    "        show_plots=False,\n",
    "    )\n",
    "    model.eval()\n",
    "    train_pred = model(X_train_tfidf_torch).detach().cpu().numpy()[:, 1]\n",
    "    test_pred = model(X_test_tfidf_torch).detach().cpu().numpy()[:, 1]\n",
    "    pred_collection[k] = (train_pred, test_pred)"
   ]
  },
  {
   "cell_type": "code",
   "execution_count": 30,
   "metadata": {},
   "outputs": [
    {
     "data": {
      "application/vnd.jupyter.widget-view+json": {
       "model_id": "d8b74c5deb77450b85ba2c9487f39f7d",
       "version_major": 2,
       "version_minor": 0
      },
      "text/plain": [
       "interactive(children=(Dropdown(description='max_feat', options=(100, 187, 349, 653, 1222, 2286, 4276, 7996, 14…"
      ]
     },
     "metadata": {},
     "output_type": "display_data"
    },
    {
     "data": {
      "text/plain": [
       "<function __main__.plot_results(max_feat, pred_collection)>"
      ]
     },
     "execution_count": 30,
     "metadata": {},
     "output_type": "execute_result"
    }
   ],
   "source": [
    "interact(plot_results, max_feat=list(pred_collection.keys()), pred_collection=fixed(pred_collection))"
   ]
  },
  {
   "cell_type": "markdown",
   "metadata": {},
   "source": [
    "Fit your model to the data. No not hesitate to vary number of iterations, learning rate and so on.\n",
    "\n",
    "_Note: due to very small dataset, increasing the complexity of the network might not be the best idea._"
   ]
  },
  {
   "cell_type": "markdown",
   "metadata": {},
   "source": [
    "### Step 3: Comparing it with Naive Bayes\n",
    "\n",
    "Naive Bayes classifier is a good choice for such small problems. Try to tune it for both BOW and TF-iDF features. Compare the results with Logistic Regression."
   ]
  },
  {
   "cell_type": "code",
   "execution_count": 32,
   "metadata": {},
   "outputs": [],
   "source": [
    "tfidf = TFiDF(texts_train, 1, max_feat=3000, ngrams=(1,2))\n",
    "pred_collection = dict()\n",
    "for k in np.geomspace(100, len(bow.word_counter), 10, dtype=int):\n",
    "    tfidf.set_max_feat(k)\n",
    "    X_train_tfidf = tfidf.transform_dataset(texts_train)\n",
    "    X_train_tfidf = normalize(X_train_tfidf, axis=1)\n",
    "    X_test_tfidf = tfidf.transform_dataset(texts_test)\n",
    "    X_test_tfidf = normalize(X_test_tfidf, axis=1)\n",
    "    model = MultinomialNB()\n",
    "    model.fit(X_train_tfidf, y_train)\n",
    "    train_pred = model.predict(X_train_tfidf)\n",
    "    test_pred = model.predict(X_test_tfidf)\n",
    "    pred_collection[k] = (train_pred, test_pred)"
   ]
  },
  {
   "cell_type": "code",
   "execution_count": 33,
   "metadata": {},
   "outputs": [
    {
     "data": {
      "application/vnd.jupyter.widget-view+json": {
       "model_id": "8daf15a66cc14be59e4c6f610690a4a9",
       "version_major": 2,
       "version_minor": 0
      },
      "text/plain": [
       "interactive(children=(Dropdown(description='max_feat', options=(100, 187, 349, 653, 1222, 2286, 4276, 7996, 14…"
      ]
     },
     "metadata": {},
     "output_type": "display_data"
    },
    {
     "data": {
      "text/plain": [
       "<function __main__.plot_results(max_feat, pred_collection)>"
      ]
     },
     "execution_count": 33,
     "metadata": {},
     "output_type": "execute_result"
    }
   ],
   "source": [
    "interact(plot_results, max_feat=list(pred_collection.keys()), pred_collection=fixed(pred_collection))"
   ]
  },
  {
   "cell_type": "markdown",
   "metadata": {},
   "source": [
    "Shape some thoughts on the results you aquired. Which model has show the best performance? Did changing the learning rate/lr scheduler help?"
   ]
  },
  {
   "cell_type": "markdown",
   "metadata": {},
   "source": [
    "_Your beautiful thoughts here_\n",
    "\n",
    "There was a certain max_feat value when model performance on train corpus had reached near 1.0 rocauc score and overfitting had began for both techniques (TFiDF and BoW). It means that it is easier to remember particular elements of dataset (they can contain specific words for example) than extract meaningful patterns."
   ]
  },
  {
   "cell_type": "markdown",
   "metadata": {},
   "source": [
    "### Step 4: Using the external knowledge.\n",
    "\n",
    "Use the `gensim` word2vec pretrained model to translate words into vectors. Use several models with this new encoding technique. Compare the results, share your thoughts."
   ]
  },
  {
   "cell_type": "code",
   "execution_count": 34,
   "metadata": {},
   "outputs": [
    {
     "name": "stderr",
     "output_type": "stream",
     "text": [
      "/home/cherepaha/miniconda/envs/py37/lib/python3.7/site-packages/gensim/similarities/__init__.py:15: UserWarning: The gensim.similarities.levenshtein submodule is disabled, because the optional Levenshtein package <https://pypi.org/project/python-Levenshtein/> is unavailable. Install Levenhstein (e.g. `pip install python-Levenshtein`) to suppress this warning.\n",
      "  warnings.warn(msg)\n"
     ]
    },
    {
     "name": "stdout",
     "output_type": "stream",
     "text": [
      "[==================================================] 100.0% 199.5/199.5MB downloaded\n"
     ]
    }
   ],
   "source": [
    "from nltk.tokenize import WordPunctTokenizer\n",
    "import gensim.downloader as api\n",
    "\n",
    "EMBEDDING_SIZE = 50\n",
    "\n",
    "glove_model = api.load(f'glove-twitter-{EMBEDDING_SIZE}', )"
   ]
  },
  {
   "cell_type": "code",
   "execution_count": 35,
   "metadata": {},
   "outputs": [],
   "source": [
    "glove_transformer = Word2Vec(glove_model, WordPunctTokenizer(), 500)"
   ]
  },
  {
   "cell_type": "code",
   "execution_count": 36,
   "metadata": {},
   "outputs": [],
   "source": [
    "X_train_w2v = glove_transformer.transform_dataset(texts_train)\n",
    "X_test_w2v = glove_transformer.transform_dataset(texts_test)"
   ]
  },
  {
   "cell_type": "code",
   "execution_count": 37,
   "metadata": {},
   "outputs": [],
   "source": [
    "X_train_w2v_torch = torch.tensor(X_train_w2v.astype('float32'))\n",
    "X_test_w2v_torch = torch.tensor(X_test_w2v.astype('float32'))"
   ]
  },
  {
   "cell_type": "code",
   "execution_count": 38,
   "metadata": {},
   "outputs": [],
   "source": [
    "def create_cnn_model(text_maxlen, emb_size):\n",
    "    model = nn.Sequential()\n",
    "    model.add_module('conv1', nn.Conv1d(emb_size, emb_size, 5, padding=2))\n",
    "    model.add_module('relu1', nn.ReLU())\n",
    "    model.add_module('pool', nn.MaxPool1d(text_maxlen))\n",
    "    model.add_module('flat', nn.Flatten())\n",
    "    model.add_module('dropout', nn.Dropout())\n",
    "    model.add_module('bn', nn.BatchNorm1d(emb_size))\n",
    "    model.add_module('output', nn.Linear(emb_size, 2))\n",
    "    loss = nn.CrossEntropyLoss()\n",
    "    opt = torch.optim.Adam(model.parameters())\n",
    "    lr_scheduler = ReduceLROnPlateau(opt, mode='min')\n",
    "    return model, loss, opt, lr_scheduler"
   ]
  },
  {
   "cell_type": "code",
   "execution_count": 39,
   "metadata": {},
   "outputs": [
    {
     "data": {
      "image/png": "[encoded data removed]",
      "text/plain": [
       "<Figure size 1080x360 with 2 Axes>"
      ]
     },
     "metadata": {
      "needs_background": "light"
     },
     "output_type": "display_data"
    }
   ],
   "source": [
    "model = train_model(\n",
    "    *create_cnn_model(500, EMBEDDING_SIZE),\n",
    "#     *create_torch_logreg(25),\n",
    "    X_train_w2v_torch,\n",
    "    y_train_torch,\n",
    "    X_test_w2v_torch,\n",
    "    y_test_torch,\n",
    "    n_iterations=1000\n",
    ")"
   ]
  },
  {
   "cell_type": "code",
   "execution_count": 40,
   "metadata": {},
   "outputs": [
    {
     "data": {
      "image/png": "[encoded data removed]",
      "text/plain": [
       "<Figure size 432x288 with 1 Axes>"
      ]
     },
     "metadata": {
      "needs_background": "light"
     },
     "output_type": "display_data"
    }
   ],
   "source": [
    "model.eval()\n",
    "for name, X, y, model in [\n",
    "    ('train', X_train_w2v_torch, y_train, model),\n",
    "    ('test ', X_test_w2v_torch, y_test, model)\n",
    "]:\n",
    "    proba = model(X).detach().cpu().numpy()[:, 1]\n",
    "    plot_roc_curve(name, proba, y)\n",
    "\n",
    "plt.grid()"
   ]
  },
  {
   "cell_type": "code",
   "execution_count": 41,
   "metadata": {
    "scrolled": true
   },
   "outputs": [
    {
     "name": "stdout",
     "output_type": "stream",
     "text": [
      "resetting  conv1\n",
      "resetting  relu1\n",
      "Cannot reset relu1 module parameters: 'ReLU' object has no attribute 'reset_parameters'\n",
      "resetting  pool\n",
      "Cannot reset pool module parameters: 'MaxPool1d' object has no attribute 'reset_parameters'\n",
      "resetting  flat\n",
      "Cannot reset flat module parameters: 'Flatten' object has no attribute 'reset_parameters'\n",
      "resetting  dropout\n",
      "Cannot reset dropout module parameters: 'Dropout' object has no attribute 'reset_parameters'\n",
      "resetting  bn\n",
      "resetting  output\n",
      "resetting  conv1\n",
      "resetting  relu1\n",
      "Cannot reset relu1 module parameters: 'ReLU' object has no attribute 'reset_parameters'\n",
      "resetting  pool\n",
      "Cannot reset pool module parameters: 'MaxPool1d' object has no attribute 'reset_parameters'\n",
      "resetting  flat\n",
      "Cannot reset flat module parameters: 'Flatten' object has no attribute 'reset_parameters'\n",
      "resetting  dropout\n",
      "Cannot reset dropout module parameters: 'Dropout' object has no attribute 'reset_parameters'\n",
      "resetting  bn\n",
      "resetting  output\n",
      "resetting  conv1\n",
      "resetting  relu1\n",
      "Cannot reset relu1 module parameters: 'ReLU' object has no attribute 'reset_parameters'\n",
      "resetting  pool\n",
      "Cannot reset pool module parameters: 'MaxPool1d' object has no attribute 'reset_parameters'\n",
      "resetting  flat\n",
      "Cannot reset flat module parameters: 'Flatten' object has no attribute 'reset_parameters'\n",
      "resetting  dropout\n",
      "Cannot reset dropout module parameters: 'Dropout' object has no attribute 'reset_parameters'\n",
      "resetting  bn\n",
      "resetting  output\n",
      "resetting  conv1\n",
      "resetting  relu1\n",
      "Cannot reset relu1 module parameters: 'ReLU' object has no attribute 'reset_parameters'\n",
      "resetting  pool\n",
      "Cannot reset pool module parameters: 'MaxPool1d' object has no attribute 'reset_parameters'\n",
      "resetting  flat\n",
      "Cannot reset flat module parameters: 'Flatten' object has no attribute 'reset_parameters'\n",
      "resetting  dropout\n",
      "Cannot reset dropout module parameters: 'Dropout' object has no attribute 'reset_parameters'\n",
      "resetting  bn\n",
      "resetting  output\n",
      "resetting  conv1\n",
      "resetting  relu1\n",
      "Cannot reset relu1 module parameters: 'ReLU' object has no attribute 'reset_parameters'\n",
      "resetting  pool\n",
      "Cannot reset pool module parameters: 'MaxPool1d' object has no attribute 'reset_parameters'\n",
      "resetting  flat\n",
      "Cannot reset flat module parameters: 'Flatten' object has no attribute 'reset_parameters'\n",
      "resetting  dropout\n",
      "Cannot reset dropout module parameters: 'Dropout' object has no attribute 'reset_parameters'\n",
      "resetting  bn\n",
      "resetting  output\n",
      "resetting  conv1\n",
      "resetting  relu1\n",
      "Cannot reset relu1 module parameters: 'ReLU' object has no attribute 'reset_parameters'\n",
      "resetting  pool\n",
      "Cannot reset pool module parameters: 'MaxPool1d' object has no attribute 'reset_parameters'\n",
      "resetting  flat\n",
      "Cannot reset flat module parameters: 'Flatten' object has no attribute 'reset_parameters'\n",
      "resetting  dropout\n",
      "Cannot reset dropout module parameters: 'Dropout' object has no attribute 'reset_parameters'\n",
      "resetting  bn\n",
      "resetting  output\n"
     ]
    }
   ],
   "source": [
    "pred_collection = dict()\n",
    "for k in np.linspace(100, 600, 6, dtype=int):\n",
    "    glove_transformer.set_text_maxlen(k)\n",
    "    \n",
    "    X_train_w2v = glove_transformer.transform_dataset(texts_train)\n",
    "    X_test_w2v = glove_transformer.transform_dataset(texts_test)\n",
    "    \n",
    "    X_train_w2v_torch = torch.tensor(X_train_w2v.astype('float32'))\n",
    "    X_test_w2v_torch = torch.tensor(X_test_w2v.astype('float32'))\n",
    "\n",
    "    y_train_torch = torch.tensor(y_train)\n",
    "    y_test_torch = torch.tensor(y_test)\n",
    "    \n",
    "    \n",
    "    model = train_model(\n",
    "        *create_cnn_model(k, EMBEDDING_SIZE),\n",
    "        X_train_w2v_torch,\n",
    "        y_train_torch,\n",
    "        X_test_w2v_torch,\n",
    "        y_test_torch,\n",
    "        n_iterations=500,\n",
    "        show_plots=False,\n",
    "    )\n",
    "    model.eval()\n",
    "    train_pred = model(X_train_w2v_torch).detach().cpu().numpy()[:, 1]\n",
    "    test_pred = model(X_test_w2v_torch).detach().cpu().numpy()[:, 1]\n",
    "    pred_collection[k] = (train_pred, test_pred)"
   ]
  },
  {
   "cell_type": "code",
   "execution_count": 42,
   "metadata": {},
   "outputs": [
    {
     "data": {
      "application/vnd.jupyter.widget-view+json": {
       "model_id": "db5b996f351142188f25292491c884c6",
       "version_major": 2,
       "version_minor": 0
      },
      "text/plain": [
       "interactive(children=(Dropdown(description='max_feat', options=(100, 200, 300, 400, 500, 600), value=100), Out…"
      ]
     },
     "metadata": {},
     "output_type": "display_data"
    },
    {
     "data": {
      "text/plain": [
       "<function __main__.plot_results(max_feat, pred_collection)>"
      ]
     },
     "execution_count": 42,
     "metadata": {},
     "output_type": "execute_result"
    }
   ],
   "source": [
    "interact(plot_results, max_feat=list(pred_collection.keys()), pred_collection=fixed(pred_collection))"
   ]
  },
  {
   "cell_type": "code",
   "execution_count": null,
   "metadata": {},
   "outputs": [],
   "source": []
  }
 ],
 "metadata": {
  "kernelspec": {
   "display_name": "Python 3",
   "language": "python",
   "name": "python3"
  },
  "language_info": {
   "codemirror_mode": {
    "name": "ipython",
    "version": 3
   },
   "file_extension": ".py",
   "mimetype": "text/x-python",
   "name": "python",
   "nbconvert_exporter": "python",
   "pygments_lexer": "ipython3",
   "version": "3.7.3"
  },
  "widgets": {
   "application/vnd.jupyter.widget-state+json": {
    "state": {
     "08b722ca247941509d88120fdb465321": {
      "model_module": "@jupyter-widgets/output",
      "model_module_version": "1.0.0",
      "model_name": "OutputModel",
      "state": {
       "layout": "IPY_MODEL_74e47e1883414a3e9cbb4ccecb7d2517",
       "outputs": [
        {
         "data": {
          "image/png": "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\n",
          "text/plain": "<Figure size 432x288 with 1 Axes>"
         },
         "metadata": {
          "needs_background": "light"
         },
         "output_type": "display_data"
        }
       ]
      }
     },
     "0b147c03b0c847b1b7f5ffa34632e59b": {
      "model_module": "@jupyter-widgets/controls",
      "model_module_version": "1.5.0",
      "model_name": "DropdownModel",
      "state": {
       "_options_labels": [
        "100",
        "180",
        "324",
        "584",
        "1053",
        "1898",
        "3419",
        "6161",
        "11100",
        "20000",
        "200",
        "300",
        "400",
        "500"
       ],
       "description": "max_feat",
       "index": 1,
       "layout": "IPY_MODEL_394a12cbca9e4dfbbbe1642c4046d372",
       "style": "IPY_MODEL_801dae35d7c54ceab77810fe2b929565"
      }
     },
     "0eeb4762ca1d4c63816dd73d453df795": {
      "model_module": "@jupyter-widgets/base",
      "model_module_version": "1.2.0",
      "model_name": "LayoutModel",
      "state": {}
     },
     "120c275c31ff45fbb881a0672693ed5b": {
      "model_module": "@jupyter-widgets/base",
      "model_module_version": "1.2.0",
      "model_name": "LayoutModel",
      "state": {}
     },
     "12a2317253ec4c24ae671178b958e497": {
      "model_module": "@jupyter-widgets/base",
      "model_module_version": "1.2.0",
      "model_name": "LayoutModel",
      "state": {}
     },
     "1376fb76351d47558ce2f0b96a6eb1bd": {
      "model_module": "@jupyter-widgets/controls",
      "model_module_version": "1.5.0",
      "model_name": "DropdownModel",
      "state": {
       "_options_labels": [
        "100",
        "187",
        "349",
        "653",
        "1222",
        "2286",
        "4276",
        "7996",
        "14954",
        "27964"
       ],
       "description": "max_feat",
       "index": 9,
       "layout": "IPY_MODEL_2af07f9acd3e40a9ace02da6bc20746f",
       "style": "IPY_MODEL_9e10e2e4add54766b6e83f1aa3bacce7"
      }
     },
     "13bf96be7e3644e094927e67b3b9ec4b": {
      "model_module": "@jupyter-widgets/controls",
      "model_module_version": "1.5.0",
      "model_name": "VBoxModel",
      "state": {
       "_dom_classes": [
        "widget-interact"
       ],
       "children": [
        "IPY_MODEL_9645beadbb8a4c60a792f812ad31291d",
        "IPY_MODEL_8c0f29ab7ad7426aad4e929113284288"
       ],
       "layout": "IPY_MODEL_c1880b2c10b34b078e93cb21e5b64b78"
      }
     },
     "13f9c77c802d4d5db66379a6bc499405": {
      "model_module": "@jupyter-widgets/controls",
      "model_module_version": "1.5.0",
      "model_name": "DropdownModel",
      "state": {
       "_options_labels": [
        "100",
        "200",
        "300",
        "400",
        "500"
       ],
       "description": "max_feat",
       "index": 3,
       "layout": "IPY_MODEL_120c275c31ff45fbb881a0672693ed5b",
       "style": "IPY_MODEL_1dd802c05f864f2c9a1c1d2e0db5cc5c"
      }
     },
     "14dd5817b2e24ace9efb813efa489f22": {
      "model_module": "@jupyter-widgets/base",
      "model_module_version": "1.2.0",
      "model_name": "LayoutModel",
      "state": {}
     },
     "160223b2f0ad41a094aad396bb43d941": {
      "model_module": "@jupyter-widgets/base",
      "model_module_version": "1.2.0",
      "model_name": "LayoutModel",
      "state": {}
     },
     "1829921b4f724d5ab7498df11ae401d4": {
      "model_module": "@jupyter-widgets/controls",
      "model_module_version": "1.5.0",
      "model_name": "DropdownModel",
      "state": {
       "_options_labels": [
        "100",
        "187",
        "349",
        "653",
        "1222",
        "2286",
        "4276",
        "7996",
        "14954",
        "27964"
       ],
       "description": "max_feat",
       "index": 8,
       "layout": "IPY_MODEL_430337c703c64d46a02f65a93e77ca26",
       "style": "IPY_MODEL_a273d90d40ed4b26929e6b94ced80e78"
      }
     },
     "187d9efb7c684d539f44e72889d41803": {
      "model_module": "@jupyter-widgets/controls",
      "model_module_version": "1.5.0",
      "model_name": "DescriptionStyleModel",
      "state": {
       "description_width": ""
      }
     },
     "1a1fe49a6d48428b8fc377ec5cfacce5": {
      "model_module": "@jupyter-widgets/controls",
      "model_module_version": "1.5.0",
      "model_name": "DropdownModel",
      "state": {
       "_options_labels": [
        "100",
        "187",
        "349",
        "653",
        "1222",
        "2286",
        "4276",
        "7996",
        "14954",
        "27964"
       ],
       "description": "max_feat",
       "index": 9,
       "layout": "IPY_MODEL_eba392d4542941a58cfd55ae89e3a992",
       "style": "IPY_MODEL_73eca581241546748b7bdf4c1e5ad7ad"
      }
     },
     "1bd0443e512f452f9887216c30b78d1b": {
      "model_module": "@jupyter-widgets/output",
      "model_module_version": "1.0.0",
      "model_name": "OutputModel",
      "state": {
       "layout": "IPY_MODEL_fe4228e35fd14e47bf1827f5a2559b76",
       "outputs": [
        {
         "data": {
          "image/png": "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\n",
          "text/plain": "<Figure size 432x288 with 1 Axes>"
         },
         "metadata": {
          "needs_background": "light"
         },
         "output_type": "display_data"
        }
       ]
      }
     },
     "1dd802c05f864f2c9a1c1d2e0db5cc5c": {
      "model_module": "@jupyter-widgets/controls",
      "model_module_version": "1.5.0",
      "model_name": "DescriptionStyleModel",
      "state": {
       "description_width": ""
      }
     },
     "2931471e27764e1db6fce11af4ca2cea": {
      "model_module": "@jupyter-widgets/base",
      "model_module_version": "1.2.0",
      "model_name": "LayoutModel",
      "state": {}
     },
     "296de9e8bf3f4049a3237f65556f58bb": {
      "model_module": "@jupyter-widgets/base",
      "model_module_version": "1.2.0",
      "model_name": "LayoutModel",
      "state": {}
     },
     "2af07f9acd3e40a9ace02da6bc20746f": {
      "model_module": "@jupyter-widgets/base",
      "model_module_version": "1.2.0",
      "model_name": "LayoutModel",
      "state": {}
     },
     "2b67c1794f0a4ddfb9e53e2271357798": {
      "model_module": "@jupyter-widgets/base",
      "model_module_version": "1.2.0",
      "model_name": "LayoutModel",
      "state": {}
     },
     "2db15432d40840aea2d0086a7e565676": {
      "model_module": "@jupyter-widgets/output",
      "model_module_version": "1.0.0",
      "model_name": "OutputModel",
      "state": {
       "layout": "IPY_MODEL_39c7b83b1ed04c36841e6b45000105eb",
       "outputs": [
        {
         "data": {
          "image/png": "iVBORw0KGgoAAAANSUhEUgAAAXcAAAD8CAYAAACMwORRAAAABHNCSVQICAgIfAhkiAAAAAlwSFlzAAALEgAACxIB0t1+/AAAADl0RVh0U29mdHdhcmUAbWF0cGxvdGxpYiB2ZXJzaW9uIDMuMC4zLCBodHRwOi8vbWF0cGxvdGxpYi5vcmcvnQurowAAIABJREFUeJzt3XlcVNX7wPHPAVRUXBAVTUHcBXFJSXPHtFzSzExDbbHIJa2vZWXaYmpmaC5lae6JmqZfK5dflpWFfnPNcsldREXUUFFQVLbh/P4YJFDAAQbuMPO8Xy9ezr333HufMzM+HM699xyltUYIIYR9cTI6ACGEENYnyV0IIeyQJHchhLBDktyFEMIOSXIXQgg7JMldCCHskCR3IYSwQ5LchRDCDklyF0IIO+Ri1IkrVqyofXx88rTvjRs3KF26tHUDsnFSZ8cgdXYM+anzn3/+eVlrXele5QxL7j4+PuzZsydP+4aFhREYGGjdgGyc1NkxSJ0dQ37qrJQ6Y0k56ZYRQgg7JMldCCHskCR3IYSwQ5LchRDCDklyF0IIO3TP5K6UWqyUuqiUOpjNdqWUmqWUCldKHVBKNbN+mEIIIXLDkpb7EqBrDtu7AXXTfoYAX+Q/LCGEEPlxz/vctdZblVI+ORTpBSzV5vn6diqlyiulqmqtL1gpxhyt2BXJun3nCuNUhoqNvcUXx3YYHUahkjo7Bkeqs/OtGNpeXMnVKq0L/N5+azzEVA04m2E5Km3dXcldKTUEc+seT09PwsLC8nTC+Ph4wsLCCDubzJJDSQDUd7fvywcmk4nY2FijwyhUUmfHYFSdi+lkFHfPId03ZT0Bpv2grHu+nRHXmLj+FEdLpPLKyIp5zn+WKtQnVLXW84H5AAEBATovv7lW7IokdNchypcvwa5TNwCY3LsRA1p6WzNUmyNP8TkGqXMBMSXD6f9BSqJ5OXwz/LEg531qdrTKqWNvJPPmqkMs3HKGOp6lmRn8ACUbPUCLItByPwd4ZViunrauQKzbd47I66mULw8ta1agV9Nqdp/YhbBLu+bDlZPUiYqCWz8U7LmO/whXT9+9vu0ocC179/q6XcDTL9+nNZlMtG7UiGPHzjJ69GjGjx9PyZIlC7zVDtZJ7uuBl5VSXwMtgbiC7m/3LuPEqqGtCvIUQjium1fAlPTvsikJVj8LSTdBWamvIjUFYsIB8HQpDTEF3IlgSoFipWDAKihRxryuVEUo75XzfnkUExNDhQoVcHZ25sMPP8TLy4uAgIACOVd27vmOKqVWAoFARaVUFPA+UAxAaz0X2Ah0B8KBm8DzBRWsEKKAnNkBsWfg5K9wYFU2hRT4PWa9c1ZpDO3fYNuRS3bTFaW15quvvmLkyJGEhIQwePBgevfubUgsltwt0/8e2zUwwmoRCSEKV2oqhPaE1OR/13UaByXd/112Lg5+j0MJN+uf/0iY9Y9pgLNnzzJs2DA2btzIgw8+SJs2bQyNx7Ahf4UQVqY1nPsTVqa1x5ycLd8vNRkeHA4tBkOJclDao+DitEMrV65k6NChmEwmPvnkE15++WWcnS18/wuIJHch7MG5v2DtS3DpqHm5nDfUDrR8f+UMAS9AhVoFEp69c3d3p2XLlsyfP5+aNWsaHQ4gyV0I+/B/r/2b2INWQt2HwbmYsTHZsZSUFGbOnElSUhLvvPMOXbt2pUuXLihrXXC2AknuQtiixHi4eOTu9SkJsLwP6FRzP/htyTfNt+89tQxcShRenA5o//79BAcH8+eff9KvXz+01iilbCqxgyR3IYyTkgh/LIKkG+mrapw+BVv+gN8m5bxvmfvA/4nM6/wel8RegBITE5k0aRIhISFUqFCB//73v/Tp08fmkvptktyFsLYds+HoxnuXi/oDTImZVtUEOJ22UKYqPPb53fs5FwPvVuBS/O5tosCcOHGCKVOmMGDAAGbMmIGHh21fdJbkLkR+XY+G6L//Xd69ABJioXLDnPer/gAULw29ZqffdrhlyxY6dOhg3u7kbL2HhkSexMfHs27dOgYOHIi/vz9Hjx6lVq2icdFZkrsQuXVmBxz7/t/l7Z/dXaZRP+hzj7FLsqCdnMFZ/lvagp9//pkhQ4Zw5swZmjVrhq+vb5FJ7CDJXYjcSU6ALVMgIgyKlTSvc3Ixd5N0Gvdvucq+hoQn8u/q1au88cYbLF68mHr16rFlyxZ8fYve5ynJXYg7xV+C01vvXp+aCt++aH7t1RKCfyrcuESBM5lMtGnThuPHjzN27FjGjRuHq6ur0WHliSR3Ie4U9hHsWZT9ds9G0G1q4cUjCtzly5fTB/qaPHky3t7eNGtWtGcMleQu7NfNK+YLm3c69gNs/zz7vu0bMeDmCc9tuHubk4v5KU650GkXtNYsW7aMV199lZCQEIYMGcLjjz9udFhWIcld2I/jP8G1KPPrhGvwy/s5l2+Sw5h43g9CpfrWi03YnDNnzjB06FA2bdpE69atad++vdEhWZUkd1G0Hd1oHqI26QaE/3z39oZPQL0ud6+vUAu8WhR8fMImLV++nJdeegmtNZ999hnDhw/Hycm+puqU5C6KHq3h0jHzo/jbPzOPhOheAzzqmu9YuZ20nYtDqQrGxipsUqVKlWjTpg3z5s2jRo0aRodTICS5C9uXnAB7l/37mH7Eb+ZbEW/zbgUv/GhIaKJoSE5OZvr06SQnJ/Pee+/RpUsXHnnkEZsdOsAaJLkL2xe5HTa+cff6nrOgdCWo4l/4MYkiY+/evQQHB7N3716CgoJsdqAva5PkLmzP1dMwtx0dEq9DGIA2r3/+R6jaxPzauZgMaStylJCQwMSJE5k6dSoVK1bkm2++4Yknnrj3jnZCkrsw1tUz5i6XVNO/6+KiIPEa0Z6BVKmf1n/uWhaqB0hCFxYLDw9n2rRpPPvss0yfPh13d/d772RHJLmLwpGSdNcIiAD8uQR+nwFOdyRt1/KcqRFElYdynMJXiEzi4+P57rvveOaZZ/D39+fYsWM2MzNSYZPkLgpe0g2Y4Zf1A0VgTuzjLt+1+lZYWMHGJezKpk2bGDJkCGfPniUgIABfX1+HTewgyV0UhsTr5sTu+1jW95Z71Cn8mITdiImJYdSoUSxdupQGDRrwv//9r0gO9GVtktxF3iTdhFtXzK+1hm9ehBsXQWXxIEhqivnf2h3NkzALYSW3B/oKDw/nnXfe4d133y2yA31ZmyR3kTumFDi6Af47KOvt/n2yXu/dCmp3KrCwhGO5dOkSHh4eODs7M2XKFGrUqEHTpk2NDsumSHIXuXN257+JvbIfPPiS+bVyhvrd5IlQUaC01ixZsoRRo0YREhLC0KFD6dWrl9Fh2SRJ7iJ7qSa4fAJ0qnl531ew50vz66AVUL+7jI4oCs3p06cZMmQIP//8M+3ataNjx45Gh2TTJLmL7G37BDZPvHt96/+Yu1gksYtCsmzZMl566SWUUsyZM4ehQ4fa3UBf1ibJ3VHtXQ6H1+dc5tJR8+BbT2SYC7RiPfD0K9jYhLiDp6cn7du3Z+7cuXh7exsdTpEgyd0eXT0D187DuT3w07uAMifpjG4/UFQ1h4tQJd2hViA0tI/JC0TRkZyczNSpUzGZTIwbN45HHnmERx55xOiwihRJ7vZobjtIjPt3ufFTUKbK3eXqdYEarQsvLiEs8Ndff/HCCy+wf/9+BgwYkD7Ql8gdi5K7Uqor8CngDCzUWofcsd0bCAXKp5UZo7XeaOVYhaWSrkOjvtB0oPnulduDbQlhw27dusWECROYNm0alSpV4rvvvrObKe+McM8rEkopZ2A20A3wA/orpe7sdH0XWK21vh8IAuZYO1CRS+4+5oeGJLGLIiIiIoIZM2YwaNAgDh8+LIk9nyxpubcAwrXWEQBKqa+BXsDhDGU0UDbtdTngvDWDFBZKiINtn/5766IQNu7atWv8+OOPBAYG0rBhQ06cOGG3MyMVNkvuJaoGnM2wHJW2LqPxwNNKqShgI/CKVaITljuwGkK84X/TzcueMoGFsG0bN27E39+fjz/+mCNHjgBIYrcia11Q7Q8s0VpPV0q1ApYppfy1ztyEVEoNAYaA+damsDyM+hcbewuTyZSnfYuy+Pj4bOtc5toJap9cTBmn4lys3J4TdYeSeqk4FPH3KKc62ytHqHNcXByzZ8/m559/pkaNGkyZMoXo6Giio6ONDq3QFMrnrLXO8QdoBWzKsDwWGHtHmUOAV4blCKByTsdt3ry5zot+c7frR0I25mnfouy3337LfuPU2lq/X1brue0LLZ7CkGOd7ZS91zklJUXXq1dPu7i46HHjxumEhAS7r3NW8lNnYI++R97WWlvUcv8DqKuUqgmcw3zBdMAdZSKBTsASpZQv4ApcyufvHXFb0g1K3owyDwVw24HV5okunIvBjUvmO2O6TTUsRCFyEh0dTaVKlXB2dmbatGnUqFGDxo0bGx2WXbtnctdapyilXgY2Yb7NcbHW+pBSaiLm3yDrgdeBBUqp1zBfXB2U9htG5EfSTTiyHr4bSkuA3VmUuf9p8zC7D7wIJdwKOUAhcqa1ZvHixbz++uuEhIQwbNgwevbsaXRYDsGiPndtvmd94x3rxmV4fRhoY93QHFCqCTa+AfEXzcvn98K1cwDccq1CyUc/zFy+Yl251VHYrIiICAYPHsyvv/5Khw4d6Ny5s9EhORR5QtVWnPwVlvX+d7lyQ3Py7j0XKvmy64+DBDaSUfBE0RAaGsrw4cNxdnZm7ty5DB48WAb6KmSS3G3FxaPmfx8cAW1fA7dKmbfL49eiCLnvvvt46KGH+OKLL6hevbrR4TgkSe62QOt/HzzqMBpKljc2HiFyKSkpiZCQEFJTUxk/fjwPP/wwDz/8sNFhOTT5O8kW/N+r8NM75tdZzUEqhA37448/aN68Oe+//z4RERHIvRS2QVruRojcBce+/3f5xM9Q3hs6jAHXstnvJ4QNuXnzJuPGjWPmzJlUrVqV9evXy50wNkSSe2GJOQlrX4KUBLiw37zOJcMs7QHBcP9AY2ITIg9OnTrFZ599xuDBg5kyZQrlypUzOiSRgST3wnJhH5zdBTXaQr2u5vlHmz9ndFRC5EpcXBzffvstzz//PA0bNiQ8PBwvLy+jwxJZkORe2HrMgEr1jY5CiFz7/vvvGTp0KBcuXKBVq1Y0aNBAErsNk+Re0L4eCNEHIemG0ZEIkSeXLl3i1VdfZcWKFfj7+/Ptt9/SoEEDo8MS9yDJvaAd3wQedcCrJZSsABVqGx2REBYzmUy0bduWU6dOMWHCBMaMGUPx4sXvvaMwnCT3gnLzCvz0HqSmQP1u0Pl9oyMSwmL//PMPlStXxtnZmenTp+Pj44O/v8wRUJTITdUFISUJ/l4D+5aDew3wbmV0REJYJDU1lXnz5lGvXj3mzZsHQI8ePSSxF0HSci8ImyfAjs/Nr/t/DZV9jY1HCAuEh4czePBgwsLCeOihh+jSpYvRIYl8kJa7tf36IRz8Bkq6w3MboJJceBK278svv6RRo0b89ddfLFiwgF9++YVatWoZHZbIB2m5W9vu+eBcHJo9BzXbGx2NEBbx9vamS5cuzJ49m2rV7pwiWRRFktwLQsPe8PAEo6MQIluJiYl89NFHpKamMnHiRDp16kSnTp2MDktYkXTLCOFgdu3aRfPmzZkwYQKRkZEy0JedkuQuhIO4ceMGo0aNolWrVsTFxfF///d/LFmyBCVzBdglSe5COIgzZ84wZ84chg0bxqFDh3j00UeNDkkUIOlzt5br/8DK/pAQZ3QkQqSLjY1lzZo1vPjii/j5+REeHi4zIzkIablbS0w4nP8LfNpCoyeNjkYI1q1bh5+fH8OGDePoUfM0jpLYHYckd2vrMBq8WhgdhXBgFy9eJCgoiMcff5xKlSqxc+dOGejLAUm3jDWkmiAuyugohMBkMtGmTRsiIyOZNGkSo0ePplixYkaHJQwgyd0atk6DsMnm1y4ljY1FOKTz589TpUoVnJ2d+fTTT/Hx8cHPz8/osISBpFsmv7bNgn1fmZP6wDVQrbnREQkHkpqayhdffEGDBg2YO3cuAN27d5fELqTlnicpSRD+M3w94N91AS9A3YeNi0k4nOPHjzN48GC2bt1K586d6datm9EhCRsiyT0vds6BX9LGZ6/WHHp+ClUaGRuTcCiLFi3i5ZdfxtXVlcWLFzNo0CB5GElkIsk9t/43A/5YBCh4/gfzDEtO0rslCpePjw/dunVj9uzZVK1a1ehwhA2S5J4bUXvgj4WQkggth0INmYRDFI7ExEQ++OADACZNmiQDfYl7kianpeKiYGEnuHYOGnSHblOMjkg4iO3bt9O0aVM+/PBDLly4IAN9CYtIyz078Zdg1UBIjAelICXBvL7ju9BqhLGxCYcQHx/PO++8w2effYaXlxc//vijzI4kLGZRy10p1VUpdUwpFa6UGpNNmX5KqcNKqUNKqRXWDbOQHdkA0+rA2V1w8RC4+5hnVPLvA00HQPFSRkcoHEBkZCTz5s1jxIgRHDx4UBK7yJV7ttyVUs7AbOBhIAr4Qym1Xmt9OEOZusBYoI3W+qpSqnJBBVworl0w/9vlI2j2DJQoY2w8wmFcv36d+fPnM2TIEPz8/IiIiOC+++4zOixRBFnSLdMCCNdaRwAopb4GegGHM5QZDMzWWl8F0FpftHaghSYlEW5cMr9u/JQkdlFovvvuO1588UXi4uLo0KED9evXl8Qu8syS5F4NOJthOQpoeUeZegBKqW2AMzBea/3jnQdSSg0BhgB4enoSFhaW64BjY29hMpnytK8l/A5NpfKlbWgUv+/YhcnFNrpg4uPjC6zOtspR6nzlyhVmzZrFli1bqFWrFh999BEXLlzgwoULRodWKBzlc86oMOpsrQuqLkBdIBCoDmxVSjXSWsdmLKS1ng/MBwgICNCBgYG5PtEXx3YQGxtLXvbNkdbw07tw4yh41EH1mEk7G5rgOiwszPp1tnGOUGeTyUSDBg04e/YskydP5oEHHqBz585Gh1WoHOFzvlNh1NmSC6rnAK8My9XT1mUUBazXWidrrU8BxzEn+6Ij8Rrs+ByUM9z/NNhQYhf2JyoqitTUVJydnZk1axb79u1j7NixuLjIDWzCOixJ7n8AdZVSNZVSxYEgYP0dZdZibrWjlKqIuZsmwopxFp62r0Lb14yOQtip1NRUPvvsMxo0aMAXX3wBQLdu3WS8dWF190zuWusU4GVgE3AEWK21PqSUmqiUeiyt2CYgRil1GPgNeFNrHVNQQQtRFB09epT27dvzn//8h7Zt29KjRw+jQxJ2zKK/AbXWG4GNd6wbl+G1Bkal/Qgh7rBw4UJefvllSpUqRWhoKM8884wM9CUKlHTwCVEIateuTc+ePfn888/x9PQ0OhzhACS535Z8y+gIhB1JSEhg4sSJAEyePJmOHTvSsWNHg6MSjkQGDgM4+RtMT7ug5STzTYr82bZtG02bNuWjjz7i0qVLMtCXMIQkd4Br5wENgW9DoyeNjkYUUdevX+eVV16hXbt2JCYmsmnTJhYsWCB968IQktwzahIEpSoYHYUooqKioli4cCGvvPIKf//9N4888ojRIQkHJn3uQuRDTEwMq1ev5qWXXsLX15eIiAiZGUnYBGm5C5EHWmvWrFmDn58f//nPfzh27BiAJHZhMyS5C5FLFy5coE+fPvTt2xcvLy/27NlD/fr1jQ5LiEykW0aIXDCZTLRr145z584xdepUXnvtNRkPRtgk+VYKYYGzZ89SrVo1nJ2dmT17NjVr1qRevXpGhyVEtqRbRogcmEwmZs2alWmgry5dukhiFzZPWu5CZOPIkSMEBwezY8cOunXrRs+ePY0OSQiLSctdiCzMnz+fpk2bcvz4cZYtW8b333+Pt7e30WEJYTFpuQuRhbp169K7d29mzZpF5cpFe7534ZgkuQsB3Lp1i/Hjx6OUIiQkRAb6EkWedMsIh7d161aaNGnC1KlTiYuLk4G+hF2Q5C4c1rVr1xg+fDgdOnTAZDKxefNmvvjiCxnoS9gFSe7CYZ0/f54lS5YwatQoDhw4wEMPPWR0SEJYjfS5C4dy+fJlVq9ezfDhw2nQoAGnTp2SmZGEXZKWu3AIWmtWrVqFn58fr776KsePHweQxC7sliR3YffOnz/P448/TlBQEDVq1ODPP/+UJ0yF3XPMbhmtIfogJCfA1o/hxCbzeiW/6+yNyWSiffv2nDt3jmnTpjFy5EgZ6Es4BMf8lp/8FZY/kXld5wlQrrox8QirO3PmDNWrV8fZ2Zk5c+ZQq1Yt6tSpY3RYQhQax2uqHl4Hm942v350Bgz8Bl47DG1fBbkFrsgzmUzMmDEDX1/f9IG+HnnkEUnswuE4Xsv9yAa4ehoa9IAm/aF4KaMjElZy8OBBgoOD2b17Nz169ODxxx83OiQhDONYLfd9K+DCfih7HwR9JYndjsydO5dmzZoRERHBihUrWL9+PdWrSzebcFyOldy/fx2uRMB99xsdibCS20MF+Pr60rdvXw4fPkz//v3lKVPh8ByrW0anQqsR8PBEoyMR+XTz5k3GjRuHs7MzU6ZMoUOHDnTo0MHosISwGY7Vchd2ISwsjMaNGzN9+nTi4+NloC8hsiDJXRQZcXFxDB06NH0o3l9//ZXZs2dLF4wQWbAouSuluiqljimlwpVSY3Io10cppZVSAdYLUQizCxcusHz5ct544w0OHDgg460LkYN79rkrpZyB2cDDQBTwh1Jqvdb68B3lygAjgV0FEahwTJcuXeLrr7/mlVdeoUGDBpw+fZpKlSoZHZYQNs+SlnsLIFxrHaG1TgK+BnplUe4DYAqQYMX4rCPmJMzwg5QEQP6ELwq01vzyyy/4+vry+uuvpw/0JYldCMtYktyrAWczLEelrUunlGoGeGmtv7dibNZz5RRcOwcNn4CmA42ORtzD2bNn6dmzJx9++CF16tRh7969MtCXELmU71shlVJOwAxgkAVlhwBDwDzUalhYWK7PFxt7C5PJlKt9K8QcoDHwV/EHuXboPHA+1+c1Wnx8fJ7er6LGZDLx7LPPcuXKFV588UWCgoK4dOmSQ9QdHOdzzkjqXDAsSe7nAK8My9XT1t1WBvAHwtLuWqgCrFdKPaa13pPxQFrr+cB8gICAAB0YGJjrgL84toPY2Fhyte+JFPgbmjVrBl4P5PqctiAsLCx3dS5iTp8+jZeXF87OzoSGhlKrVi0iIyPtus5ZsffPOStS54JhSbfMH0BdpVRNpVRxIAhYf3uj1jpOa11Ra+2jtfYBdgJ3JXYhspKSksK0adPw9fVlzpw5AHTu3JlatWoZHJkQRds9W+5a6xSl1MvAJsAZWKy1PqSUmgjs0Vqvz/kINiDlltERiCwcOHCA4OBg9uzZQ69evejTp4/RIQlhNyzqc9dabwQ23rFuXDZlA/MflhX9bzpsThtuwNmxRluwZXPmzGHkyJG4u7uzatUq+vbtKw8jCWFF9v+EamwkFHeDnrOgSmOjo3F4t4cK8Pf3JygoiMOHD9OvXz9J7EJYmWM0ZYuXhubPGR2FQ7tx4wbvvvsuLi4ufPzxx7Rv35727dsbHZYQdsv+W+7CcJs3b6ZRo0Z88sknJCYmykBfQhQCSe6iwMTGxvLiiy/SuXNnXFxc2Lp1K7NmzZIuGCEKgSR3UWCio6P5+uuveeutt9i/fz/t2rUzOiQhHIZj9LmLQnM7oY8cOZL69etz+vRpKlasaHRYQjgcabkLq9Bas3z5cvz8/Bg9ejQnTpwAkMQuhEEkuYt8i4yM5NFHH+WZZ56hfv367Nu3j7p16xodlhAOTbplRL6kpKQQGBjIxYsXmTVrFsOHD8fZ2dnosIRweJLcRZ5ERERQo0YNXFxcWLBgAbVr18bHx8fosIQQaaRbRuRKSkoKU6ZMwc/Pj9mzZwPQqVMnSexC2Bj7brkfWA1ndxsdhd3Yt28fwcHB/PXXX/Tu3Zu+ffsaHZIQIhv23XL/cSxcPgHVZL7u/Pr888954IEHOHfuHGvWrOHbb7+latWqRoclhMiGfSd3tHlMmf4rjA6kyLo9VEDjxo0ZOHAghw8flqF5hSgC7LNbJukG/DIBEq8bHUmRFR8fzzvvvEOxYsWYNm2aDPQlRBFjny33Cwdg9zxwLQ9eLY2Opsj56aef8Pf357PPPiM5OVkG+hKiCLLP5H7bE/OhcT+joygyrl69yvPPP0+XLl1wdXVl69atfPrppzLQlxBFkH0nd5ErFy9eZM2aNYwdO5Z9+/bRtm1bo0MSQuSRffa5C4v9888/rFy5ktdeey19oC8PDw+jwxJC5JO03B2U1prQ0FD8/PwYO3Zs+kBfktiFsA/2ldy1htRU0KlGR2LTTp8+TdeuXRk0aBB+fn4y0JcQdsi+umW+6gvhP/+77CQDWN0pJSWFjh07cvnyZWbPns2wYcNwcrKv3/FCCHtL7pePg6c/+D5mnhS7egujI7IZ4eHh1KxZExcXFxYvXkytWrWoUaOG0WEJIQqI/TXZPP0h8C1o/TIUczU6GsMlJyczefJkGjZsmD7QV8eOHSWxC2Hn7KPlrjVEhJmfTBXp/vrrL4KDg9m3bx99+/blqaeeMjokIUQhsY+We0w4LHscbl6GUhWMjsYmzJo1ixYtWvDPP//w7bffsnr1ajw9PY0OSwhRSOyj5Z58y/xvt6kQ8IKxsRhMa41Sivvvv59nn32W6dOn4+7ubnRYQohCZh/J/bay1cC5mNFRGOL69euMHTuWEiVKMH36dNq1a0e7du2MDksIYRD76JZxcD/++CP+/v7MmTMHrbUM9CWEkORelMXExPDcc8/RrVs3SpcuzbZt25gxY4YM9CWEkORelMXExPDdd9/x3nvvsXfvXlq1amV0SEIIG2FRcldKdVVKHVNKhSulxmSxfZRS6rBS6oBSarNSSm6iLiAXLlxg2rRpaK2pV68eZ86cYeLEiZQoUcLo0IQQNuSeyV0p5QzMBroBfkB/pZTfHcX2AgFa68bAGmCqtQN1dFprFi9ejK+vL++99x7h4eEAcieMECJLlrTcWwDhWusIrXUS8DXQK2MBrfVvWuubaYs7gerWDdOxnTp1ijfffJPg4GCaNGnC/v37ZaAvIUSOLLkVshpwNsNyFJByt3A/AAAasElEQVTT3HXBwA9ZbVBKDQGGAHh6ehIWFmZZlBnExt7CZDKl71su9iB1TyzEDTh48CCXo91yfUxbZjKZePrpp4mLi+O1116jR48enD9/nvPnzxsdWoGLj4/P03ekKJM6O4bCqLNV73NXSj0NBAAdstqutZ4PzAcICAjQgYGBuT7HF8d2EBsbS2BgIFw5BZuXwI1T0KAH/l2eg7JV8xy/LTlx4gS1atXC2dmZlStXcvHiRfr1c6wpA8PCwsjLd6Qokzo7hsKosyXJ/RzglWG5etq6TJRSnYF3gA5a60TrhHcP37wI5/aAazkI+qpQTlnQkpOTmTJlCh988AFTp05l5MiRBAYGOlzLpihITU0lKiqKGzesN6ZRuXLlOHLkiNWOVxRInTMrVqwYlStXpmzZsvk6hyXJ/Q+grlKqJuakHgQMyFhAKXU/MA/oqrW+mK+IciP5Fvi0gycXF9opC9KePXsIDg7mwIEDBAUF0b9/f6NDEjm4fPkySinq169vtTHxr1+/TpkyZaxyrKJC6vwvrTW3bt3i3Dlz+zk/Cf6e30itdQrwMrAJOAKs1lofUkpNVEo9llbsY8AN+K9Sap9San2eI8ot13LgVrnQTldQPv30U1q2bMnly5dZt24dK1eupHLlol8vexYbG4unp6dMdiKsRilFqVKlqFatGhcv5q+dbFGfu9Z6I7DxjnXjMrzunK8oHNjtgb4CAgIIDg5m6tSplC9f3uiwhAVMJhPFijnmWEaiYJUsWZLk5OR8HaNIDhzmqhNgTmu4dBQ8ahkdTp5cu3aNt956C1dXV2bOnEmbNm1o06aN0WGJXJKhHkRBsMb3qkj+PVlBx8LFQ1CjNbQcZnQ4ubZx40YaNmzI/PnzcXFxkYG+hE0aNmwYH3zwgdFhiDwqksk93f3PgE9bo6Ow2OXLl3n66ad59NFHKVeuHNu3b+fjjz+W1p+wOh8fH3755Zd8HWPu3Lm89957+TrGoEGDcHFx4cKFC3etf/fddzOtO336NEopUlJS0tetWLGCgIAA3NzcqFq1Kt26deP333/PdRwzZ86kSpUqlC1blhdeeIHExOxv6Fu4cCF16tTBzc2Nrl27ZnqmJDY2lueee47KlStTuXJlxo8fn2nf7du306JFC8qUKUPjxo0zxaq15sMPP8Tb25tq1aoRFBTEtWvXcl0XSxXt5F7EXL16lQ0bNvD+++/z119/0bJlTs+CCVFwMibQgnLjxg2++eYbypUrx/Lly3O9/4wZM3j11Vd5++23iY6OJjIykuHDh7Nu3bpcHWfTpk2EhISwefNmzpw5Q0REBO+//36WZcPCwnj77bdZt24dV65coWbNmpnuWnvttde4efMmp0+fZvfu3Sxbtowvv/wSgCtXrtCzZ0/efPNNYmNjGT16ND179uTq1asALF26lGXLlrFt2zaOHTvGrVu3eOWVV3L9vljs9vjfhf3TvHlznRf95m7XgyYv1vr9slrv+zpPxyhMUVFResqUKTo1NVVrrfXVq1fzdJzffvvNilEVDbZe58OHD1v9mNeuXcv3MZ5++mmtlNKurq66dOnSesqUKfrUqVMa0AsXLtReXl66Xbt2Wmutn3zySe3p6anLli2r27Vrpw8ePJh+nOeee06/8847WmvzZ1GtWjU9bdo0XalSJV2lShW9ePHiHOMIDQ3V1atX15988olu2LBhpm0Zj327zrdjTE5O1rGxsbp06dJ69erV+X4/+vfvr8eOHZu+/Msvv2hPT88sy77++ut6+PDh6cvnzp3TgA4PD9daa+3h4aF3796dvv3DDz/Ubdu21VprvWHDBu3n55fpeHXr1tULFy7UWmvdp08fPXXqVK21uc7btm3TJUqU0Ddu3Mgyluy+X8AebUGOlZZ7AdFas2DBAvz8/Bg/fjwnT54EkDthRIFbtmwZ3t7ebNiwgfj4eEaPHp2+bcuWLRw5coRNmzYB0K1bN06cOMHFixdp1qwZAwcOzPa4//zzD3FxcZw7d45FixYxYsSI9FZpVkJDQ+nfvz9BQUEcPXqUP//80+I67Nixg4SEBHr37p1tmRUrVlC+fPlsfyIjIwE4dOgQTZo0Sd+vSZMmREdHExMTk+VxdYZrYLdfHzx4MNvt2W2713atNYmJiZw4cSLbOuZHkbxbxtadPHmSwYMH89tvvxEYGMiCBQuoU6eO0WGJAjRhwyEOn89//6nJZMLZ2TnLbX73leX9ng3zdfzx48dTunTp9OUXXngh0zZ3d3fi4uIoV67cXfsWK1aMcePG4eLiQvfu3XFzc+PYsWM8+OCDd5WNjIzkt99+Y/r06Xh6etKpUyeWLl1K8+bNLYozJiaGihUr4uKSfYoaMGAAAwYMyHb7bfHx8Znqc/v19evX8fDwyFS2a9euBAUFMWzYMOrWrcvEiRNRSnHz5s307SEhIYSGhhIdHc3ixYvTt7Vq1Yrz58+zcuVKnnzySVasWMHJkycz7Tt16lT69euHi4sLU6ZMAUjfbm3ScreylJQUOnXqxJ49e5g3bx6bN2+WxC5shpfXvyOJmEwmxowZQ+3atSlbtiw+Pj6A+cJ/Vjw8PDIl21KlShEfH59l2WXLluHr60vTpk0BGDhwICtWrEi/d9vFxeWu+7iTk5NxcnLCyckJDw8PLl++bJVrA25ubpkuXN5+ndUTop07d2bChAn06dMHHx8ffHx8KFOmDNWrmwe6nTVrFiVLlqRu3br06tWL/v37p2/z8PBg3bp1zJgxA09PT3788Uc6d+6cvv2FF16gf//+BAYG0rJlSzp27AiQvt3apOVuJceOHaN27dq4uLgQGhpK7dq1C+xDE7Ynvy3q26z1KH52d2BlXL9ixQrWrVvHL7/8go+PD3Fxcbi7u1vl1tylS5cSGRlJlSpVAHOjJyYmho0bN9KrVy+8vb05dOhQpn1OnTqFl5cXTk5OtGrVihIlSrB27VqefPLJLM/x1VdfMXTo0GxjOHz4MN7e3jRs2JD9+/enD7y3f/9+PD0972q13zZixAhGjBgBwPHjx5k0aRL+/v4AVKhQga+++nccq7fffpsWLVqkL3fo0IE//vgjvc61atXi9ddfB8DJyYkJEyYwYcIErl+/zo4dO6hWrRrVqlXL/o3MB2m551NSUhITJkygUaNGzJ49GzB/wJLYhZE8PT2JiIjIscz169cpUaIEHh4e3Lx5k7ffftsq596xYwcnT55k9+7d7Nu3j3379nHw4EEGDBjA0qVLAejTpw/ff/89P/30EyaTifPnzzNp0iSCgoIAc9fJxIkTGTFiBGvXruXmzZskJyfzww8/pF9DGDhwIPHx8dn+eHt7A/Dss8+yaNEiDh8+TGxsLJMmTWLQoEFZxp6QkMDBgwfRWhMZGcmQIUMYOXJk+qQ4J0+eJCYmBpPJxA8//MD8+fMz3dK5d+9ekpOTuXbtGm+88QZeXl506dIFMN9Nc/LkSbTWHD16lFGjRjFu3LiCG77CkquuBfFjD3fL7Nq1S/v7+2tADxgwQF+6dKnAzmXrd44UBFuvs63eLaO11mvXrtVeXl66XLly+uOPP850J8pt169f14899ph2c3PT3t7eOjQ0VAP6xIkTWuus75bJqEaNGvrnn3++69xDhw7VTzzxxF3rd+3apYsXL65jYmK01lqvX79eN2vWTJctW1Z7e3vrN954Q9+8eTPTPsuXL9fNmzfXpUqV0p6enrp79+5627ZtuX4/pk+fritXrqzLlCmjBw0apBMSEtK3+fn56eXLl2utzXezNWrUKP18Y8aM0SkpKellV61apatWrapLliypmzRpon/88cdM5wkKCtJly5bVZcuW1f369dPR0dHp244dO6br1aunS5Ysqb28vPT06dNzjDm/d8tIcs+jmTNnaicnJ12tWjW9YcOGAj+frSe6gmDrdbbl5F6USJ2zJrdCFjKd1h/ZokULBg8ezKFDh+jRo4fBUQkhRGZyQdVCcXFxjB49mpIlS/LJJ5/QunVrWrdubXRYQgiRJWm5W2DDhg34+fmxcOFCSpQoYZW7CYQQoiBJcs/BpUuXGDBgAI899hgeHh7s3LmTKVOmyEBfQgibJ8k9B3FxcWzcuJEJEyawZ88eHnjgAaNDEkIIi0if+x3Onj3L8uXLGTNmDHXq1OHMmTNZPoothBC2TFruaVJTU5k7dy4NGzZk0qRJ6QN9SWIXQhRFktyBEydO8NBDD/HSSy/RokUL/v77bxkPRghRpDl8t0xKSgoPP/wwsbGxLFq0iOeff14umAohijyHbbkfOXKElJQUXFxcWLZsGYcPH+aFF16QxC7sgjWm2QNYsmQJbdvmbSrLwMBA3N3d75rSLjAwkIULF2ZaFxYWlmk8Jq01s2bNwt/fn9KlS1O9enX69u3L33//nasYtNa89dZbeHh44OHhwVtvvZXjrcyfffYZNWvWpGzZsgQEBGSaJm/8+PEUK1YMNze39J/b4/dcvnyZNm3a4OHhQfny5WnVqhXbtm1L33fYsGGZ9qtYsaJVBojLicMl98TERN5//30aN27M559/DkC7du247777DI5MCPtx+vRp/ve//6GUYv369bnef+TIkXz66afMmjWLK1eucPz4cR5//HG+//77XB1n/vz5rF27lv3793PgwAE2bNjAvHnzsiy7a9cuxowZw5o1a4iLiyM4OJjevXtjMpnSyzz11FOZBierVasWYB5WePHixVy6dImrV6/y1ltv0bNnz/Qhi+fOnZtpvyeffJK+ffvm+n3JDYdK7jt37qRZs2ZMnDiR/v3788wzzxgdkhBW98wzzxAZGUnPnj1xc3Nj6tSpgPn737p1a8qXL0+TJk0ICwtL32fJkiXUqlWLMmXKULNmTb766iuOHDnCsGHD2LFjB25ubrmaRWzp0qU8+OCDDBo0iNDQ0FzFf+LECWbPns3KlSt56KGHKFGiBKVKlWLgwIGMGTMmV8cKDQ3l9ddfp3r16lSrVo3XX3+dJUuWZFn29OnTNGzYkObNm6OU4tlnn+Xy5ctcvHjxnudxdXWlfv36ODk5obXG2dmZq1evcuXKlbvK3rhxg/Xr1/Pcc8/lqi655TDJffr06bRu3Zrr16+zceNGli5dmu14zkIUZVlNs3fu3DkeffRR3n33Xa5cucK0adPo06cPly5d4saNG/znP//hhx9+4Pr162zfvp2mTZvi6+vL3LlzadWqFfHx8cTGxlocw9KlSxk4cCADBw5k06ZNREdHW7zv5s2bqV69eqZx0u8UEhKS4xR7t2U1xd6d48jf1q1bN0wmE7t27cJkMrF48WKaNm2aPiY9mJ9Wr1ChAg0bNuSLL7646xiNGzfG1dWVxx57jBdffJHKlSvfVeabb76hYsWKtG/f3qL3I6/s/oJqampq+uD/w4YNIyQkhLJlyxodlrA3P4yBf3LXH5yVkqYUcM7mv2WVRtAtJE/HXb58Od27d6d79+4APPzwwwQEBLBx40aefPJJnJycOHjwIN7e3lStWpWqVavmtQr8/vvvnDlzhn79+lGxYkVq167NihUreO211yzaPyYm5p7nHzNmjEWt+Kym2IuPj0drfdf1tTJlytCnTx/atm2L1pry5cvzww8/pJfr168fQ4YMwdPTk127dtGnTx/Kly9P//79049x4MABEhIS+O6770hKSsoyptDQUIKCggr8+p7dttxjY2MJDg5m5MiRALRu3Zo5c+ZIYhcO6cyZM/z3v//N1Lr9/fffuXDhAqVLl2bVqlXMnTuXqlWr8uijj3L06NE8nys0NJRHHnmEihUrAua5TjN2zWQ3xV6xYsUA83R1Fy5cyPP5M8pqij03N7csE+uiRYv48ssvOXToEElJSSxfvpwePXpw/vx5APz8/LjvvvtwdnamdevWjBw5kjVr1tx1HFdXV/r3709ISAj79+/PtC0yMpKwsLBMvxAKil223NeuXcvw4cO5ePEio0ePzvK3tBBWlccW9Z1uFdA0e15eXjzzzDMsWLAgy/JdunShS5cu3Lp1i3fffZfBgwenXxDNjVu3brF69WpMJlN6d0ZiYiKxsbHs37+fJk2a4O3tzenTpzPtd+rUKWrUqAFAp06dGDFiBHv27CEgICDL80yePJnJkydnG8ftuV1vT7F3u4tn//79NGyY9ZSI+/bto0ePHtSrVw8wT2hdtWpVtm/fnuVUf0qpHO+8SU5OJiIiIlO30LJly2jTpg01a9bMdj9rsauW+8WLF+nXrx+9e/fG09OT3bt3M3nyZEnswuHcOc3e008/zYYNG9i0aRMmk4mEhATCwsKIiooiOjqadevWcePGDUqUKIGbm1v61G+enp5ERUVl28Vwp7Vr1+Ls7Mzhw4fTp9g7cuQI7dq1S59i76mnnuLLL79k9+7daK05ceIEM2fOTJ9ir27dugwfPpz+/fsTFhZGUlISCQkJfP3114SEmH+Jvv322zlOsXfbs88+y4wZMzh37hznz59n+vTp2U6x98ADD/D9998TERGB1pqff/6Z48ePp8+fum7dOq5evYrWmt27dzNr1ix69eoFmC9W//777yQlJXHr1i2mTJlCdHQ0LVu2zHSOpUuXZnt+q7NkRo+C+CmImZhOnDihy5cvrz/88EOdlJSUp+PbKluflagg2HqdbXkmpjun2dNa6507d+r27dtrd3d3XbFiRd29e3d95swZff78ed2+fXtdtmxZXa5cOd2hQwd96NAhrbXWiYmJunv37trd3V17eHjc87xdunTRo0aNumv9qlWrtKenZ/o0f4sWLdJ+fn66TJkyumbNmvqjjz7SJpMpvXxqaqr+5JNPtJ+fny5ZsqS+7777dL9+/fTBgwdz9T6kpqbqN998U7u7u2t3d3f95ptv6tTU1PTtpUuX1lu3bk0v+95772kvLy/t5uamGzRooJcuXZpeNigoSFeoUEGXLl1a169fX3/66afp28LCwnTjxo21m5ubdnd31+3bt9dbtmzJFMv27dt1qVKl9LVr1wplJialLRibXCnVFfgUcAYWaq1D7theAlgKNAdigKe01qdzOmZAQIDes2dPrn8ZPTVvB6WuHOXLxFeh93wi3VuxbNky3n77bZRSVps93taEhYURGBhodBiFytbrfOTIEXx9fa16THv9/uZE6py17L5fSqk/tdZZ91dlcM9uGaWUMzAb6Ab4Af2VUn53FAsGrmqt6wAzgSn3Om5+pWrNnFU/0bBhQyZPnpw+0JejfUmEECIrlvS5twDCtdYRWusk4Gug1x1legG3L4evATqpAurorpgSTZt/lhO45CYjPlpMq1atOHTokAz0JYQQGViS3KsBZzMsR6Wty7KM1joFiAMK5AmhB25sYVLob/x9MZUvZ7zPpk2b8PHxKYhTCSFEkVWot0IqpYYAQ8B8FT7j48+Wii/mwTt9m1Px4VG4V67Kli1brBylbYqPj8/T+1WU2Xqdy5Urx/Xr1616TJPJZPVj2jqpc9Zu39GUV5Yk93OAV4bl6mnrsioTpZRyAcphvrCaidZ6PjAfzBdU83KxLDAwkLCwtjZ9oa0g2PrFxYJg63U+cuRItg/E5JVcXHQM96qz1hpXV1fuv//+PJ/Dkm6ZP4C6SqmaSqniQBBw5zBv64Hbo+A8CfyqLbkNR4gizNnZ+a4nLYWwhlu3bqU/sZtX90zuaX3oLwObgCPAaq31IaXURKXUY2nFFgEeSqlwYBSQu6HbhCiCypcvT3R0NKmpqUaHIuyE1pqbN29y7ty5LAcdyw2L+ty11huBjXesG5fhdQJQsIMTC2FjKlasSFRUFMeOHbPaMRMSEnB1dbXa8YoCqXNmxYoVw9PTM9/jYNnl2DJCFAYnJye8vb2tesywsLB89bMWRVLngmFXY8sIIYQwk+QuhBB2SJK7EELYIUnuQghhhywaFbJATqzUJeBMHnevCFy2YjhFgdTZMUidHUN+6lxDa13pXoUMS+75oZTaY8mQl/ZE6uwYpM6OoTDqLN0yQghhhyS5CyGEHSqqyX2+0QEYQOrsGKTOjqHA61wk+9yFEELkrKi23IUQQuTAppO7UqqrUuqYUipcKXXXSJNKqRJKqVVp23cppXwKP0rrsqDOo5RSh5VSB5RSm5VSNYyI05ruVecM5foopbRSqsjfWWFJnZVS/dI+60NKqRWFHaO1WfDd9lZK/aaU2pv2/e5uRJzWopRarJS6qJQ6mM12pZSalfZ+HFBKNbNqAFprm/wBnIGTQC2gOLAf8LujzHBgbtrrIGCV0XEXQp07AqXSXr/kCHVOK1cG2ArsBAKMjrsQPue6wF7APW25stFxF0Kd5wMvpb32A04bHXc+69weaAYczGZ7d+AHQAEPAruseX5bbrnb1MTcheSeddZa/6a1vpm2uBPzzFhFmSWfM8AHwBQgoTCDKyCW1HkwMFtrfRVAa32xkGO0NkvqrIHb49yWA84XYnxWp7XeClzJoUgvYKk22wmUV0pVtdb5bTm529TE3IXEkjpnFIz5N39Rds86p/256qW1/r4wAytAlnzO9YB6SqltSqmdSqmuhRZdwbCkzuOBp5VSUZjnj3ilcEIzTG7/v+eKjOdeRCmlngYCgA5Gx1KQlFJOwAxgkMGhFDYXzF0zgZj/OtuqlGqktY41NKqC1R9YorWerpRqBSxTSvlrrWWqqzyw5ZZ7bibmJqeJuYsQS+qMUqoz8A7wmNY6sZBiKyj3qnMZwB8IU0qdxtw3ub6IX1S15HOOAtZrrZO11qeA45iTfVFlSZ2DgdUAWusdgCvmMVjslUX/3/PKlpO7I07Mfc86K6XuB+ZhTuxFvR8W7lFnrXWc1rqi1tpHa+2D+TrDY1rrPcaEaxWWfLfXYm61o5SqiLmbJqIwg7QyS+ocCXQCUEr5Yk7ulwo1ysK1Hng27a6ZB4E4rfUFqx3d6CvK97ja3B1zi+Uk8E7auomY/3OD+cP/LxAO7AZqGR1zIdT5FyAa2Jf2s97omAu6zneUDaOI3y1j4eesMHdHHQb+BoKMjrkQ6uwHbMN8J80+4BGjY85nfVcCF4BkzH+JBQPDgGEZPuPZae/H39b+XssTqkIIYYdsuVtGCCFEHklyF0IIOyTJXQgh7JAkdyGEsEOS3IUQwg5JchdCCDskyV0IIeyQJHchhLBD/w+uwGUbaEsX6AAAAABJRU5ErkJggg==\n",
          "text/plain": "<Figure size 432x288 with 1 Axes>"
         },
         "metadata": {
          "needs_background": "light"
         },
         "output_type": "display_data"
        }
       ]
      }
     },
     "366950e207b14348af8fdd929eee10e3": {
      "model_module": "@jupyter-widgets/controls",
      "model_module_version": "1.5.0",
      "model_name": "DropdownModel",
      "state": {
       "_options_labels": [
        "100",
        "180",
        "324",
        "584",
        "1053",
        "1898",
        "3419",
        "6161",
        "11100",
        "20000"
       ],
       "description": "max_feat",
       "index": 9,
       "layout": "IPY_MODEL_7116b9e1ece14ab38e1e03fbb7b5ad6b",
       "style": "IPY_MODEL_3796c14dfa8d4828a6bc034a961ab948"
      }
     },
     "3796c14dfa8d4828a6bc034a961ab948": {
      "model_module": "@jupyter-widgets/controls",
      "model_module_version": "1.5.0",
      "model_name": "DescriptionStyleModel",
      "state": {
       "description_width": ""
      }
     },
     "394a12cbca9e4dfbbbe1642c4046d372": {
      "model_module": "@jupyter-widgets/base",
      "model_module_version": "1.2.0",
      "model_name": "LayoutModel",
      "state": {}
     },
     "39a6ea7aa65e4004bf014c047a2d2030": {
      "model_module": "@jupyter-widgets/base",
      "model_module_version": "1.2.0",
      "model_name": "LayoutModel",
      "state": {}
     },
     "39c7b83b1ed04c36841e6b45000105eb": {
      "model_module": "@jupyter-widgets/base",
      "model_module_version": "1.2.0",
      "model_name": "LayoutModel",
      "state": {}
     },
     "3f0a146a10fb47279f18b02bd0696813": {
      "model_module": "@jupyter-widgets/controls",
      "model_module_version": "1.5.0",
      "model_name": "VBoxModel",
      "state": {
       "_dom_classes": [
        "widget-interact"
       ],
       "children": [
        "IPY_MODEL_ae35b84061354062b2dea46943df16ce",
        "IPY_MODEL_ddca7f82cc3f4f03b1415a225d309482"
       ],
       "layout": "IPY_MODEL_65b9142845944b14939202cf264da1b2"
      }
     },
     "3fa090d588b64571a05cdaed2e1f2c78": {
      "model_module": "@jupyter-widgets/base",
      "model_module_version": "1.2.0",
      "model_name": "LayoutModel",
      "state": {}
     },
     "41d78295f5734503aae3fa16a844bbf8": {
      "model_module": "@jupyter-widgets/controls",
      "model_module_version": "1.5.0",
      "model_name": "DescriptionStyleModel",
      "state": {
       "description_width": ""
      }
     },
     "430337c703c64d46a02f65a93e77ca26": {
      "model_module": "@jupyter-widgets/base",
      "model_module_version": "1.2.0",
      "model_name": "LayoutModel",
      "state": {}
     },
     "44316141764e4ca2ada01478ac6e7583": {
      "model_module": "@jupyter-widgets/base",
      "model_module_version": "1.2.0",
      "model_name": "LayoutModel",
      "state": {}
     },
     "46a625e6abdf4caf8b97c852ac685c03": {
      "model_module": "@jupyter-widgets/controls",
      "model_module_version": "1.5.0",
      "model_name": "VBoxModel",
      "state": {
       "_dom_classes": [
        "widget-interact"
       ],
       "children": [
        "IPY_MODEL_8c92678d7e6243ddbb298354629ea910",
        "IPY_MODEL_e9b4cda387634d54bb65d6cfe53eabaa"
       ],
       "layout": "IPY_MODEL_67add13aad8242a9bf744e6d7dbe9395"
      }
     },
     "4989f4ce5e7b45c8ab206fc0cd92b8f3": {
      "model_module": "@jupyter-widgets/base",
      "model_module_version": "1.2.0",
      "model_name": "LayoutModel",
      "state": {}
     },
     "4bdea8178ef34e279151735c4c82455c": {
      "model_module": "@jupyter-widgets/base",
      "model_module_version": "1.2.0",
      "model_name": "LayoutModel",
      "state": {}
     },
     "4c4d2edbc82841d7b2d1dc2189d16e1d": {
      "model_module": "@jupyter-widgets/controls",
      "model_module_version": "1.5.0",
      "model_name": "VBoxModel",
      "state": {
       "_dom_classes": [
        "widget-interact"
       ],
       "children": [
        "IPY_MODEL_c8889a4dbed049e6bad0b521514c70dc",
        "IPY_MODEL_2db15432d40840aea2d0086a7e565676"
       ],
       "layout": "IPY_MODEL_5b932c4e12124b7093ab19b76de72d5f"
      }
     },
     "4ca8ca38e22b47d1929bf9e8b284085d": {
      "model_module": "@jupyter-widgets/base",
      "model_module_version": "1.2.0",
      "model_name": "LayoutModel",
      "state": {}
     },
     "4d473807d3dc49fdbf8fc47b9e51e88b": {
      "model_module": "@jupyter-widgets/output",
      "model_module_version": "1.0.0",
      "model_name": "OutputModel",
      "state": {
       "layout": "IPY_MODEL_4bdea8178ef34e279151735c4c82455c",
       "outputs": [
        {
         "data": {
          "image/png": "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\n",
          "text/plain": "<Figure size 432x288 with 1 Axes>"
         },
         "metadata": {
          "needs_background": "light"
         },
         "output_type": "display_data"
        }
       ]
      }
     },
     "4f67cfe4f31d443d9d9f56e7f62c6e5a": {
      "model_module": "@jupyter-widgets/base",
      "model_module_version": "1.2.0",
      "model_name": "LayoutModel",
      "state": {}
     },
     "50d8fbbff3804700bb84ef15a35e45c7": {
      "model_module": "@jupyter-widgets/controls",
      "model_module_version": "1.5.0",
      "model_name": "DropdownModel",
      "state": {
       "_options_labels": [
        "100",
        "187",
        "349",
        "653",
        "1222",
        "2286",
        "4276",
        "7996",
        "14954",
        "27964"
       ],
       "description": "max_feat",
       "index": 9,
       "layout": "IPY_MODEL_595fa4dfe7724f8c944a7e77393d7d2c",
       "style": "IPY_MODEL_68d829c70f284d81aaac7c509f57c032"
      }
     },
     "518a2f90effa48fa80ab68c66747531b": {
      "model_module": "@jupyter-widgets/base",
      "model_module_version": "1.2.0",
      "model_name": "LayoutModel",
      "state": {}
     },
     "5478b7eb1d96453c99d95ce66761763d": {
      "model_module": "@jupyter-widgets/base",
      "model_module_version": "1.2.0",
      "model_name": "LayoutModel",
      "state": {}
     },
     "595fa4dfe7724f8c944a7e77393d7d2c": {
      "model_module": "@jupyter-widgets/base",
      "model_module_version": "1.2.0",
      "model_name": "LayoutModel",
      "state": {}
     },
     "5aad478b26e24e90b91e6ffc39e1d3a5": {
      "model_module": "@jupyter-widgets/output",
      "model_module_version": "1.0.0",
      "model_name": "OutputModel",
      "state": {
       "layout": "IPY_MODEL_4f67cfe4f31d443d9d9f56e7f62c6e5a",
       "outputs": [
        {
         "data": {
          "image/png": "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\n",
          "text/plain": "<Figure size 432x288 with 1 Axes>"
         },
         "metadata": {
          "needs_background": "light"
         },
         "output_type": "display_data"
        }
       ]
      }
     },
     "5b932c4e12124b7093ab19b76de72d5f": {
      "model_module": "@jupyter-widgets/base",
      "model_module_version": "1.2.0",
      "model_name": "LayoutModel",
      "state": {}
     },
     "5dfd95a431794f8ba681cbb2f9b528f4": {
      "model_module": "@jupyter-widgets/controls",
      "model_module_version": "1.5.0",
      "model_name": "VBoxModel",
      "state": {
       "_dom_classes": [
        "widget-interact"
       ],
       "children": [
        "IPY_MODEL_13f9c77c802d4d5db66379a6bc499405",
        "IPY_MODEL_a5d39dad51524b838481691247cd98ce"
       ],
       "layout": "IPY_MODEL_d87bef2288594c15b80adb75376c827f"
      }
     },
     "5e51e2601ebb4c8e8a3adbb7191832cb": {
      "model_module": "@jupyter-widgets/controls",
      "model_module_version": "1.5.0",
      "model_name": "DescriptionStyleModel",
      "state": {
       "description_width": ""
      }
     },
     "610363921e0c4fa1acdcde088b7ed966": {
      "model_module": "@jupyter-widgets/base",
      "model_module_version": "1.2.0",
      "model_name": "LayoutModel",
      "state": {}
     },
     "625800d9045448cba341b460e9a71f69": {
      "model_module": "@jupyter-widgets/output",
      "model_module_version": "1.0.0",
      "model_name": "OutputModel",
      "state": {
       "layout": "IPY_MODEL_636d93c503794304aa094dadf9e67023",
       "outputs": [
        {
         "data": {
          "image/png": "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\n",
          "text/plain": "<Figure size 432x288 with 1 Axes>"
         },
         "metadata": {
          "needs_background": "light"
         },
         "output_type": "display_data"
        }
       ]
      }
     },
     "636d93c503794304aa094dadf9e67023": {
      "model_module": "@jupyter-widgets/base",
      "model_module_version": "1.2.0",
      "model_name": "LayoutModel",
      "state": {}
     },
     "648f4b404c79457a90c68d7e081090e1": {
      "model_module": "@jupyter-widgets/base",
      "model_module_version": "1.2.0",
      "model_name": "LayoutModel",
      "state": {}
     },
     "65b9142845944b14939202cf264da1b2": {
      "model_module": "@jupyter-widgets/base",
      "model_module_version": "1.2.0",
      "model_name": "LayoutModel",
      "state": {}
     },
     "67432f26b8d544a6911d2f96e7936056": {
      "model_module": "@jupyter-widgets/output",
      "model_module_version": "1.0.0",
      "model_name": "OutputModel",
      "state": {
       "layout": "IPY_MODEL_fee162a9ac264b39b14a2c8d44b6ec90",
       "outputs": [
        {
         "data": {
          "image/png": "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\n",
          "text/plain": "<Figure size 432x288 with 1 Axes>"
         },
         "metadata": {
          "needs_background": "light"
         },
         "output_type": "display_data"
        }
       ]
      }
     },
     "67add13aad8242a9bf744e6d7dbe9395": {
      "model_module": "@jupyter-widgets/base",
      "model_module_version": "1.2.0",
      "model_name": "LayoutModel",
      "state": {}
     },
     "68d829c70f284d81aaac7c509f57c032": {
      "model_module": "@jupyter-widgets/controls",
      "model_module_version": "1.5.0",
      "model_name": "DescriptionStyleModel",
      "state": {
       "description_width": ""
      }
     },
     "7116b9e1ece14ab38e1e03fbb7b5ad6b": {
      "model_module": "@jupyter-widgets/base",
      "model_module_version": "1.2.0",
      "model_name": "LayoutModel",
      "state": {}
     },
     "73eca581241546748b7bdf4c1e5ad7ad": {
      "model_module": "@jupyter-widgets/controls",
      "model_module_version": "1.5.0",
      "model_name": "DescriptionStyleModel",
      "state": {
       "description_width": ""
      }
     },
     "74e47e1883414a3e9cbb4ccecb7d2517": {
      "model_module": "@jupyter-widgets/base",
      "model_module_version": "1.2.0",
      "model_name": "LayoutModel",
      "state": {}
     },
     "75b5733f9e504842af31d60ed13247f9": {
      "model_module": "@jupyter-widgets/controls",
      "model_module_version": "1.5.0",
      "model_name": "DescriptionStyleModel",
      "state": {
       "description_width": ""
      }
     },
     "7ba795346ee94e0c934ed6b57284df8f": {
      "model_module": "@jupyter-widgets/output",
      "model_module_version": "1.0.0",
      "model_name": "OutputModel",
      "state": {
       "layout": "IPY_MODEL_610363921e0c4fa1acdcde088b7ed966",
       "outputs": [
        {
         "data": {
          "image/png": "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\n",
          "text/plain": "<Figure size 432x288 with 1 Axes>"
         },
         "metadata": {
          "needs_background": "light"
         },
         "output_type": "display_data"
        }
       ]
      }
     },
     "7ca62e6cb5fe45269b3b190ec7ffe392": {
      "model_module": "@jupyter-widgets/output",
      "model_module_version": "1.0.0",
      "model_name": "OutputModel",
      "state": {
       "layout": "IPY_MODEL_5478b7eb1d96453c99d95ce66761763d",
       "outputs": [
        {
         "data": {
          "image/png": "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\n",
          "text/plain": "<Figure size 432x288 with 1 Axes>"
         },
         "metadata": {
          "needs_background": "light"
         },
         "output_type": "display_data"
        }
       ]
      }
     },
     "801dae35d7c54ceab77810fe2b929565": {
      "model_module": "@jupyter-widgets/controls",
      "model_module_version": "1.5.0",
      "model_name": "DescriptionStyleModel",
      "state": {
       "description_width": ""
      }
     },
     "81433c1d0ff6493e9660c3a412441f28": {
      "model_module": "@jupyter-widgets/base",
      "model_module_version": "1.2.0",
      "model_name": "LayoutModel",
      "state": {}
     },
     "838d3b9b313644c8996d3908d11817df": {
      "model_module": "@jupyter-widgets/controls",
      "model_module_version": "1.5.0",
      "model_name": "VBoxModel",
      "state": {
       "_dom_classes": [
        "widget-interact"
       ],
       "children": [
        "IPY_MODEL_f0c2e34c92a5459da33c1180d8f9e1cf",
        "IPY_MODEL_4d473807d3dc49fdbf8fc47b9e51e88b"
       ],
       "layout": "IPY_MODEL_d76b38a236ee4575bda4106d72f49401"
      }
     },
     "8800a6f402ab49a19bcabe151f9b28d1": {
      "model_module": "@jupyter-widgets/base",
      "model_module_version": "1.2.0",
      "model_name": "LayoutModel",
      "state": {}
     },
     "89e2231392c54bfca61b8c158739e592": {
      "model_module": "@jupyter-widgets/base",
      "model_module_version": "1.2.0",
      "model_name": "LayoutModel",
      "state": {}
     },
     "8af79447e03d435d91727f86f60259b0": {
      "model_module": "@jupyter-widgets/controls",
      "model_module_version": "1.5.0",
      "model_name": "DropdownModel",
      "state": {
       "_options_labels": [
        "100",
        "180",
        "324",
        "584",
        "1053",
        "1898",
        "3419",
        "6161",
        "11100",
        "20000"
       ],
       "description": "max_feat",
       "index": 8,
       "layout": "IPY_MODEL_2931471e27764e1db6fce11af4ca2cea",
       "style": "IPY_MODEL_99e90cdb90ee4cfab5e5ea5c5bd552c4"
      }
     },
     "8bcfa6035fc146eca94f2c6b672d100d": {
      "model_module": "@jupyter-widgets/base",
      "model_module_version": "1.2.0",
      "model_name": "LayoutModel",
      "state": {}
     },
     "8c0f29ab7ad7426aad4e929113284288": {
      "model_module": "@jupyter-widgets/output",
      "model_module_version": "1.0.0",
      "model_name": "OutputModel",
      "state": {
       "layout": "IPY_MODEL_d7fc70d1eb7449a09c4c1f5739acbbc7",
       "outputs": [
        {
         "data": {
          "image/png": "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\n",
          "text/plain": "<Figure size 432x288 with 1 Axes>"
         },
         "metadata": {
          "needs_background": "light"
         },
         "output_type": "display_data"
        }
       ]
      }
     },
     "8c92678d7e6243ddbb298354629ea910": {
      "model_module": "@jupyter-widgets/controls",
      "model_module_version": "1.5.0",
      "model_name": "DropdownModel",
      "state": {
       "_options_labels": [
        "100",
        "200",
        "300",
        "400",
        "500",
        "600"
       ],
       "description": "max_feat",
       "index": 5,
       "layout": "IPY_MODEL_ecb3f1f448df41f693f3de4f4d41876e",
       "style": "IPY_MODEL_41d78295f5734503aae3fa16a844bbf8"
      }
     },
     "8daf15a66cc14be59e4c6f610690a4a9": {
      "model_module": "@jupyter-widgets/controls",
      "model_module_version": "1.5.0",
      "model_name": "VBoxModel",
      "state": {
       "_dom_classes": [
        "widget-interact"
       ],
       "children": [
        "IPY_MODEL_d6f9e43efcf941aa965b7951084fe680",
        "IPY_MODEL_7ba795346ee94e0c934ed6b57284df8f"
       ],
       "layout": "IPY_MODEL_12a2317253ec4c24ae671178b958e497"
      }
     },
     "907a0633cd88460abf6eb4fbb82dc554": {
      "model_module": "@jupyter-widgets/output",
      "model_module_version": "1.0.0",
      "model_name": "OutputModel",
      "state": {
       "layout": "IPY_MODEL_296de9e8bf3f4049a3237f65556f58bb",
       "outputs": [
        {
         "data": {
          "image/png": "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\n",
          "text/plain": "<Figure size 432x288 with 1 Axes>"
         },
         "metadata": {
          "needs_background": "light"
         },
         "output_type": "display_data"
        }
       ]
      }
     },
     "951453a3078740f0933f33078ea53c14": {
      "model_module": "@jupyter-widgets/controls",
      "model_module_version": "1.5.0",
      "model_name": "VBoxModel",
      "state": {
       "_dom_classes": [
        "widget-interact"
       ],
       "children": [
        "IPY_MODEL_ac84d76e49e54f069ffc0f7ce563f1ab",
        "IPY_MODEL_625800d9045448cba341b460e9a71f69"
       ],
       "layout": "IPY_MODEL_4ca8ca38e22b47d1929bf9e8b284085d"
      }
     },
     "9645beadbb8a4c60a792f812ad31291d": {
      "model_module": "@jupyter-widgets/controls",
      "model_module_version": "1.5.0",
      "model_name": "DropdownModel",
      "state": {
       "_options_labels": [
        "100",
        "1000",
        "5707"
       ],
       "description": "k",
       "index": 0,
       "layout": "IPY_MODEL_ed799d46ea834b44ba58158853e7d56c",
       "style": "IPY_MODEL_a02e079495bc4ec984c0087a85f54773"
      }
     },
     "97b78e278ebc487faa3cd2089018d6f4": {
      "model_module": "@jupyter-widgets/controls",
      "model_module_version": "1.5.0",
      "model_name": "VBoxModel",
      "state": {
       "_dom_classes": [
        "widget-interact"
       ],
       "children": [
        "IPY_MODEL_1376fb76351d47558ce2f0b96a6eb1bd",
        "IPY_MODEL_907a0633cd88460abf6eb4fbb82dc554"
       ],
       "layout": "IPY_MODEL_8bcfa6035fc146eca94f2c6b672d100d"
      }
     },
     "99e90cdb90ee4cfab5e5ea5c5bd552c4": {
      "model_module": "@jupyter-widgets/controls",
      "model_module_version": "1.5.0",
      "model_name": "DescriptionStyleModel",
      "state": {
       "description_width": ""
      }
     },
     "9a29dc6c271843c79e50c7d28b45c3b0": {
      "model_module": "@jupyter-widgets/output",
      "model_module_version": "1.0.0",
      "model_name": "OutputModel",
      "state": {
       "layout": "IPY_MODEL_b306bcae19dd41f885657fcfbd770353",
       "outputs": [
        {
         "data": {
          "image/png": "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\n",
          "text/plain": "<Figure size 432x288 with 1 Axes>"
         },
         "metadata": {
          "needs_background": "light"
         },
         "output_type": "display_data"
        }
       ]
      }
     },
     "9e10e2e4add54766b6e83f1aa3bacce7": {
      "model_module": "@jupyter-widgets/controls",
      "model_module_version": "1.5.0",
      "model_name": "DescriptionStyleModel",
      "state": {
       "description_width": ""
      }
     },
     "9e87267447e74c84b5f0d3546aae5338": {
      "model_module": "@jupyter-widgets/base",
      "model_module_version": "1.2.0",
      "model_name": "LayoutModel",
      "state": {}
     },
     "a02040ed5636486d9d839cf4e75c64dd": {
      "model_module": "@jupyter-widgets/controls",
      "model_module_version": "1.5.0",
      "model_name": "VBoxModel",
      "state": {
       "_dom_classes": [
        "widget-interact"
       ],
       "children": [
        "IPY_MODEL_8af79447e03d435d91727f86f60259b0",
        "IPY_MODEL_5aad478b26e24e90b91e6ffc39e1d3a5"
       ],
       "layout": "IPY_MODEL_bb510560c7ef45069cc224fbccfcd29a"
      }
     },
     "a02e079495bc4ec984c0087a85f54773": {
      "model_module": "@jupyter-widgets/controls",
      "model_module_version": "1.5.0",
      "model_name": "DescriptionStyleModel",
      "state": {
       "description_width": ""
      }
     },
     "a273d90d40ed4b26929e6b94ced80e78": {
      "model_module": "@jupyter-widgets/controls",
      "model_module_version": "1.5.0",
      "model_name": "DescriptionStyleModel",
      "state": {
       "description_width": ""
      }
     },
     "a5d39dad51524b838481691247cd98ce": {
      "model_module": "@jupyter-widgets/output",
      "model_module_version": "1.0.0",
      "model_name": "OutputModel",
      "state": {
       "layout": "IPY_MODEL_518a2f90effa48fa80ab68c66747531b",
       "outputs": [
        {
         "data": {
          "image/png": "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\n",
          "text/plain": "<Figure size 432x288 with 1 Axes>"
         },
         "metadata": {
          "needs_background": "light"
         },
         "output_type": "display_data"
        }
       ]
      }
     },
     "ac84d76e49e54f069ffc0f7ce563f1ab": {
      "model_module": "@jupyter-widgets/controls",
      "model_module_version": "1.5.0",
      "model_name": "DropdownModel",
      "state": {
       "_options_labels": [
        "100",
        "200",
        "300",
        "400",
        "500",
        "600"
       ],
       "description": "max_feat",
       "index": 1,
       "layout": "IPY_MODEL_8800a6f402ab49a19bcabe151f9b28d1",
       "style": "IPY_MODEL_eccdb6e144e347ca8c0a00ba4d7b8106"
      }
     },
     "ae35b84061354062b2dea46943df16ce": {
      "model_module": "@jupyter-widgets/controls",
      "model_module_version": "1.5.0",
      "model_name": "DropdownModel",
      "state": {
       "_options_labels": [
        "100",
        "200",
        "300",
        "400",
        "500",
        "600"
       ],
       "description": "max_feat",
       "index": 5,
       "layout": "IPY_MODEL_2b67c1794f0a4ddfb9e53e2271357798",
       "style": "IPY_MODEL_d9d158af6f94474eb35dad11e0d7ffd9"
      }
     },
     "aff59599b85f42a180b75e9e6240cbc5": {
      "model_module": "@jupyter-widgets/controls",
      "model_module_version": "1.5.0",
      "model_name": "DescriptionStyleModel",
      "state": {
       "description_width": ""
      }
     },
     "b306bcae19dd41f885657fcfbd770353": {
      "model_module": "@jupyter-widgets/base",
      "model_module_version": "1.2.0",
      "model_name": "LayoutModel",
      "state": {}
     },
     "b333f47978174434819a7167a62f2dae": {
      "model_module": "@jupyter-widgets/base",
      "model_module_version": "1.2.0",
      "model_name": "LayoutModel",
      "state": {}
     },
     "b5dec0b084164d8f85b3d45d663d44b9": {
      "model_module": "@jupyter-widgets/base",
      "model_module_version": "1.2.0",
      "model_name": "LayoutModel",
      "state": {}
     },
     "b67ddf3c45e74ca9871dfbddc3626e2b": {
      "model_module": "@jupyter-widgets/output",
      "model_module_version": "1.0.0",
      "model_name": "OutputModel",
      "state": {
       "layout": "IPY_MODEL_ed79659822644f34a2b80376d2c70d03",
       "outputs": [
        {
         "data": {
          "image/png": "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\n",
          "text/plain": "<Figure size 432x288 with 1 Axes>"
         },
         "metadata": {
          "needs_background": "light"
         },
         "output_type": "display_data"
        }
       ]
      }
     },
     "bb510560c7ef45069cc224fbccfcd29a": {
      "model_module": "@jupyter-widgets/base",
      "model_module_version": "1.2.0",
      "model_name": "LayoutModel",
      "state": {}
     },
     "bf4ddddf716c4bf3858b75d37ff72022": {
      "model_module": "@jupyter-widgets/controls",
      "model_module_version": "1.5.0",
      "model_name": "VBoxModel",
      "state": {
       "_dom_classes": [
        "widget-interact"
       ],
       "children": [
        "IPY_MODEL_1a1fe49a6d48428b8fc377ec5cfacce5",
        "IPY_MODEL_08b722ca247941509d88120fdb465321"
       ],
       "layout": "IPY_MODEL_4989f4ce5e7b45c8ab206fc0cd92b8f3"
      }
     },
     "c1880b2c10b34b078e93cb21e5b64b78": {
      "model_module": "@jupyter-widgets/base",
      "model_module_version": "1.2.0",
      "model_name": "LayoutModel",
      "state": {}
     },
     "c7e1911ca12842708bda21babd91f821": {
      "model_module": "@jupyter-widgets/controls",
      "model_module_version": "1.5.0",
      "model_name": "DropdownModel",
      "state": {
       "_options_labels": [
        "100",
        "200",
        "300",
        "400",
        "500",
        "600"
       ],
       "description": "max_feat",
       "index": 4,
       "layout": "IPY_MODEL_b5dec0b084164d8f85b3d45d663d44b9",
       "style": "IPY_MODEL_187d9efb7c684d539f44e72889d41803"
      }
     },
     "c8889a4dbed049e6bad0b521514c70dc": {
      "model_module": "@jupyter-widgets/controls",
      "model_module_version": "1.5.0",
      "model_name": "DropdownModel",
      "state": {
       "_options_labels": [
        "100",
        "156",
        "245",
        "385",
        "603",
        "945",
        "1482",
        "2323",
        "3641",
        "5707"
       ],
       "description": "k",
       "index": 9,
       "layout": "IPY_MODEL_3fa090d588b64571a05cdaed2e1f2c78",
       "style": "IPY_MODEL_aff59599b85f42a180b75e9e6240cbc5"
      }
     },
     "d43e3b4045db452795b9edbd88b334d9": {
      "model_module": "@jupyter-widgets/controls",
      "model_module_version": "1.5.0",
      "model_name": "DescriptionStyleModel",
      "state": {
       "description_width": ""
      }
     },
     "d48ba077e3774c12acea555857350e1a": {
      "model_module": "@jupyter-widgets/controls",
      "model_module_version": "1.5.0",
      "model_name": "VBoxModel",
      "state": {
       "_dom_classes": [
        "widget-interact"
       ],
       "children": [
        "IPY_MODEL_366950e207b14348af8fdd929eee10e3",
        "IPY_MODEL_67432f26b8d544a6911d2f96e7936056"
       ],
       "layout": "IPY_MODEL_39a6ea7aa65e4004bf014c047a2d2030"
      }
     },
     "d5c85ffdf17e486eb1c6bced6183622c": {
      "model_module": "@jupyter-widgets/controls",
      "model_module_version": "1.5.0",
      "model_name": "VBoxModel",
      "state": {
       "_dom_classes": [
        "widget-interact"
       ],
       "children": [
        "IPY_MODEL_50d8fbbff3804700bb84ef15a35e45c7",
        "IPY_MODEL_9a29dc6c271843c79e50c7d28b45c3b0"
       ],
       "layout": "IPY_MODEL_0eeb4762ca1d4c63816dd73d453df795"
      }
     },
     "d6f9e43efcf941aa965b7951084fe680": {
      "model_module": "@jupyter-widgets/controls",
      "model_module_version": "1.5.0",
      "model_name": "DropdownModel",
      "state": {
       "_options_labels": [
        "100",
        "187",
        "349",
        "653",
        "1222",
        "2286",
        "4276",
        "7996",
        "14954",
        "27964"
       ],
       "description": "max_feat",
       "index": 9,
       "layout": "IPY_MODEL_b333f47978174434819a7167a62f2dae",
       "style": "IPY_MODEL_75b5733f9e504842af31d60ed13247f9"
      }
     },
     "d76b38a236ee4575bda4106d72f49401": {
      "model_module": "@jupyter-widgets/base",
      "model_module_version": "1.2.0",
      "model_name": "LayoutModel",
      "state": {}
     },
     "d7fc70d1eb7449a09c4c1f5739acbbc7": {
      "model_module": "@jupyter-widgets/base",
      "model_module_version": "1.2.0",
      "model_name": "LayoutModel",
      "state": {}
     },
     "d87bef2288594c15b80adb75376c827f": {
      "model_module": "@jupyter-widgets/base",
      "model_module_version": "1.2.0",
      "model_name": "LayoutModel",
      "state": {}
     },
     "d8b74c5deb77450b85ba2c9487f39f7d": {
      "model_module": "@jupyter-widgets/controls",
      "model_module_version": "1.5.0",
      "model_name": "VBoxModel",
      "state": {
       "_dom_classes": [
        "widget-interact"
       ],
       "children": [
        "IPY_MODEL_1829921b4f724d5ab7498df11ae401d4",
        "IPY_MODEL_b67ddf3c45e74ca9871dfbddc3626e2b"
       ],
       "layout": "IPY_MODEL_dc81be2736464e2b950c38c22b6e88d5"
      }
     },
     "d9d158af6f94474eb35dad11e0d7ffd9": {
      "model_module": "@jupyter-widgets/controls",
      "model_module_version": "1.5.0",
      "model_name": "DescriptionStyleModel",
      "state": {
       "description_width": ""
      }
     },
     "d9ecc126c9bc461e9bfdb6f80d2ba529": {
      "model_module": "@jupyter-widgets/controls",
      "model_module_version": "1.5.0",
      "model_name": "DropdownModel",
      "state": {
       "_options_labels": [
        "100",
        "187",
        "349",
        "653",
        "1222",
        "2286",
        "4276",
        "7996",
        "14954",
        "27964"
       ],
       "description": "max_feat",
       "index": 8,
       "layout": "IPY_MODEL_faa4c58039cf4240b46fe63fe6d7430a",
       "style": "IPY_MODEL_5e51e2601ebb4c8e8a3adbb7191832cb"
      }
     },
     "db5b996f351142188f25292491c884c6": {
      "model_module": "@jupyter-widgets/controls",
      "model_module_version": "1.5.0",
      "model_name": "VBoxModel",
      "state": {
       "_dom_classes": [
        "widget-interact"
       ],
       "children": [
        "IPY_MODEL_c7e1911ca12842708bda21babd91f821",
        "IPY_MODEL_1bd0443e512f452f9887216c30b78d1b"
       ],
       "layout": "IPY_MODEL_160223b2f0ad41a094aad396bb43d941"
      }
     },
     "dc81be2736464e2b950c38c22b6e88d5": {
      "model_module": "@jupyter-widgets/base",
      "model_module_version": "1.2.0",
      "model_name": "LayoutModel",
      "state": {}
     },
     "ddca7f82cc3f4f03b1415a225d309482": {
      "model_module": "@jupyter-widgets/output",
      "model_module_version": "1.0.0",
      "model_name": "OutputModel",
      "state": {
       "layout": "IPY_MODEL_81433c1d0ff6493e9660c3a412441f28",
       "outputs": [
        {
         "data": {
          "image/png": "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\n",
          "text/plain": "<Figure size 432x288 with 1 Axes>"
         },
         "metadata": {
          "needs_background": "light"
         },
         "output_type": "display_data"
        }
       ]
      }
     },
     "e9b4cda387634d54bb65d6cfe53eabaa": {
      "model_module": "@jupyter-widgets/output",
      "model_module_version": "1.0.0",
      "model_name": "OutputModel",
      "state": {
       "layout": "IPY_MODEL_89e2231392c54bfca61b8c158739e592",
       "outputs": [
        {
         "data": {
          "image/png": "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\n",
          "text/plain": "<Figure size 432x288 with 1 Axes>"
         },
         "metadata": {
          "needs_background": "light"
         },
         "output_type": "display_data"
        }
       ]
      }
     },
     "eba392d4542941a58cfd55ae89e3a992": {
      "model_module": "@jupyter-widgets/base",
      "model_module_version": "1.2.0",
      "model_name": "LayoutModel",
      "state": {}
     },
     "ecb3f1f448df41f693f3de4f4d41876e": {
      "model_module": "@jupyter-widgets/base",
      "model_module_version": "1.2.0",
      "model_name": "LayoutModel",
      "state": {}
     },
     "eccdb6e144e347ca8c0a00ba4d7b8106": {
      "model_module": "@jupyter-widgets/controls",
      "model_module_version": "1.5.0",
      "model_name": "DescriptionStyleModel",
      "state": {
       "description_width": ""
      }
     },
     "ed79659822644f34a2b80376d2c70d03": {
      "model_module": "@jupyter-widgets/base",
      "model_module_version": "1.2.0",
      "model_name": "LayoutModel",
      "state": {}
     },
     "ed799d46ea834b44ba58158853e7d56c": {
      "model_module": "@jupyter-widgets/base",
      "model_module_version": "1.2.0",
      "model_name": "LayoutModel",
      "state": {}
     },
     "ee42ba64a80b48da89e2b76dae2a60a9": {
      "model_module": "@jupyter-widgets/output",
      "model_module_version": "1.0.0",
      "model_name": "OutputModel",
      "state": {
       "layout": "IPY_MODEL_9e87267447e74c84b5f0d3546aae5338",
       "outputs": [
        {
         "data": {
          "image/png": "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\n",
          "text/plain": "<Figure size 432x288 with 1 Axes>"
         },
         "metadata": {
          "needs_background": "light"
         },
         "output_type": "display_data"
        }
       ]
      }
     },
     "f0c2e34c92a5459da33c1180d8f9e1cf": {
      "model_module": "@jupyter-widgets/controls",
      "model_module_version": "1.5.0",
      "model_name": "DropdownModel",
      "state": {
       "_options_labels": [
        "100",
        "187",
        "349",
        "653",
        "1222",
        "2286",
        "4276",
        "7996",
        "14954",
        "27964"
       ],
       "description": "max_feat",
       "index": 7,
       "layout": "IPY_MODEL_44316141764e4ca2ada01478ac6e7583",
       "style": "IPY_MODEL_d43e3b4045db452795b9edbd88b334d9"
      }
     },
     "f3c22aa900184f249fecb913ca083146": {
      "model_module": "@jupyter-widgets/controls",
      "model_module_version": "1.5.0",
      "model_name": "VBoxModel",
      "state": {
       "_dom_classes": [
        "widget-interact"
       ],
       "children": [
        "IPY_MODEL_0b147c03b0c847b1b7f5ffa34632e59b",
        "IPY_MODEL_ee42ba64a80b48da89e2b76dae2a60a9"
       ],
       "layout": "IPY_MODEL_648f4b404c79457a90c68d7e081090e1"
      }
     },
     "faa4c58039cf4240b46fe63fe6d7430a": {
      "model_module": "@jupyter-widgets/base",
      "model_module_version": "1.2.0",
      "model_name": "LayoutModel",
      "state": {}
     },
     "fcc673ee7c904898814f6bb8a273cf34": {
      "model_module": "@jupyter-widgets/controls",
      "model_module_version": "1.5.0",
      "model_name": "VBoxModel",
      "state": {
       "_dom_classes": [
        "widget-interact"
       ],
       "children": [
        "IPY_MODEL_d9ecc126c9bc461e9bfdb6f80d2ba529",
        "IPY_MODEL_7ca62e6cb5fe45269b3b190ec7ffe392"
       ],
       "layout": "IPY_MODEL_14dd5817b2e24ace9efb813efa489f22"
      }
     },
     "fe4228e35fd14e47bf1827f5a2559b76": {
      "model_module": "@jupyter-widgets/base",
      "model_module_version": "1.2.0",
      "model_name": "LayoutModel",
      "state": {}
     },
     "fee162a9ac264b39b14a2c8d44b6ec90": {
      "model_module": "@jupyter-widgets/base",
      "model_module_version": "1.2.0",
      "model_name": "LayoutModel",
      "state": {}
     }
    },
    "version_major": 2,
    "version_minor": 0
   }
  }
 },
 "nbformat": 4,
 "nbformat_minor": 2
}
